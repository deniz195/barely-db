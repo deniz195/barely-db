{
 "cells": [
  {
   "cell_type": "markdown",
   "metadata": {},
   "source": [
    "# Import modules"
   ]
  },
  {
   "cell_type": "code",
   "execution_count": 439,
   "metadata": {},
   "outputs": [
    {
     "name": "stderr",
     "output_type": "stream",
     "text": [
      "DEBUG:matplotlib.backends:backend module://ipykernel.pylab.backend_inline version unknown\n"
     ]
    }
   ],
   "source": [
    "# Import extensions\n",
    "import sys \n",
    "import numpy as np\n",
    "import matplotlib.pyplot as plt\n",
    "%matplotlib inline\n",
    "from pathlib import Path\n",
    "from IPython.display import FileLink, FileLinks\n",
    "# FileLinks('.') #lists all downloadable files on server"
   ]
  },
  {
   "cell_type": "code",
   "execution_count": 440,
   "metadata": {},
   "outputs": [
    {
     "name": "stderr",
     "output_type": "stream",
     "text": [
      "INFO:barely_db:Reloading module barely_db\n"
     ]
    }
   ],
   "source": [
    "# sys.path.append('.')\n",
    "import barely_db\n",
    "barely_db._reload_module()\n",
    "from barely_db import *\n",
    "# test_BUID()"
   ]
  },
  {
   "cell_type": "code",
   "execution_count": 441,
   "metadata": {},
   "outputs": [],
   "source": [
    "import logging\n",
    "logging.basicConfig(level=logging.DEBUG)"
   ]
  },
  {
   "cell_type": "markdown",
   "metadata": {
    "heading_collapsed": true
   },
   "source": [
    "## BUID parsing"
   ]
  },
  {
   "cell_type": "code",
   "execution_count": 257,
   "metadata": {
    "hidden": true
   },
   "outputs": [],
   "source": [
    "# ??test_BUID"
   ]
  },
  {
   "cell_type": "code",
   "execution_count": 132,
   "metadata": {
    "hidden": true
   },
   "outputs": [
    {
     "name": "stderr",
     "output_type": "stream",
     "text": [
      "WARNING:barely_db:More than one valid buid found in XasfwX_sl293_sl333__Y (['SL0333', 'SL0293']!\n",
      "WARNING:barely_db:No valid buid found in lorem ipsum\n",
      "WARNING:barely_db:No valid buid found in WB0252\n",
      "WARNING:barely_db:More than one valid buid found in XasfwX_sl293_sl333_dp241_sl333_dp241_Y (['SL0333', 'SL0293']!\n"
     ]
    },
    {
     "name": "stdout",
     "output_type": "stream",
     "text": [
      "BUID('SL0293')\n",
      "SL0293\n",
      "Normal BUID parsing:\n",
      "XasfwX_sl293_sl293__Y --> SL0293\n",
      "XasfwX_sl293_sl333__Y --> None\n",
      "lorem ipsum --> None\n",
      "SL000293 --> SL0029\n",
      "WB0251 --> WB0251\n",
      "WB0252-D2 --> WB0252-D2\n",
      "WB0252-AFD2 --> WB0252\n",
      "WB0252-AFD21231451 --> WB0252\n",
      "Only components:\n",
      "WB0252-D2 --> D2\n",
      "CL0152-N50 --> N50\n",
      "WB0252 --> None\n",
      "No components:\n",
      "WB0252-D2 --> WB0252\n",
      "WB0252 --> WB0252\n",
      "XasfwX_sl293_sl333_dp241_sl333_dp241_Y --> ['SL0293', 'SL0333', 'SL0333']\n",
      "XasfwX_sl293_sl333_dp241_sl333_dp241_Y --> ['SL0293', 'SL0333', 'DP0241', 'SL0333', 'DP0241']\n",
      "XasfwX_sl293_sl333_dp241_sl333_dp241_Y --> ['SL0333', 'SL0293']\n",
      "XasfwX_sl293_sl333_dp241_sl333_dp241_Y --> ['SL0333', 'SL0293', 'DP0241']\n",
      "XasfwX_sl293_sl333_dp241_sl333_dp241_Y --> SL0293\n",
      "XasfwX_sl293_sl333_dp241_sl333_dp241_Y --> SL0333\n",
      "XasfwX_sl293_sl333_dp241_sl333_dp241_Y --> DP0241\n",
      "XasfwX_sl293_sl333_dp241_sl333_dp241_Y --> None\n"
     ]
    }
   ],
   "source": [
    "test_BUID()"
   ]
  },
  {
   "cell_type": "markdown",
   "metadata": {},
   "source": [
    "## BarelyDB Basic tests"
   ]
  },
  {
   "cell_type": "code",
   "execution_count": 442,
   "metadata": {},
   "outputs": [],
   "source": [
    "# bdb = BarelyDB(Path('../..'))\n",
    "# bdb.load_entities()"
   ]
  },
  {
   "cell_type": "code",
   "execution_count": 443,
   "metadata": {},
   "outputs": [
    {
     "name": "stderr",
     "output_type": "stream",
     "text": [
      "INFO:barely_db:Entities found: 1069\n"
     ]
    }
   ],
   "source": [
    "bdb = BarelyDB(Path('../..'), path_depth=1)\n",
    "bdb.load_entities()"
   ]
  },
  {
   "cell_type": "code",
   "execution_count": 444,
   "metadata": {},
   "outputs": [],
   "source": [
    "bdb.entities;"
   ]
  },
  {
   "cell_type": "code",
   "execution_count": 445,
   "metadata": {},
   "outputs": [
    {
     "data": {
      "text/plain": [
       "WindowsPath('G:/My Drive/Battrion_AG/DATABASE/Slurries/SL0201_Rochester_Power_NCA _coating')"
      ]
     },
     "execution_count": 445,
     "metadata": {},
     "output_type": "execute_result"
    }
   ],
   "source": [
    "bdb.get_entity_path('SL00201')"
   ]
  },
  {
   "cell_type": "code",
   "execution_count": 446,
   "metadata": {},
   "outputs": [
    {
     "data": {
      "text/plain": [
       "['G:\\\\My Drive\\\\Battrion_AG\\\\DATABASE\\\\Slurries\\\\SL0201_Rochester_Power_NCA _coating\\\\RunSheet_Slurry_SL0200_CHA_rev001.xlsx',\n",
       " 'G:\\\\My Drive\\\\Battrion_AG\\\\DATABASE\\\\Slurries\\\\SL0201_Rochester_Power_NCA _coating\\\\~$RunSheet_Slurry_SL0179_CHA_rev003.xlsx']"
      ]
     },
     "execution_count": 446,
     "metadata": {},
     "output_type": "execute_result"
    }
   ],
   "source": [
    "bdb.get_entity_files('SL00201', '*')"
   ]
  },
  {
   "cell_type": "code",
   "execution_count": 447,
   "metadata": {},
   "outputs": [
    {
     "name": "stderr",
     "output_type": "stream",
     "text": [
      "WARNING:barely_db:No valid buid found in SL00201\n"
     ]
    },
    {
     "data": {
      "text/plain": [
       "['G:\\\\My Drive\\\\Battrion_AG\\\\DATABASE\\\\Slurries\\\\SL0201_Rochester_Power_NCA _coating\\\\RunSheet_Slurry_SL0200_CHA_rev001.xlsx',\n",
       " 'G:\\\\My Drive\\\\Battrion_AG\\\\DATABASE\\\\Slurries\\\\SL0201_Rochester_Power_NCA _coating\\\\~$RunSheet_Slurry_SL0179_CHA_rev003.xlsx']"
      ]
     },
     "execution_count": 447,
     "metadata": {},
     "output_type": "execute_result"
    }
   ],
   "source": [
    "ent = BarelyDBEntity('SL00201', bdb)\n",
    "ent.get_entity_files('*')"
   ]
  },
  {
   "cell_type": "markdown",
   "metadata": {
    "heading_collapsed": true
   },
   "source": [
    "## Components"
   ]
  },
  {
   "cell_type": "code",
   "execution_count": 368,
   "metadata": {
    "hidden": true
   },
   "outputs": [
    {
     "name": "stdout",
     "output_type": "stream",
     "text": [
      "WB0215\n",
      "Q21\n"
     ]
    },
    {
     "data": {
      "text/plain": [
       "['G:\\\\My Drive\\\\Battrion_AG\\\\DATABASE\\\\Webs\\\\WB0215_BMW_Anode_AGT\\\\SnR_Elec_revT006_WB0215_rev009.docx']"
      ]
     },
     "execution_count": 368,
     "metadata": {},
     "output_type": "execute_result"
    }
   ],
   "source": [
    "# Components are not entities\n",
    "ent = BarelyDBEntity('WB0215-Q21', bdb)\n",
    "print(ent.buid)\n",
    "print(ent.component)\n",
    "ent.get_entity_files('*SnR*')"
   ]
  },
  {
   "cell_type": "code",
   "execution_count": 369,
   "metadata": {
    "hidden": true
   },
   "outputs": [
    {
     "data": {
      "text/plain": [
       "\"BarelyDBEntity('WB0215-Q21')\""
      ]
     },
     "execution_count": 369,
     "metadata": {},
     "output_type": "execute_result"
    }
   ],
   "source": [
    "repr(ent)"
   ]
  },
  {
   "cell_type": "code",
   "execution_count": 370,
   "metadata": {
    "hidden": true
   },
   "outputs": [
    {
     "name": "stderr",
     "output_type": "stream",
     "text": [
      "INFO:barely_db:Components for WB0215 found: 4\n"
     ]
    },
    {
     "data": {
      "text/plain": [
       "['entity_path',\n",
       " 'component_paths',\n",
       " 'components',\n",
       " 'WB0215_Loading_CW_T14.property.json',\n",
       " 'WB0215_Loading_T14_5gap.property.json',\n",
       " 'WB0215_Loading_CW_T99-after-cleaning.property.json',\n",
       " 'WB0215_Loading_5gap_T99.property.json']"
      ]
     },
     "execution_count": 370,
     "metadata": {},
     "output_type": "execute_result"
    }
   ],
   "source": [
    "props = ent.get_entity_properties()\n",
    "list(props.keys())"
   ]
  },
  {
   "cell_type": "code",
   "execution_count": 371,
   "metadata": {
    "hidden": true
   },
   "outputs": [
    {
     "data": {
      "text/plain": [
       "{'Q21': WindowsPath('G:/My Drive/Battrion_AG/DATABASE/Webs/WB0215_BMW_Anode_AGT/-Q21'),\n",
       " 'Q22': WindowsPath('G:/My Drive/Battrion_AG/DATABASE/Webs/WB0215_BMW_Anode_AGT/-Q22'),\n",
       " 'T99': WindowsPath('G:/My Drive/Battrion_AG/DATABASE/Webs/WB0215_BMW_Anode_AGT/-T99_not_existent'),\n",
       " 'T98': WindowsPath('G:/My Drive/Battrion_AG/DATABASE/Webs/WB0215_BMW_Anode_AGT/-T98')}"
      ]
     },
     "execution_count": 371,
     "metadata": {},
     "output_type": "execute_result"
    }
   ],
   "source": [
    "aa = props['component_paths']\n",
    "aa"
   ]
  },
  {
   "cell_type": "code",
   "execution_count": 372,
   "metadata": {
    "hidden": true
   },
   "outputs": [
    {
     "data": {
      "text/plain": [
       "{'Q21': WindowsPath('G:/My Drive/Battrion_AG/DATABASE/Webs/WB0215_BMW_Anode_AGT/-Q21'),\n",
       " 'Q22': WindowsPath('G:/My Drive/Battrion_AG/DATABASE/Webs/WB0215_BMW_Anode_AGT/-Q22'),\n",
       " 'T99': WindowsPath('G:/My Drive/Battrion_AG/DATABASE/Webs/WB0215_BMW_Anode_AGT/-T99_not_existent'),\n",
       " 'T98': WindowsPath('G:/My Drive/Battrion_AG/DATABASE/Webs/WB0215_BMW_Anode_AGT/-T98')}"
      ]
     },
     "execution_count": 372,
     "metadata": {},
     "output_type": "execute_result"
    }
   ],
   "source": [
    "ent.get_component_paths()"
   ]
  },
  {
   "cell_type": "code",
   "execution_count": 373,
   "metadata": {
    "hidden": true
   },
   "outputs": [
    {
     "name": "stderr",
     "output_type": "stream",
     "text": [
      "WARNING:barely_db:Component path already exists! G:\\My Drive\\Battrion_AG\\DATABASE\\Webs\\WB0215_BMW_Anode_AGT\\-T99_not_existent\n"
     ]
    }
   ],
   "source": [
    "ent.create_component_path('T99', 'not_existent')"
   ]
  },
  {
   "cell_type": "code",
   "execution_count": 374,
   "metadata": {
    "hidden": true
   },
   "outputs": [
    {
     "name": "stderr",
     "output_type": "stream",
     "text": [
      "WARNING:barely_db:Component path already exists! G:\\My Drive\\Battrion_AG\\DATABASE\\Webs\\WB0215_BMW_Anode_AGT\\-T98\n"
     ]
    }
   ],
   "source": [
    "ent.create_component_path('T98')"
   ]
  },
  {
   "cell_type": "code",
   "execution_count": 375,
   "metadata": {
    "hidden": true
   },
   "outputs": [
    {
     "data": {
      "text/plain": [
       "{'Q21': WindowsPath('G:/My Drive/Battrion_AG/DATABASE/Webs/WB0215_BMW_Anode_AGT/-Q21'),\n",
       " 'Q22': WindowsPath('G:/My Drive/Battrion_AG/DATABASE/Webs/WB0215_BMW_Anode_AGT/-Q22'),\n",
       " 'T99': WindowsPath('G:/My Drive/Battrion_AG/DATABASE/Webs/WB0215_BMW_Anode_AGT/-T99_not_existent'),\n",
       " 'T98': WindowsPath('G:/My Drive/Battrion_AG/DATABASE/Webs/WB0215_BMW_Anode_AGT/-T98')}"
      ]
     },
     "execution_count": 375,
     "metadata": {},
     "output_type": "execute_result"
    }
   ],
   "source": [
    "ent.get_component_paths()"
   ]
  },
  {
   "cell_type": "code",
   "execution_count": 376,
   "metadata": {
    "hidden": true
   },
   "outputs": [
    {
     "data": {
      "text/plain": [
       "WindowsPath('G:/My Drive/Battrion_AG/DATABASE/Webs/WB0215_BMW_Anode_AGT/-T99_not_existent')"
      ]
     },
     "execution_count": 376,
     "metadata": {},
     "output_type": "execute_result"
    }
   ],
   "source": [
    "ent.get_component_path('T99')"
   ]
  },
  {
   "cell_type": "code",
   "execution_count": 377,
   "metadata": {
    "hidden": true
   },
   "outputs": [
    {
     "data": {
      "text/plain": [
       "WindowsPath('G:/My Drive/Battrion_AG/DATABASE/Webs/WB0215_BMW_Anode_AGT')"
      ]
     },
     "execution_count": 377,
     "metadata": {},
     "output_type": "execute_result"
    }
   ],
   "source": [
    "pp = ent.get_entity_path()\n",
    "pp"
   ]
  },
  {
   "cell_type": "code",
   "execution_count": 378,
   "metadata": {
    "hidden": true
   },
   "outputs": [],
   "source": [
    "component_path = pp.joinpath('-Q22')\n",
    "component_path.mkdir(parents=False, exist_ok=True)"
   ]
  },
  {
   "cell_type": "markdown",
   "metadata": {},
   "source": [
    "## FileManager"
   ]
  },
  {
   "cell_type": "code",
   "execution_count": 448,
   "metadata": {},
   "outputs": [
    {
     "name": "stdout",
     "output_type": "stream",
     "text": [
      "WB0215\n",
      "Q21\n"
     ]
    }
   ],
   "source": [
    "# Components are not entities\n",
    "ent = BarelyDBEntity('WB0215-Q21', bdb)\n",
    "print(ent.buid)\n",
    "print(ent.component)"
   ]
  },
  {
   "cell_type": "code",
   "execution_count": 449,
   "metadata": {},
   "outputs": [
    {
     "data": {
      "text/plain": [
       "'Q21'"
      ]
     },
     "execution_count": 449,
     "metadata": {},
     "output_type": "execute_result"
    }
   ],
   "source": [
    "ent.component"
   ]
  },
  {
   "cell_type": "code",
   "execution_count": 450,
   "metadata": {},
   "outputs": [
    {
     "name": "stderr",
     "output_type": "stream",
     "text": [
      "INFO:barely_db:Components for WB0215 found: 4\n"
     ]
    },
    {
     "data": {
      "text/plain": [
       "[WindowsPath('G:/My Drive/Battrion_AG/DATABASE/Webs/WB0215_BMW_Anode_AGT/-Q21')]"
      ]
     },
     "execution_count": 450,
     "metadata": {},
     "output_type": "execute_result"
    }
   ],
   "source": [
    "fm = ent.make_file_manager('Q21')\n",
    "fm.raw_path"
   ]
  },
  {
   "cell_type": "code",
   "execution_count": 451,
   "metadata": {},
   "outputs": [
    {
     "name": "stderr",
     "output_type": "stream",
     "text": [
      "WARNING:barely_db:No valid buid found in WB0215\n"
     ]
    },
    {
     "data": {
      "text/plain": [
       "[WindowsPath('G:/My Drive/Battrion_AG/DATABASE/Webs/WB0215_BMW_Anode_AGT')]"
      ]
     },
     "execution_count": 451,
     "metadata": {},
     "output_type": "execute_result"
    }
   ],
   "source": [
    "fm = BarelyDBEntity('WB0215', bdb).make_file_manager()\n",
    "fm.raw_path"
   ]
  },
  {
   "cell_type": "code",
   "execution_count": 456,
   "metadata": {},
   "outputs": [
    {
     "data": {
      "text/plain": [
       "[WindowsPath('G:/My Drive/Battrion_AG/DATABASE/Webs/WB0215_BMW_Anode_AGT/-Q21')]"
      ]
     },
     "execution_count": 456,
     "metadata": {},
     "output_type": "execute_result"
    }
   ],
   "source": [
    "fm = BarelyDBEntity('WB0215-Q21', bdb).make_file_manager()\n",
    "fm.raw_path"
   ]
  },
  {
   "cell_type": "code",
   "execution_count": 457,
   "metadata": {},
   "outputs": [
    {
     "data": {
      "text/plain": [
       "WindowsPath('G:/My Drive/Battrion_AG/DATABASE/Webs/WB0215_BMW_Anode_AGT/-Q21/export')"
      ]
     },
     "execution_count": 457,
     "metadata": {},
     "output_type": "execute_result"
    }
   ],
   "source": [
    "fm = BarelyDBEntity('WB0215-Q21', bdb).make_file_manager(export_path='./export')\n",
    "fm.export_path"
   ]
  },
  {
   "cell_type": "markdown",
   "metadata": {},
   "source": [
    "## Properties"
   ]
  },
  {
   "cell_type": "code",
   "execution_count": 54,
   "metadata": {},
   "outputs": [
    {
     "name": "stderr",
     "output_type": "stream",
     "text": [
      "WARNING:barely_db:Property file has no buid specification SL338_recipe_INVALID.property.json!\n",
      "WARNING:barely_db:Property file has no source specification SL338_recipe_INVALID.property.json!\n",
      "WARNING:barely_db:Multiple sources for w_cb in entity SL0338, even after filtering with preferred_property_files! Please, remove entries from preferred_property_files to lift this ambiguity! Found sources follow below:\n",
      "WARNING:barely_db:{\n",
      "    \"w_cb\": 0.0,\n",
      "    \"property_file\": \"SL338_recipe.property.json\",\n",
      "    \"source\": \"manual from 181009_SL0338_Batches_combined_dilution.xlsx\"\n",
      "}\n",
      "WARNING:barely_db:{\n",
      "    \"w_cb\": 0.0,\n",
      "    \"property_file\": \"SL338_recipe_INVALID.property.json\",\n",
      "    \"source\": \"Unknown source!\"\n",
      "}\n"
     ]
    }
   ],
   "source": [
    "# ambiguity can occur!\n",
    "bdb.clear_preferred_files()\n",
    "bdb.query_property('SL338', 'w_cb')"
   ]
  },
  {
   "cell_type": "code",
   "execution_count": 142,
   "metadata": {},
   "outputs": [
    {
     "data": {
      "text/plain": [
       "SourcedItem(name='w_cb', value=0.0, property_file='SL338_recipe.property.json', source='manual from 181009_SL0338_Batches_combined_dilution.xlsx')"
      ]
     },
     "execution_count": 142,
     "metadata": {},
     "output_type": "execute_result"
    }
   ],
   "source": [
    "# ambiguity can be relieved by specifying preferred files!\n",
    "bdb.add_preferred_file(\"SL338_recipe.property.json\")\n",
    "bdb.query_property('SL338', 'w_cb')"
   ]
  },
  {
   "cell_type": "code",
   "execution_count": 143,
   "metadata": {},
   "outputs": [],
   "source": [
    "props = bdb.get_entity_properties('SL338')"
   ]
  },
  {
   "cell_type": "code",
   "execution_count": 144,
   "metadata": {},
   "outputs": [
    {
     "name": "stderr",
     "output_type": "stream",
     "text": [
      "WARNING:barely_db:Property file has no buid specification SL338_recipe_INVALID.property.json!\n",
      "WARNING:barely_db:Property file has no source specification SL338_recipe_INVALID.property.json!\n"
     ]
    }
   ],
   "source": [
    "props = bdb.get_entity_properties('SL338', reload=True)"
   ]
  },
  {
   "cell_type": "code",
   "execution_count": 145,
   "metadata": {},
   "outputs": [],
   "source": [
    "import objectpath # http://objectpath.org/reference.html"
   ]
  },
  {
   "cell_type": "code",
   "execution_count": 146,
   "metadata": {},
   "outputs": [
    {
     "name": "stderr",
     "output_type": "stream",
     "text": [
      "WARNING:barely_db:Property file has no buid specification SL338_recipe_INVALID.property.json!\n",
      "WARNING:barely_db:Property file has no source specification SL338_recipe_INVALID.property.json!\n"
     ]
    },
    {
     "data": {
      "text/plain": [
       "['SL338_Viscosity.txt.property.json',\n",
       " 'SL338_recipe.property.json',\n",
       " 'SL338_recipe_INVALID.property.json']"
      ]
     },
     "execution_count": 146,
     "metadata": {},
     "output_type": "execute_result"
    }
   ],
   "source": [
    "bdb.reload_entity_properties()\n",
    "tree = bdb.get_entity_tree('SL338')\n",
    "list(tree.execute(\"$..*.property_file\"))"
   ]
  },
  {
   "cell_type": "code",
   "execution_count": 147,
   "metadata": {},
   "outputs": [
    {
     "name": "stderr",
     "output_type": "stream",
     "text": [
      "WARNING:barely_db:No value for lala in entity SL0338!\n"
     ]
    }
   ],
   "source": [
    "bdb.query_property('SL338', 'lala')"
   ]
  },
  {
   "cell_type": "code",
   "execution_count": 148,
   "metadata": {},
   "outputs": [
    {
     "data": {
      "text/plain": [
       "SourcedItem(name='w_g', value=93.0, property_file='SL338_recipe.property.json', source='manual from 181009_SL0338_Batches_combined_dilution.xlsx')"
      ]
     },
     "execution_count": 148,
     "metadata": {},
     "output_type": "execute_result"
    }
   ],
   "source": [
    "bdb.query_property('SL338', 'w_g')"
   ]
  },
  {
   "cell_type": "code",
   "execution_count": 149,
   "metadata": {},
   "outputs": [
    {
     "name": "stderr",
     "output_type": "stream",
     "text": [
      "WARNING:barely_db:Multiple sources for w_cb in entity SL0338, even after filtering with preferred_property_files! Please, remove entries from preferred_property_files to lift this ambiguity! Found sources follow below:\n",
      "WARNING:barely_db:{\n",
      "    \"w_cb\": 0.0,\n",
      "    \"property_file\": \"SL338_recipe.property.json\",\n",
      "    \"source\": \"manual from 181009_SL0338_Batches_combined_dilution.xlsx\"\n",
      "}\n",
      "WARNING:barely_db:{\n",
      "    \"w_cb\": 0.0,\n",
      "    \"property_file\": \"SL338_recipe_INVALID.property.json\",\n",
      "    \"source\": \"Unknown source!\"\n",
      "}\n"
     ]
    }
   ],
   "source": [
    "# ambiguity can occur!\n",
    "bdb.clear_preferred_files()\n",
    "bdb.query_property('SL338', 'w_cb')"
   ]
  },
  {
   "cell_type": "code",
   "execution_count": 150,
   "metadata": {},
   "outputs": [
    {
     "data": {
      "text/plain": [
       "SourcedItem(name='w_cb', value=0.0, property_file='SL338_recipe.property.json', source='manual from 181009_SL0338_Batches_combined_dilution.xlsx')"
      ]
     },
     "execution_count": 150,
     "metadata": {},
     "output_type": "execute_result"
    }
   ],
   "source": [
    "# ambiguity can be relieved by specifying preferred files!\n",
    "bdb.add_preferred_file(\"SL338_recipe.property.json\")\n",
    "bdb.query_property('SL338', 'w_cb')"
   ]
  },
  {
   "cell_type": "code",
   "execution_count": 151,
   "metadata": {},
   "outputs": [
    {
     "name": "stderr",
     "output_type": "stream",
     "text": [
      "WARNING:barely_db:No value for tsc in entity SL0338!\n"
     ]
    }
   ],
   "source": [
    "# ambiguity can be relieved by specifying source information!\n",
    "bdb.query_property('SL338', 'tsc', source='dilution')"
   ]
  },
  {
   "cell_type": "code",
   "execution_count": 152,
   "metadata": {},
   "outputs": [
    {
     "name": "stderr",
     "output_type": "stream",
     "text": [
      "WARNING:barely_db:No value for tsc in entity SL0338!\n"
     ]
    },
    {
     "data": {
      "text/plain": [
       "[None,\n",
       " SourcedItem(name='w_g', value=93.0, property_file='SL338_recipe.property.json', source='manual from 181009_SL0338_Batches_combined_dilution.xlsx'),\n",
       " SourcedItem(name='w_cb', value=0.0, property_file='SL338_recipe.property.json', source='manual from 181009_SL0338_Batches_combined_dilution.xlsx')]"
      ]
     },
     "execution_count": 152,
     "metadata": {},
     "output_type": "execute_result"
    }
   ],
   "source": [
    "props = [\\\n",
    "         dict(prop='tsc', source='dilution'),\n",
    "         'w_g', \n",
    "         dict(prop='w_cb', source='manual'),\n",
    "        ]\n",
    "\n",
    "bdb.query_properties('SL338', props)"
   ]
  },
  {
   "cell_type": "code",
   "execution_count": 153,
   "metadata": {},
   "outputs": [
    {
     "data": {
      "text/plain": [
       "[SourcedItem(name='tsc', value=49.27, property_file='SL338_Viscosity.txt.property.json', source='G:\\\\My Drive\\\\Battrion_AG\\\\DATABASE\\\\Slurries\\\\SL0338_OrionRun1-T2\\\\SL338_Viscosity.txt'),\n",
       " SourcedItem(name='w_g', value=93.0, property_file='SL338_recipe.property.json', source='manual from 181009_SL0338_Batches_combined_dilution.xlsx'),\n",
       " SourcedItem(name='w_cb', value=0.0, property_file='SL338_recipe.property.json', source='manual from 181009_SL0338_Batches_combined_dilution.xlsx')]"
      ]
     },
     "execution_count": 153,
     "metadata": {},
     "output_type": "execute_result"
    }
   ],
   "source": [
    "props = ['tsc', 'w_g', 'w_cb']\n",
    "\n",
    "bdb.query_properties('SL338', props)"
   ]
  },
  {
   "cell_type": "markdown",
   "metadata": {},
   "source": [
    "# BUID parsing"
   ]
  },
  {
   "cell_type": "code",
   "execution_count": null,
   "metadata": {},
   "outputs": [],
   "source": []
  },
  {
   "cell_type": "markdown",
   "metadata": {
    "collapsed": true
   },
   "source": [
    "# Testing"
   ]
  },
  {
   "cell_type": "code",
   "execution_count": 154,
   "metadata": {},
   "outputs": [
    {
     "data": {
      "text/plain": [
       "{'entity_path': WindowsPath('G:/My Drive/Battrion_AG/DATABASE/Slurries/SL0361_ProductionSlurryOrion'),\n",
       " 'SL361_recipe.property.json': {'buid': 'SL361',\n",
       "  'source': 'manual from 181120_SL0361_Batches_combined_dilution.xlsx',\n",
       "  'manufacturing_date': '181120',\n",
       "  'w_g': 0.96,\n",
       "  'type_g': 'GT1',\n",
       "  'w_cb': 0.01,\n",
       "  'type_cb': 'Super C65',\n",
       "  'w_cmc': 0.01,\n",
       "  'type_cmc': 'CRT2000PA7',\n",
       "  'w_sbr': 0.02,\n",
       "  'type_sbr': 'BM-400B',\n",
       "  'tsc': 49.48,\n",
       "  'property_file': 'SL361_recipe.property.json'},\n",
       " 'SL361_Viscosity.txt.property.json': {'buid': 'SL361',\n",
       "  'create_time': 1542821655.98015,\n",
       "  'source': 'G:\\\\My Drive\\\\Battrion_AG\\\\DATABASE\\\\Slurries\\\\SL0361_ProductionSlurryOrion\\\\SL361_Viscosity.txt',\n",
       "  'tsc': 49.48,\n",
       "  'temperatur_average': 24.7125,\n",
       "  'temperatur_delta': 0.10000000000000142,\n",
       "  'viscosity_data': {'rpm': [0.1,\n",
       "    0.25,\n",
       "    0.5,\n",
       "    0.75,\n",
       "    1.0,\n",
       "    2.0,\n",
       "    4.0,\n",
       "    6.0,\n",
       "    8.0,\n",
       "    10.0,\n",
       "    15.0,\n",
       "    20.0,\n",
       "    40.0,\n",
       "    60.0,\n",
       "    80.0,\n",
       "    100.0],\n",
       "   'viscosity': [8000.0,\n",
       "    5600.0,\n",
       "    4400.0,\n",
       "    4267.0,\n",
       "    3800.0,\n",
       "    3300.0,\n",
       "    2850.0,\n",
       "    2650.0,\n",
       "    2537.0,\n",
       "    2450.0,\n",
       "    2313.0,\n",
       "    2230.0,\n",
       "    2082.0,\n",
       "    nan,\n",
       "    nan,\n",
       "    nan],\n",
       "   'temperature': [24.7,\n",
       "    24.7,\n",
       "    24.7,\n",
       "    24.7,\n",
       "    24.7,\n",
       "    24.7,\n",
       "    24.8,\n",
       "    24.7,\n",
       "    24.7,\n",
       "    24.7,\n",
       "    24.7,\n",
       "    24.8,\n",
       "    24.7,\n",
       "    24.7,\n",
       "    24.7,\n",
       "    24.7]},\n",
       "  'property_file': 'SL361_Viscosity.txt.property.json'}}"
      ]
     },
     "execution_count": 154,
     "metadata": {},
     "output_type": "execute_result"
    }
   ],
   "source": [
    "bdb.get_entity_properties('SL361')"
   ]
  },
  {
   "cell_type": "code",
   "execution_count": 115,
   "metadata": {},
   "outputs": [
    {
     "data": {
      "text/plain": [
       "{'entity_path': WindowsPath('G:/My Drive/Battrion_AG/DATABASE/Webs/WB0198_SL336_Grepow_Anode_Improved_AGT')}"
      ]
     },
     "execution_count": 115,
     "metadata": {},
     "output_type": "execute_result"
    }
   ],
   "source": [
    "bdb.get_entity_properties('WB198')"
   ]
  },
  {
   "cell_type": "code",
   "execution_count": 116,
   "metadata": {},
   "outputs": [
    {
     "data": {
      "text/plain": [
       "{'entity_path': WindowsPath('G:/My Drive/Battrion_AG/DATABASE/Webs/WB0253_OrionProductionRun')}"
      ]
     },
     "execution_count": 116,
     "metadata": {},
     "output_type": "execute_result"
    }
   ],
   "source": [
    "bdb.get_entity_properties('WB253')"
   ]
  },
  {
   "cell_type": "code",
   "execution_count": 117,
   "metadata": {},
   "outputs": [
    {
     "data": {
      "text/plain": [
       "['G:\\\\My Drive\\\\Battrion_AG\\\\DATABASE\\\\Webs\\\\WB0253_OrionProductionRun\\\\SnR_Elec_revT006_WB0253_rev002.docx',\n",
       " 'G:\\\\My Drive\\\\Battrion_AG\\\\DATABASE\\\\Webs\\\\WB0253_OrionProductionRun\\\\old',\n",
       " 'G:\\\\My Drive\\\\Battrion_AG\\\\DATABASE\\\\Webs\\\\WB0253_OrionProductionRun\\\\desktop.ini']"
      ]
     },
     "execution_count": 117,
     "metadata": {},
     "output_type": "execute_result"
    }
   ],
   "source": [
    "fns = bdb.entity_files('WB253','*')\n",
    "fns"
   ]
  },
  {
   "cell_type": "code",
   "execution_count": 118,
   "metadata": {},
   "outputs": [
    {
     "data": {
      "text/plain": [
       "'G:/My Drive/Battrion_AG/DATABASE/Webs/WB0253_OrionProductionRun/SnR_Elec_revT006_WB0253_rev002.docx'"
      ]
     },
     "execution_count": 118,
     "metadata": {},
     "output_type": "execute_result"
    }
   ],
   "source": [
    "fns[0].replace('\\\\','/')"
   ]
  },
  {
   "cell_type": "code",
   "execution_count": 119,
   "metadata": {},
   "outputs": [
    {
     "data": {
      "text/plain": [
       "['G:\\\\My Drive\\\\Battrion_AG\\\\DATABASE\\\\Cells\\\\CL2050_OrionGrepow_Run1_WB0198_Impedance\\\\SnR_Draft_CL2050.txt',\n",
       " 'G:\\\\My Drive\\\\Battrion_AG\\\\DATABASE\\\\Cells\\\\CL2050_OrionGrepow_Run1_WB0198_Impedance\\\\desktop.ini']"
      ]
     },
     "execution_count": 119,
     "metadata": {},
     "output_type": "execute_result"
    }
   ],
   "source": [
    "fns = bdb.entity_files('CL2050','*')\n",
    "fns"
   ]
  },
  {
   "cell_type": "code",
   "execution_count": 120,
   "metadata": {},
   "outputs": [
    {
     "data": {
      "text/plain": [
       "{'entity_path': WindowsPath('G:/My Drive/Battrion_AG/DATABASE/RawMaterials/RM0288_JiangxiZichenTechnology_YF3-GT-1_(LG-A)')}"
      ]
     },
     "execution_count": 120,
     "metadata": {},
     "output_type": "execute_result"
    }
   ],
   "source": [
    "bdb.get_entity_properties('RM288')"
   ]
  },
  {
   "cell_type": "code",
   "execution_count": null,
   "metadata": {},
   "outputs": [],
   "source": []
  }
 ],
 "metadata": {
  "kernelspec": {
   "display_name": "Python 3",
   "language": "python",
   "name": "python3"
  },
  "language_info": {
   "codemirror_mode": {
    "name": "ipython",
    "version": 3
   },
   "file_extension": ".py",
   "mimetype": "text/x-python",
   "name": "python",
   "nbconvert_exporter": "python",
   "pygments_lexer": "ipython3",
   "version": "3.6.6"
  },
  "toc": {
   "colors": {
    "hover_highlight": "#DAA520",
    "navigate_num": "#000000",
    "navigate_text": "#333333",
    "running_highlight": "#FF0000",
    "selected_highlight": "#FFD700",
    "sidebar_border": "#EEEEEE",
    "wrapper_background": "#FFFFFF"
   },
   "moveMenuLeft": true,
   "nav_menu": {
    "height": "102px",
    "width": "252px"
   },
   "navigate_menu": true,
   "number_sections": true,
   "sideBar": true,
   "threshold": 4,
   "toc_cell": false,
   "toc_section_display": "block",
   "toc_window_display": false,
   "widenNotebook": false
  }
 },
 "nbformat": 4,
 "nbformat_minor": 2
}
