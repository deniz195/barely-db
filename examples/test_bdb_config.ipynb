{
 "cells": [
  {
   "cell_type": "markdown",
   "metadata": {},
   "source": [
    "# Import modules"
   ]
  },
  {
   "cell_type": "code",
   "execution_count": 85,
   "metadata": {},
   "outputs": [],
   "source": [
    "# Import extensions\n",
    "import sys \n",
    "import numpy as np\n",
    "import matplotlib.pyplot as plt\n",
    "%matplotlib inline\n",
    "from pathlib import Path\n",
    "from IPython.display import FileLink, FileLinks\n",
    "# FileLinks('.') #lists all downloadable files on server\n",
    "import cattr"
   ]
  },
  {
   "cell_type": "code",
   "execution_count": 86,
   "metadata": {},
   "outputs": [],
   "source": [
    "sys.path.append('..')"
   ]
  },
  {
   "cell_type": "code",
   "execution_count": 87,
   "metadata": {},
   "outputs": [],
   "source": [
    "import attr\n",
    "import cattr\n",
    "import json\n",
    "from pathlib import Path\n",
    "import typing"
   ]
  },
  {
   "cell_type": "code",
   "execution_count": 88,
   "metadata": {},
   "outputs": [
    {
     "name": "stderr",
     "output_type": "stream",
     "text": [
      "INFO:barely_db:Reloading module barely_db\n"
     ]
    }
   ],
   "source": [
    "import barely_db\n",
    "barely_db._reload_module()\n",
    "from barely_db import *\n",
    "# test_BUID()"
   ]
  },
  {
   "cell_type": "code",
   "execution_count": 89,
   "metadata": {},
   "outputs": [],
   "source": [
    "import logging\n",
    "logging.basicConfig(level=logging.DEBUG)"
   ]
  },
  {
   "cell_type": "code",
   "execution_count": 90,
   "metadata": {},
   "outputs": [],
   "source": [
    "base_path_raw = 'G:\\\\Shared drives\\\\Database'\n",
    "base_path_raw = 'C:\\\\Repo\\\\barely-db\\\\tests\\\\Database'\n",
    "base_path = str(Path(base_path_raw))"
   ]
  },
  {
   "cell_type": "code",
   "execution_count": 91,
   "metadata": {},
   "outputs": [
    {
     "name": "stderr",
     "output_type": "stream",
     "text": [
      "INFO:barely_db:Entities found: 3\n",
      "INFO:barely_db:WB --> C:\\Repo\\barely-db\\tests\\Database\\Webs\n"
     ]
    }
   ],
   "source": [
    "bdb = BarelyDB(base_path=base_path_raw)\n",
    "bdb.load_entities()"
   ]
  },
  {
   "cell_type": "code",
   "execution_count": 92,
   "metadata": {},
   "outputs": [
    {
     "data": {
      "text/plain": [
       "1"
      ]
     },
     "execution_count": 92,
     "metadata": {},
     "output_type": "execute_result"
    }
   ],
   "source": [
    "bdb.path_depth"
   ]
  },
  {
   "cell_type": "code",
   "execution_count": 93,
   "metadata": {},
   "outputs": [
    {
     "data": {
      "text/plain": [
       "['G:\\\\My Drive\\\\Battrion_AG\\\\DATABASE\\\\',\n",
       " 'G:\\\\Team Drives\\\\Database\\\\',\n",
       " 'G:\\\\Shared drives\\\\Database\\\\',\n",
       " 'G:\\\\Geteilte Ablagen\\\\Database\\\\',\n",
       " 'G:\\\\Drive partagés\\\\Database\\\\',\n",
       " '/home/pi/GoogleDrive/database/',\n",
       " '/home/jovyan/database/',\n",
       " 'barelydb://',\n",
       " 'barely-db://']"
      ]
     },
     "execution_count": 93,
     "metadata": {},
     "output_type": "execute_result"
    }
   ],
   "source": [
    "bdb.known_bases"
   ]
  },
  {
   "cell_type": "code",
   "execution_count": 94,
   "metadata": {},
   "outputs": [
    {
     "data": {
      "text/plain": [
       "BarelyDBConfig(name='master', path_depth=0, known_bases=[], ignored_files=[], auto_reload_components=None, buid_types={})"
      ]
     },
     "execution_count": 94,
     "metadata": {},
     "output_type": "execute_result"
    }
   ],
   "source": [
    "config = BarelyDBConfig()\n",
    "config"
   ]
  },
  {
   "cell_type": "code",
   "execution_count": 95,
   "metadata": {},
   "outputs": [
    {
     "ename": "AttributeError",
     "evalue": "type object 'BarelyDBConfig' has no attribute 'from_legacy_default'",
     "output_type": "error",
     "traceback": [
      "\u001b[1;31m---------------------------------------------------------------------------\u001b[0m",
      "\u001b[1;31mAttributeError\u001b[0m                            Traceback (most recent call last)",
      "\u001b[1;32m<ipython-input-95-abf015bc17c3>\u001b[0m in \u001b[0;36m<module>\u001b[1;34m()\u001b[0m\n\u001b[1;32m----> 1\u001b[1;33m \u001b[0mconfig\u001b[0m \u001b[1;33m=\u001b[0m \u001b[0mBarelyDBConfig\u001b[0m\u001b[1;33m.\u001b[0m\u001b[0mfrom_legacy_default\u001b[0m\u001b[1;33m(\u001b[0m\u001b[1;33m)\u001b[0m\u001b[1;33m\u001b[0m\u001b[0m\n\u001b[0m\u001b[0;32m      2\u001b[0m \u001b[0mconfig\u001b[0m\u001b[1;33m\u001b[0m\u001b[0m\n",
      "\u001b[1;31mAttributeError\u001b[0m: type object 'BarelyDBConfig' has no attribute 'from_legacy_default'"
     ]
    }
   ],
   "source": [
    "config = BarelyDBConfig.from_legacy_default()\n",
    "config"
   ]
  },
  {
   "cell_type": "code",
   "execution_count": 96,
   "metadata": {},
   "outputs": [
    {
     "data": {
      "text/plain": [
       "'master'"
      ]
     },
     "execution_count": 96,
     "metadata": {},
     "output_type": "execute_result"
    }
   ],
   "source": [
    "config.name"
   ]
  },
  {
   "cell_type": "code",
   "execution_count": null,
   "metadata": {},
   "outputs": [],
   "source": []
  },
  {
   "cell_type": "code",
   "execution_count": 97,
   "metadata": {},
   "outputs": [
    {
     "ename": "AttributeError",
     "evalue": "type object 'BarelyDBSystemConfig' has no attribute 'from_legacy_default'",
     "output_type": "error",
     "traceback": [
      "\u001b[1;31m---------------------------------------------------------------------------\u001b[0m",
      "\u001b[1;31mAttributeError\u001b[0m                            Traceback (most recent call last)",
      "\u001b[1;32m<ipython-input-97-02faa45a1dcc>\u001b[0m in \u001b[0;36m<module>\u001b[1;34m()\u001b[0m\n\u001b[1;32m----> 1\u001b[1;33m \u001b[0msys_config\u001b[0m \u001b[1;33m=\u001b[0m \u001b[0mBarelyDBSystemConfig\u001b[0m\u001b[1;33m.\u001b[0m\u001b[0mfrom_legacy_default\u001b[0m\u001b[1;33m(\u001b[0m\u001b[1;33m)\u001b[0m\u001b[1;33m\u001b[0m\u001b[0m\n\u001b[0m\u001b[0;32m      2\u001b[0m \u001b[0msys_config\u001b[0m\u001b[1;33m\u001b[0m\u001b[0m\n",
      "\u001b[1;31mAttributeError\u001b[0m: type object 'BarelyDBSystemConfig' has no attribute 'from_legacy_default'"
     ]
    }
   ],
   "source": [
    "sys_config = BarelyDBSystemConfig.from_legacy_default()\n",
    "sys_config"
   ]
  },
  {
   "cell_type": "code",
   "execution_count": 70,
   "metadata": {},
   "outputs": [],
   "source": [
    "sys_config.save()"
   ]
  },
  {
   "cell_type": "code",
   "execution_count": 71,
   "metadata": {},
   "outputs": [],
   "source": [
    "sys_config = None"
   ]
  },
  {
   "cell_type": "code",
   "execution_count": 72,
   "metadata": {},
   "outputs": [
    {
     "data": {
      "text/plain": [
       "BarelyDBSystemConfig(default_base_path={'battrion_manufacturing': ['G:\\\\Team Drives\\\\Database', 'G:\\\\Shared drives\\\\Database', '/Volumes/GoogleDrive/Team Drives/Database', '/Volumes/GoogleDrive/Teamablagen/Database', '/Volumes/GoogleDrive/Geteilte Ablagen/Database', 'G:\\\\Geteilte Ablagen\\\\Database', 'G:\\\\Drive partagés\\\\Database', '/home/pi/GoogleDrive/database', '/home/jovyan/database']})"
      ]
     },
     "execution_count": 72,
     "metadata": {},
     "output_type": "execute_result"
    }
   ],
   "source": [
    "sys_config = BarelyDBSystemConfig.load()\n",
    "sys_config"
   ]
  },
  {
   "cell_type": "code",
   "execution_count": null,
   "metadata": {},
   "outputs": [],
   "source": []
  },
  {
   "cell_type": "code",
   "execution_count": null,
   "metadata": {},
   "outputs": [],
   "source": []
  }
 ],
 "metadata": {
  "kernelspec": {
   "display_name": "Python 3",
   "language": "python",
   "name": "python3"
  },
  "language_info": {
   "codemirror_mode": {
    "name": "ipython",
    "version": 3
   },
   "file_extension": ".py",
   "mimetype": "text/x-python",
   "name": "python",
   "nbconvert_exporter": "python",
   "pygments_lexer": "ipython3",
   "version": "3.6.2"
  },
  "toc": {
   "colors": {
    "hover_highlight": "#DAA520",
    "navigate_num": "#000000",
    "navigate_text": "#333333",
    "running_highlight": "#FF0000",
    "selected_highlight": "#FFD700",
    "sidebar_border": "#EEEEEE",
    "wrapper_background": "#FFFFFF"
   },
   "moveMenuLeft": true,
   "nav_menu": {
    "height": "30.4px",
    "width": "252px"
   },
   "navigate_menu": true,
   "number_sections": true,
   "sideBar": true,
   "threshold": 4,
   "toc_cell": false,
   "toc_section_display": "block",
   "toc_window_display": false,
   "widenNotebook": false
  }
 },
 "nbformat": 4,
 "nbformat_minor": 2
}
