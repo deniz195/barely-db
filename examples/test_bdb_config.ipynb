{
 "cells": [
  {
   "cell_type": "code",
   "execution_count": 142,
   "metadata": {},
   "outputs": [],
   "source": [
    "import attr\n",
    "import cattr\n",
    "import json\n",
    "from pathlib import Path\n",
    "import typing"
   ]
  },
  {
   "cell_type": "code",
   "execution_count": 143,
   "metadata": {},
   "outputs": [],
   "source": [
    "@attr.s(frozen=True, kw_only=True)\n",
    "class BarelyDBConfig:\n",
    "    \n",
    "    path_depth = attr.ib(default=0)\n",
    "    known_bases = attr.ib(factory=list, type=typing.List[str])\n",
    "    ignored_files = attr.ib(factory=list, type=typing.List[str])\n",
    "    auto_reload_components = attr.ib(default=None)\n",
    "    buid_types = attr.ib(factory=dict, type=typing.Dict[str, str])\n",
    "    \n",
    "    @classmethod\n",
    "    def from_default(cls):\n",
    "        return cls(\n",
    "            path_depth = 1,\n",
    "            known_bases = [\\\n",
    "        'G:\\\\My Drive\\\\Battrion_AG\\\\DATABASE\\\\',\n",
    "        'G:\\\\Team Drives\\\\Database\\\\',\n",
    "        'G:\\\\Shared drives\\\\Database\\\\',\n",
    "        'G:\\\\Geteilte Ablagen\\\\Database\\\\',\n",
    "        'G:\\\\Drive partagés\\\\Database\\\\',\n",
    "        '/home/pi/GoogleDrive/database/',\n",
    "        '/home/jovyan/database/',\n",
    "        'barelydb://',\n",
    "        'barely-db://',\n",
    "        ],\n",
    "        ignored_files = ['desktop.ini'],\n",
    "        auto_reload_components = None,\n",
    "        buid_types = {\\\n",
    "            'slurry': 'SL',\n",
    "            'web': 'WB',\n",
    "            'cells': 'CL',\n",
    "            'electrochemistry': 'EE',\n",
    "            'rawmaterial': 'RM',\n",
    "            'experiment': 'EXP',\n",
    "            'equipment': 'EQ',\n",
    "            'manufacturing_orders': 'MO',\n",
    "            'product': 'PD',\n",
    "            'documents': 'DOC',\n",
    "        }                   \n",
    "                  )\n",
    "    \n",
    "    @staticmethod\n",
    "    def resolve_config_file(base_path):\n",
    "        base_path = Path(base_path)\n",
    "        \n",
    "        if base_path.is_dir():\n",
    "            config_file = base_path.joinpath('bdb_config.json')\n",
    "        else:\n",
    "            config_file = base_path\n",
    "\n",
    "        return str(config_file)\n",
    "\n",
    "    def save(self, base_path):\n",
    "        config_file = self.resolve_config_file(base_path)\n",
    "\n",
    "        self_dict = attr.asdict(self)\n",
    "\n",
    "        with open(config_file, 'w') as f:\n",
    "            json.dump(self_dict, f, indent=4)\n",
    "\n",
    "    @classmethod\n",
    "    def load(cls, base_path):\n",
    "        config_file = Path(cls.resolve_config_file(base_path))\n",
    "\n",
    "        with open(config_file, 'rb') as f:\n",
    "            self_dict = json.load(f)\n",
    "\n",
    "        return cattr.structure(self_dict, cls)            \n",
    "            \n",
    "    "
   ]
  },
  {
   "cell_type": "code",
   "execution_count": 144,
   "metadata": {},
   "outputs": [
    {
     "data": {
      "text/plain": [
       "BarelyDBConfig(path_depth=0, known_bases=[], ignored_files=[], auto_reload_components=None, buid_types={})"
      ]
     },
     "execution_count": 144,
     "metadata": {},
     "output_type": "execute_result"
    }
   ],
   "source": [
    "### Test restructuring\n",
    "config = BarelyDBConfig()\n",
    "\n",
    "self_dict = cattr.unstructure(config)\n",
    "self_dict\n",
    "\n",
    "config2 = cattr.structure(self_dict, BarelyDBConfig)\n",
    "config2"
   ]
  },
  {
   "cell_type": "code",
   "execution_count": 145,
   "metadata": {},
   "outputs": [],
   "source": [
    "base_path_raw = 'G:\\\\Shared drives\\\\Database'\n",
    "base_path_raw = 'C:\\\\Repo\\\\barely-db\\\\tests\\\\Database'\n",
    "base_path = str(Path(base_path_raw))"
   ]
  },
  {
   "cell_type": "code",
   "execution_count": 146,
   "metadata": {},
   "outputs": [
    {
     "data": {
      "text/plain": [
       "BarelyDBConfig(path_depth=1, known_bases=['G:\\\\My Drive\\\\Battrion_AG\\\\DATABASE\\\\', 'G:\\\\Team Drives\\\\Database\\\\', 'G:\\\\Shared drives\\\\Database\\\\', 'G:\\\\Geteilte Ablagen\\\\Database\\\\', 'G:\\\\Drive partagés\\\\Database\\\\', '/home/pi/GoogleDrive/database/', '/home/jovyan/database/', 'barelydb://', 'barely-db://'], ignored_files=['desktop.ini'], auto_reload_components=None, buid_types={'slurry': 'SL', 'web': 'WB', 'cells': 'CL', 'electrochemistry': 'EE', 'rawmaterial': 'RM', 'experiment': 'EXP', 'equipment': 'EQ', 'manufacturing_orders': 'MO', 'product': 'PD', 'documents': 'DOC'})"
      ]
     },
     "execution_count": 146,
     "metadata": {},
     "output_type": "execute_result"
    }
   ],
   "source": [
    "config = BarelyDBConfig.from_default()\n",
    "config"
   ]
  },
  {
   "cell_type": "code",
   "execution_count": 148,
   "metadata": {},
   "outputs": [],
   "source": [
    "### Test save and reload\n",
    "config.save(base_path=base_path)\n",
    "\n",
    "config2 = BarelyDBConfig.load(base_path)\n",
    "assert config2 == config"
   ]
  },
  {
   "cell_type": "code",
   "execution_count": null,
   "metadata": {},
   "outputs": [],
   "source": []
  },
  {
   "cell_type": "code",
   "execution_count": null,
   "metadata": {},
   "outputs": [],
   "source": []
  },
  {
   "cell_type": "code",
   "execution_count": null,
   "metadata": {},
   "outputs": [],
   "source": []
  },
  {
   "cell_type": "code",
   "execution_count": null,
   "metadata": {},
   "outputs": [],
   "source": []
  },
  {
   "cell_type": "code",
   "execution_count": null,
   "metadata": {},
   "outputs": [],
   "source": []
  },
  {
   "cell_type": "code",
   "execution_count": null,
   "metadata": {},
   "outputs": [],
   "source": []
  }
 ],
 "metadata": {
  "kernelspec": {
   "display_name": "Python 3",
   "language": "python",
   "name": "python3"
  },
  "language_info": {
   "codemirror_mode": {
    "name": "ipython",
    "version": 3
   },
   "file_extension": ".py",
   "mimetype": "text/x-python",
   "name": "python",
   "nbconvert_exporter": "python",
   "pygments_lexer": "ipython3",
   "version": "3.6.2"
  },
  "toc": {
   "colors": {
    "hover_highlight": "#DAA520",
    "navigate_num": "#000000",
    "navigate_text": "#333333",
    "running_highlight": "#FF0000",
    "selected_highlight": "#FFD700",
    "sidebar_border": "#EEEEEE",
    "wrapper_background": "#FFFFFF"
   },
   "moveMenuLeft": true,
   "nav_menu": {
    "height": "12px",
    "width": "252px"
   },
   "navigate_menu": true,
   "number_sections": true,
   "sideBar": true,
   "threshold": 4,
   "toc_cell": false,
   "toc_section_display": "block",
   "toc_window_display": false,
   "widenNotebook": false
  }
 },
 "nbformat": 4,
 "nbformat_minor": 2
}
