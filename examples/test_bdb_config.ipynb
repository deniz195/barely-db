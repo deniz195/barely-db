{
 "cells": [
  {
   "cell_type": "markdown",
   "metadata": {},
   "source": [
    "# Import modules"
   ]
  },
  {
   "cell_type": "code",
   "execution_count": 1,
   "metadata": {},
   "outputs": [],
   "source": [
    "# Import extensions\n",
    "import sys \n",
    "import numpy as np\n",
    "import matplotlib.pyplot as plt\n",
    "%matplotlib inline\n",
    "from pathlib import Path\n",
    "from IPython.display import FileLink, FileLinks\n",
    "# FileLinks('.') #lists all downloadable files on server"
   ]
  },
  {
   "cell_type": "code",
   "execution_count": 2,
   "metadata": {},
   "outputs": [],
   "source": [
    "sys.path.append('..')"
   ]
  },
  {
   "cell_type": "code",
   "execution_count": 3,
   "metadata": {},
   "outputs": [],
   "source": [
    "import barely_db\n",
    "barely_db._reload_module()\n",
    "from barely_db import *\n",
    "# test_BUID()"
   ]
  },
  {
   "cell_type": "code",
   "execution_count": 4,
   "metadata": {},
   "outputs": [],
   "source": [
    "import logging\n",
    "logging.basicConfig(level=logging.DEBUG)"
   ]
  },
  {
   "cell_type": "code",
   "execution_count": 5,
   "metadata": {},
   "outputs": [],
   "source": [
    "base_path_raw = 'G:\\\\Shared drives\\\\Database'\n",
    "base_path_raw = 'C:\\\\Repo\\\\barely-db\\\\tests\\\\Database'\n",
    "base_path = str(Path(base_path_raw))"
   ]
  },
  {
   "cell_type": "code",
   "execution_count": 6,
   "metadata": {},
   "outputs": [
    {
     "name": "stderr",
     "output_type": "stream",
     "text": [
      "INFO:barely_db:Entities found: 3\n",
      "INFO:barely_db:WB --> C:\\Repo\\barely-db\\tests\\Database\\Webs\n"
     ]
    }
   ],
   "source": [
    "bdb = BarelyDB(base_path=base_path_raw)\n",
    "bdb.load_entities()"
   ]
  },
  {
   "cell_type": "code",
   "execution_count": 10,
   "metadata": {},
   "outputs": [
    {
     "data": {
      "text/plain": [
       "1"
      ]
     },
     "execution_count": 10,
     "metadata": {},
     "output_type": "execute_result"
    }
   ],
   "source": [
    "bdb.path_depth"
   ]
  },
  {
   "cell_type": "code",
   "execution_count": 11,
   "metadata": {},
   "outputs": [
    {
     "data": {
      "text/plain": [
       "['G:\\\\My Drive\\\\Battrion_AG\\\\DATABASE\\\\',\n",
       " 'G:\\\\Team Drives\\\\Database\\\\',\n",
       " 'G:\\\\Shared drives\\\\Database\\\\',\n",
       " 'G:\\\\Geteilte Ablagen\\\\Database\\\\',\n",
       " 'G:\\\\Drive partagés\\\\Database\\\\',\n",
       " '/home/pi/GoogleDrive/database/',\n",
       " '/home/jovyan/database/',\n",
       " 'barelydb://',\n",
       " 'barely-db://']"
      ]
     },
     "execution_count": 11,
     "metadata": {},
     "output_type": "execute_result"
    }
   ],
   "source": [
    "bdb.known_bases"
   ]
  },
  {
   "cell_type": "code",
   "execution_count": null,
   "metadata": {},
   "outputs": [],
   "source": []
  },
  {
   "cell_type": "code",
   "execution_count": 12,
   "metadata": {},
   "outputs": [
    {
     "data": {
      "text/plain": [
       "barely_db.parser.BUIDParser.create_class.<locals>._CustomBUIDParser"
      ]
     },
     "execution_count": 12,
     "metadata": {},
     "output_type": "execute_result"
    }
   ],
   "source": [
    "bdb.BUIDParser"
   ]
  },
  {
   "cell_type": "code",
   "execution_count": null,
   "metadata": {},
   "outputs": [],
   "source": []
  },
  {
   "cell_type": "code",
   "execution_count": null,
   "metadata": {},
   "outputs": [],
   "source": []
  },
  {
   "cell_type": "code",
   "execution_count": null,
   "metadata": {},
   "outputs": [],
   "source": []
  },
  {
   "cell_type": "code",
   "execution_count": null,
   "metadata": {},
   "outputs": [],
   "source": []
  },
  {
   "cell_type": "code",
   "execution_count": null,
   "metadata": {},
   "outputs": [],
   "source": []
  },
  {
   "cell_type": "code",
   "execution_count": 170,
   "metadata": {},
   "outputs": [],
   "source": [
    "import attr\n",
    "import cattr\n",
    "import json\n",
    "from pathlib import Path\n",
    "import typing"
   ]
  },
  {
   "cell_type": "code",
   "execution_count": null,
   "metadata": {},
   "outputs": [],
   "source": []
  },
  {
   "cell_type": "code",
   "execution_count": 172,
   "metadata": {},
   "outputs": [
    {
     "data": {
      "text/plain": [
       "BarelyDBConfig(path_depth=0, known_bases=[], ignored_files=[], auto_reload_components=None, buid_types={})"
      ]
     },
     "execution_count": 172,
     "metadata": {},
     "output_type": "execute_result"
    }
   ],
   "source": [
    "### Test restructuring\n",
    "config = BarelyDBConfig()\n",
    "\n",
    "self_dict = cattr.unstructure(config)\n",
    "self_dict\n",
    "\n",
    "config2 = cattr.structure(self_dict, BarelyDBConfig)\n",
    "config2"
   ]
  },
  {
   "cell_type": "code",
   "execution_count": 159,
   "metadata": {},
   "outputs": [],
   "source": [
    "base_path_raw = 'G:\\\\Shared drives\\\\Database'\n",
    "base_path_raw = 'C:\\\\Repo\\\\barely-db\\\\tests\\\\Database'\n",
    "base_path = str(Path(base_path_raw))"
   ]
  },
  {
   "cell_type": "code",
   "execution_count": 160,
   "metadata": {},
   "outputs": [
    {
     "data": {
      "text/plain": [
       "BarelyDBConfig(path_depth=1, known_bases=['G:\\\\My Drive\\\\Battrion_AG\\\\DATABASE\\\\', 'G:\\\\Team Drives\\\\Database\\\\', 'G:\\\\Shared drives\\\\Database\\\\', 'G:\\\\Geteilte Ablagen\\\\Database\\\\', 'G:\\\\Drive partagés\\\\Database\\\\', '/home/pi/GoogleDrive/database/', '/home/jovyan/database/', 'barelydb://', 'barely-db://'], ignored_files=['desktop.ini'], auto_reload_components=None, buid_types={'slurry': 'SL', 'web': 'WB', 'cells': 'CL', 'electrochemistry': 'EE', 'rawmaterial': 'RM', 'experiment': 'EXP', 'equipment': 'EQ', 'manufacturing_orders': 'MO', 'product': 'PD', 'documents': 'DOC'})"
      ]
     },
     "execution_count": 160,
     "metadata": {},
     "output_type": "execute_result"
    }
   ],
   "source": [
    "config = BarelyDBConfig.from_default()\n",
    "config"
   ]
  },
  {
   "cell_type": "code",
   "execution_count": 161,
   "metadata": {},
   "outputs": [],
   "source": [
    "### Test save and reload\n",
    "config.save(base_path=base_path)\n",
    "\n",
    "config2 = BarelyDBConfig.load(base_path)\n",
    "assert config2 == config"
   ]
  },
  {
   "cell_type": "code",
   "execution_count": null,
   "metadata": {},
   "outputs": [],
   "source": []
  },
  {
   "cell_type": "code",
   "execution_count": null,
   "metadata": {},
   "outputs": [],
   "source": []
  },
  {
   "cell_type": "code",
   "execution_count": null,
   "metadata": {},
   "outputs": [],
   "source": []
  },
  {
   "cell_type": "code",
   "execution_count": null,
   "metadata": {},
   "outputs": [],
   "source": []
  },
  {
   "cell_type": "code",
   "execution_count": null,
   "metadata": {},
   "outputs": [],
   "source": []
  },
  {
   "cell_type": "code",
   "execution_count": null,
   "metadata": {},
   "outputs": [],
   "source": []
  },
  {
   "cell_type": "code",
   "execution_count": null,
   "metadata": {},
   "outputs": [],
   "source": []
  },
  {
   "cell_type": "code",
   "execution_count": null,
   "metadata": {},
   "outputs": [],
   "source": []
  }
 ],
 "metadata": {
  "kernelspec": {
   "display_name": "Python 3",
   "language": "python",
   "name": "python3"
  },
  "language_info": {
   "codemirror_mode": {
    "name": "ipython",
    "version": 3
   },
   "file_extension": ".py",
   "mimetype": "text/x-python",
   "name": "python",
   "nbconvert_exporter": "python",
   "pygments_lexer": "ipython3",
   "version": "3.6.2"
  },
  "toc": {
   "colors": {
    "hover_highlight": "#DAA520",
    "navigate_num": "#000000",
    "navigate_text": "#333333",
    "running_highlight": "#FF0000",
    "selected_highlight": "#FFD700",
    "sidebar_border": "#EEEEEE",
    "wrapper_background": "#FFFFFF"
   },
   "moveMenuLeft": true,
   "nav_menu": {
    "height": "30.4px",
    "width": "252px"
   },
   "navigate_menu": true,
   "number_sections": true,
   "sideBar": true,
   "threshold": 4,
   "toc_cell": false,
   "toc_section_display": "block",
   "toc_window_display": false,
   "widenNotebook": false
  }
 },
 "nbformat": 4,
 "nbformat_minor": 2
}
