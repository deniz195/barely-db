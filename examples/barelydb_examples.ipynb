{
 "cells": [
  {
   "cell_type": "markdown",
   "metadata": {},
   "source": [
    "# Import modules"
   ]
  },
  {
   "cell_type": "code",
   "execution_count": 1,
   "metadata": {},
   "outputs": [],
   "source": [
    "# Import extensions\n",
    "import sys \n",
    "import numpy as np\n",
    "import matplotlib.pyplot as plt\n",
    "%matplotlib inline\n",
    "from pathlib import Path\n",
    "from IPython.display import FileLink, FileLinks\n",
    "# FileLinks('.') #lists all downloadable files on server"
   ]
  },
  {
   "cell_type": "code",
   "execution_count": 2,
   "metadata": {},
   "outputs": [],
   "source": [
    "sys.path.append('..')"
   ]
  },
  {
   "cell_type": "code",
   "execution_count": 3,
   "metadata": {},
   "outputs": [],
   "source": [
    "import barely_db\n",
    "barely_db._reload_module()\n",
    "from barely_db import *\n",
    "# test_BUID()"
   ]
  },
  {
   "cell_type": "code",
   "execution_count": 4,
   "metadata": {},
   "outputs": [],
   "source": [
    "import logging\n",
    "logging.basicConfig(level=logging.DEBUG)"
   ]
  },
  {
   "cell_type": "markdown",
   "metadata": {},
   "source": [
    "## Barely DB test\n"
   ]
  },
  {
   "cell_type": "code",
   "execution_count": 5,
   "metadata": {},
   "outputs": [
    {
     "data": {
      "text/plain": [
       "BarelyDB(name=examples @ C:\\Repo\\barely-db\\examples\\Database + 1)"
      ]
     },
     "execution_count": 5,
     "metadata": {},
     "output_type": "execute_result"
    }
   ],
   "source": [
    "bdb = BarelyDB(base_path='./Database')\n",
    "bdb"
   ]
  },
  {
   "cell_type": "code",
   "execution_count": 6,
   "metadata": {},
   "outputs": [
    {
     "name": "stderr",
     "output_type": "stream",
     "text": [
      "INFO:barely_db:Entities found: 12\n",
      "INFO:barely_db:WB --> C:\\Repo\\barely-db\\examples\\Database\\Webs\n"
     ]
    }
   ],
   "source": [
    "bdb.load_entities()"
   ]
  },
  {
   "cell_type": "markdown",
   "metadata": {
    "heading_collapsed": true
   },
   "source": [
    "## Read"
   ]
  },
  {
   "cell_type": "code",
   "execution_count": 7,
   "metadata": {
    "hidden": true
   },
   "outputs": [
    {
     "name": "stderr",
     "output_type": "stream",
     "text": [
      "INFO:barely_db:Entities found: 12\n",
      "INFO:barely_db:WB --> C:\\Repo\\barely-db\\examples\\Database\\Webs\n"
     ]
    }
   ],
   "source": [
    "bdb.load_entities()"
   ]
  },
  {
   "cell_type": "code",
   "execution_count": 8,
   "metadata": {
    "hidden": true
   },
   "outputs": [
    {
     "data": {
      "text/plain": [
       "['WB3001',\n",
       " 'WB9001',\n",
       " 'WB9002',\n",
       " 'WB9003',\n",
       " 'WB9004',\n",
       " 'WB9005',\n",
       " 'WB9006',\n",
       " 'WB9007',\n",
       " 'WB9008',\n",
       " 'WB9009',\n",
       " 'WB9010',\n",
       " 'WB9011']"
      ]
     },
     "execution_count": 8,
     "metadata": {},
     "output_type": "execute_result"
    }
   ],
   "source": [
    "bdb.entities"
   ]
  },
  {
   "cell_type": "code",
   "execution_count": 43,
   "metadata": {
    "hidden": true
   },
   "outputs": [],
   "source": [
    "buid = 'WB3001-P1'"
   ]
  },
  {
   "cell_type": "code",
   "execution_count": 44,
   "metadata": {
    "hidden": true
   },
   "outputs": [
    {
     "data": {
      "text/plain": [
       "BarelyDBEntity('WB3001-P1')"
      ]
     },
     "execution_count": 44,
     "metadata": {},
     "output_type": "execute_result"
    }
   ],
   "source": [
    "ent = bdb[buid]\n",
    "ent"
   ]
  },
  {
   "cell_type": "code",
   "execution_count": 45,
   "metadata": {
    "hidden": true
   },
   "outputs": [
    {
     "data": {
      "text/plain": [
       "'WB3001_SL_LGA1'"
      ]
     },
     "execution_count": 45,
     "metadata": {},
     "output_type": "execute_result"
    }
   ],
   "source": [
    "ent.name"
   ]
  },
  {
   "cell_type": "code",
   "execution_count": 46,
   "metadata": {
    "hidden": true
   },
   "outputs": [
    {
     "data": {
      "text/plain": [
       "WindowsPath('C:/Repo/barely-db/examples/Database/Webs/WB3001_SL_LGA1/-P1')"
      ]
     },
     "execution_count": 46,
     "metadata": {},
     "output_type": "execute_result"
    }
   ],
   "source": [
    "ent.path"
   ]
  },
  {
   "cell_type": "code",
   "execution_count": 47,
   "metadata": {
    "hidden": true
   },
   "outputs": [
    {
     "data": {
      "text/plain": [
       "WindowsPath('C:/Repo/barely-db/examples/Database/Webs/WB3001_SL_LGA1')"
      ]
     },
     "execution_count": 47,
     "metadata": {},
     "output_type": "execute_result"
    }
   ],
   "source": [
    "ent.entity_path"
   ]
  },
  {
   "cell_type": "code",
   "execution_count": 48,
   "metadata": {
    "hidden": true
   },
   "outputs": [
    {
     "data": {
      "text/plain": [
       "WindowsPath('C:/Repo/barely-db/examples/Database/Webs/WB3001_SL_LGA1/-P1')"
      ]
     },
     "execution_count": 48,
     "metadata": {},
     "output_type": "execute_result"
    }
   ],
   "source": [
    "ent.component_path"
   ]
  },
  {
   "cell_type": "code",
   "execution_count": 49,
   "metadata": {
    "hidden": true
   },
   "outputs": [
    {
     "name": "stderr",
     "output_type": "stream",
     "text": [
      "INFO:barely_db.file_management:Opening explorer for folder C:\\Repo\\barely-db\\examples\\Database\\Webs\\WB3001_SL_LGA1\\-P1\n"
     ]
    }
   ],
   "source": [
    "ent.open_in_explorer()"
   ]
  },
  {
   "cell_type": "code",
   "execution_count": 50,
   "metadata": {
    "hidden": true
   },
   "outputs": [
    {
     "data": {
      "text/plain": [
       "['C:\\\\Repo\\\\barely-db\\\\examples\\\\Database\\\\Webs\\\\WB3001_SL_LGA1\\\\-P1\\\\process_config_mvc.yaml',\n",
       " 'C:\\\\Repo\\\\barely-db\\\\examples\\\\Database\\\\Webs\\\\WB3001_SL_LGA1\\\\-P1\\\\WB3001-P1_dlt_homo.yaml',\n",
       " 'C:\\\\Repo\\\\barely-db\\\\examples\\\\Database\\\\Webs\\\\WB3001_SL_LGA1\\\\-P1\\\\WB3001-P1_loadinghomo_cw.property.yaml',\n",
       " 'C:\\\\Repo\\\\barely-db\\\\examples\\\\Database\\\\Webs\\\\WB3001_SL_LGA1\\\\-P1\\\\WB3001-P1_loading_cw.property.yaml',\n",
       " 'C:\\\\Repo\\\\barely-db\\\\examples\\\\Database\\\\Webs\\\\WB3001_SL_LGA1\\\\-P1\\\\WB3001-P1_peel_force.property.yaml',\n",
       " 'C:\\\\Repo\\\\barely-db\\\\examples\\\\Database\\\\Webs\\\\WB3001_SL_LGA1\\\\-P1\\\\WB3001-P1_temperature_profiles.yaml',\n",
       " 'C:\\\\Repo\\\\barely-db\\\\examples\\\\Database\\\\Webs\\\\WB3001_SL_LGA1\\\\-P1\\\\WB3001-P1_web_data.property.yaml',\n",
       " 'C:\\\\Repo\\\\barely-db\\\\examples\\\\Database\\\\Webs\\\\WB3001_SL_LGA1\\\\-P1\\\\WB3001-P1_web_spec.property.yaml',\n",
       " 'C:\\\\Repo\\\\barely-db\\\\examples\\\\Database\\\\Webs\\\\WB3001_SL_LGA1\\\\-P1\\\\WB3001-P1_web_valid_meas.property.yaml',\n",
       " 'C:\\\\Repo\\\\barely-db\\\\examples\\\\Database\\\\Webs\\\\WB3001_SL_LGA1\\\\-P1\\\\WB3001-P1_web_valid_report.property.yaml',\n",
       " 'C:\\\\Repo\\\\barely-db\\\\examples\\\\Database\\\\Webs\\\\WB3001_SL_LGA1\\\\-P1\\\\WB3001-P1_wlt_homo.yaml',\n",
       " 'C:\\\\Repo\\\\barely-db\\\\examples\\\\Database\\\\Webs\\\\WB3001_SL_LGA1\\\\-P1\\\\web_valid_spec.property.yaml']"
      ]
     },
     "execution_count": 50,
     "metadata": {},
     "output_type": "execute_result"
    }
   ],
   "source": [
    "ent.files('*.yaml')"
   ]
  },
  {
   "cell_type": "code",
   "execution_count": null,
   "metadata": {
    "hidden": true
   },
   "outputs": [],
   "source": []
  },
  {
   "cell_type": "code",
   "execution_count": null,
   "metadata": {
    "hidden": true
   },
   "outputs": [],
   "source": []
  },
  {
   "cell_type": "code",
   "execution_count": 51,
   "metadata": {
    "hidden": true
   },
   "outputs": [
    {
     "data": {
      "text/plain": [
       "{'P1': WindowsPath('C:/Repo/barely-db/examples/Database/Webs/WB3001_SL_LGA1/-P1'),\n",
       " 'Q1': WindowsPath('C:/Repo/barely-db/examples/Database/Webs/WB3001_SL_LGA1/-Q1')}"
      ]
     },
     "execution_count": 51,
     "metadata": {},
     "output_type": "execute_result"
    }
   ],
   "source": [
    "ent.component_paths"
   ]
  },
  {
   "cell_type": "code",
   "execution_count": 52,
   "metadata": {
    "hidden": true
   },
   "outputs": [
    {
     "data": {
      "text/plain": [
       "'C:\\\\Repo\\\\barely-db\\\\examples\\\\Database\\\\Webs\\\\WB3001_SL_LGA1\\\\-P1\\\\Data.json'"
      ]
     },
     "execution_count": 52,
     "metadata": {},
     "output_type": "execute_result"
    }
   ],
   "source": [
    "ent.resolve_relative_path('./Data.json')"
   ]
  },
  {
   "cell_type": "code",
   "execution_count": 53,
   "metadata": {
    "hidden": true
   },
   "outputs": [
    {
     "data": {
      "text/plain": [
       "['C:\\\\Repo\\\\barely-db\\\\examples\\\\Database\\\\Webs\\\\WB3001_SL_LGA1\\\\-P1\\\\Data.json',\n",
       " 'C:\\\\Repo\\\\barely-db\\\\examples\\\\Database\\\\Webs\\\\WB3001_SL_LGA1\\\\-P1\\\\Data2.json']"
      ]
     },
     "execution_count": 53,
     "metadata": {},
     "output_type": "execute_result"
    }
   ],
   "source": [
    "ent.resolve_relative_path(['./Data.json', './Data2.json'])"
   ]
  },
  {
   "cell_type": "code",
   "execution_count": 54,
   "metadata": {
    "hidden": true
   },
   "outputs": [
    {
     "data": {
      "text/plain": [
       "WindowsPath('C:/Repo/barely-db/examples/Database/Webs/WB3001_SL_LGA1/-P1/Data.json')"
      ]
     },
     "execution_count": 54,
     "metadata": {},
     "output_type": "execute_result"
    }
   ],
   "source": [
    "ent.path.joinpath('./Data.json').absolute().resolve()"
   ]
  },
  {
   "cell_type": "code",
   "execution_count": 55,
   "metadata": {
    "hidden": true
   },
   "outputs": [
    {
     "data": {
      "text/plain": [
       "{'WB3001': {'P1': WindowsPath('C:/Repo/barely-db/examples/Database/Webs/WB3001_SL_LGA1/-P1'),\n",
       "  'Q1': WindowsPath('C:/Repo/barely-db/examples/Database/Webs/WB3001_SL_LGA1/-Q1')}}"
      ]
     },
     "execution_count": 55,
     "metadata": {},
     "output_type": "execute_result"
    }
   ],
   "source": [
    "bdb.component_paths"
   ]
  },
  {
   "cell_type": "code",
   "execution_count": null,
   "metadata": {
    "hidden": true
   },
   "outputs": [],
   "source": []
  },
  {
   "cell_type": "code",
   "execution_count": null,
   "metadata": {
    "hidden": true
   },
   "outputs": [],
   "source": []
  },
  {
   "cell_type": "code",
   "execution_count": null,
   "metadata": {
    "hidden": true
   },
   "outputs": [],
   "source": []
  },
  {
   "cell_type": "markdown",
   "metadata": {
    "heading_collapsed": true
   },
   "source": [
    "## Creating entities"
   ]
  },
  {
   "cell_type": "code",
   "execution_count": 9,
   "metadata": {
    "hidden": true
   },
   "outputs": [
    {
     "name": "stderr",
     "output_type": "stream",
     "text": [
      "INFO:barely_db:Entities found: 12\n",
      "INFO:barely_db:WB --> C:\\Repo\\barely-db\\examples\\Database\\Webs\n"
     ]
    }
   ],
   "source": [
    "ent = bdb.create_new_entity(after='WB9001', name='a_test')"
   ]
  },
  {
   "cell_type": "code",
   "execution_count": 24,
   "metadata": {
    "hidden": true
   },
   "outputs": [
    {
     "data": {
      "text/plain": [
       "'WB9011'"
      ]
     },
     "execution_count": 24,
     "metadata": {},
     "output_type": "execute_result"
    }
   ],
   "source": [
    "ent.buid_with_component"
   ]
  },
  {
   "cell_type": "code",
   "execution_count": 25,
   "metadata": {
    "hidden": true
   },
   "outputs": [
    {
     "name": "stderr",
     "output_type": "stream",
     "text": [
      "WARNING:barely_db:Component path already exists! C:\\Repo\\barely-db\\examples\\Database\\Webs\\WB9011_a_test\\-P1_a_component\n"
     ]
    },
    {
     "data": {
      "text/plain": [
       "WindowsPath('C:/Repo/barely-db/examples/Database/Webs/WB9011_a_test/-P1_a_component')"
      ]
     },
     "execution_count": 25,
     "metadata": {},
     "output_type": "execute_result"
    }
   ],
   "source": [
    "ent_comp = ent.create_component(component='P1', name='a_component')\n",
    "ent_comp"
   ]
  },
  {
   "cell_type": "code",
   "execution_count": null,
   "metadata": {
    "hidden": true
   },
   "outputs": [],
   "source": []
  },
  {
   "cell_type": "code",
   "execution_count": null,
   "metadata": {
    "hidden": true
   },
   "outputs": [],
   "source": []
  },
  {
   "cell_type": "code",
   "execution_count": null,
   "metadata": {
    "hidden": true
   },
   "outputs": [],
   "source": []
  },
  {
   "cell_type": "markdown",
   "metadata": {},
   "source": [
    "## Bakery example"
   ]
  },
  {
   "cell_type": "code",
   "execution_count": 7,
   "metadata": {},
   "outputs": [],
   "source": [
    "module_logger = logging.getLogger('notebook')"
   ]
  },
  {
   "cell_type": "code",
   "execution_count": 8,
   "metadata": {},
   "outputs": [
    {
     "data": {
      "text/plain": [
       "WindowsPath('C:/Repo/barely-db/examples/BakeryDatabase')"
      ]
     },
     "execution_count": 8,
     "metadata": {},
     "output_type": "execute_result"
    }
   ],
   "source": [
    "base_path = Path('./BakeryDatabase').absolute().resolve()\n",
    "base_path"
   ]
  },
  {
   "cell_type": "code",
   "execution_count": 9,
   "metadata": {},
   "outputs": [
    {
     "name": "stderr",
     "output_type": "stream",
     "text": [
      "INFO:barely_db.examples:Reloading module barely_db.examples\n",
      "WARNING:barely_db.examples:Removing existing C:\\Repo\\barely-db\\examples\\BakeryDatabase\n",
      "INFO:barely_db:Entities found: 120\n",
      "INFO:barely_db:BR --> C:\\Repo\\barely-db\\examples\\BakeryDatabase\\breads\n",
      "INFO:barely_db:CU --> C:\\Repo\\barely-db\\examples\\BakeryDatabase\\customers\n",
      "INFO:barely_db:DOC --> C:\\Repo\\barely-db\\examples\\BakeryDatabase\\documents\n",
      "INFO:barely_db:DG --> C:\\Repo\\barely-db\\examples\\BakeryDatabase\\doughs\n",
      "INFO:barely_db:EQ --> C:\\Repo\\barely-db\\examples\\BakeryDatabase\\equipment\n",
      "INFO:barely_db:IG --> C:\\Repo\\barely-db\\examples\\BakeryDatabase\\ingrediences\n",
      "INFO:barely_db:Entities found: 120\n",
      "INFO:barely_db:BR --> C:\\Repo\\barely-db\\examples\\BakeryDatabase\\breads\n",
      "INFO:barely_db:CU --> C:\\Repo\\barely-db\\examples\\BakeryDatabase\\customers\n",
      "INFO:barely_db:DOC --> C:\\Repo\\barely-db\\examples\\BakeryDatabase\\documents\n",
      "INFO:barely_db:DG --> C:\\Repo\\barely-db\\examples\\BakeryDatabase\\doughs\n",
      "INFO:barely_db:EQ --> C:\\Repo\\barely-db\\examples\\BakeryDatabase\\equipment\n",
      "INFO:barely_db:IG --> C:\\Repo\\barely-db\\examples\\BakeryDatabase\\ingrediences\n"
     ]
    }
   ],
   "source": [
    "import barely_db.examples\n",
    "barely_db.examples._reload_module()\n",
    "\n",
    "bdb = barely_db.examples.make_example_db(base_path)\n",
    "bdb.load_entities()"
   ]
  },
  {
   "cell_type": "code",
   "execution_count": 28,
   "metadata": {},
   "outputs": [
    {
     "data": {
      "text/plain": [
       "BarelyDBEntity('CU0005', 'Matthew Ladd')"
      ]
     },
     "execution_count": 28,
     "metadata": {},
     "output_type": "execute_result"
    }
   ],
   "source": [
    "ent = bdb['CU0005']\n",
    "ent"
   ]
  },
  {
   "cell_type": "code",
   "execution_count": 29,
   "metadata": {},
   "outputs": [
    {
     "data": {
      "text/plain": [
       "BarelyDBEntity('EQ0005', <does not exist!>)"
      ]
     },
     "execution_count": 29,
     "metadata": {},
     "output_type": "execute_result"
    }
   ],
   "source": [
    "ent = bdb['EQ0005']\n",
    "ent"
   ]
  },
  {
   "cell_type": "code",
   "execution_count": 30,
   "metadata": {},
   "outputs": [
    {
     "name": "stderr",
     "output_type": "stream",
     "text": [
      "WARNING:barely_db:Component D1 already exists! C:\\Repo\\barely-db\\examples\\BakeryDatabase\\equipment\\EQ0004_scale_30kg\\-D1_device1\n",
      "WARNING:barely_db:Component D2 already exists! C:\\Repo\\barely-db\\examples\\BakeryDatabase\\equipment\\EQ0004_scale_30kg\\-D2_device2\n"
     ]
    },
    {
     "data": {
      "text/plain": [
       "WindowsPath('C:/Repo/barely-db/examples/BakeryDatabase/equipment/EQ0004_scale_30kg/-D2_device2')"
      ]
     },
     "execution_count": 30,
     "metadata": {},
     "output_type": "execute_result"
    }
   ],
   "source": [
    "ent = bdb['EQ0004']\n",
    "ent.create_component(component='D1', name='device1')\n",
    "ent.create_component(component='D2', name='device2')"
   ]
  },
  {
   "cell_type": "code",
   "execution_count": null,
   "metadata": {},
   "outputs": [],
   "source": []
  },
  {
   "cell_type": "code",
   "execution_count": 33,
   "metadata": {},
   "outputs": [
    {
     "data": {
      "text/plain": [
       "DoughRecipe(water='IG0004-B1', flour='IG0001-B1', w_water='1.34kg', w_flour='1.57kg')"
      ]
     },
     "execution_count": 33,
     "metadata": {},
     "output_type": "execute_result"
    }
   ],
   "source": [
    "import attr\n",
    "\n",
    "@barely_db.serialize_to_file(base_file_identifier='dough_recipe.json')\n",
    "@barely_db.cattr_json_serialize\n",
    "@attr.s(frozen=True, kw_only=True)\n",
    "class DoughRecipe():\n",
    "    water = attr.ib(default='IG0004-B1')\n",
    "    flour = attr.ib(default='IG0001-B1')\n",
    "\n",
    "    w_water = attr.ib(default='1kg')\n",
    "    w_flour = attr.ib(default='1kg')\n",
    "    \n",
    "\n",
    "dr = DoughRecipe(w_water='1.34kg', w_flour='1.57kg')\n",
    "dr"
   ]
  },
  {
   "cell_type": "code",
   "execution_count": 34,
   "metadata": {},
   "outputs": [
    {
     "name": "stdout",
     "output_type": "stream",
     "text": [
      "{\n",
      "    \"water\": \"IG0004-B1\",\n",
      "    \"flour\": \"IG0001-B1\",\n",
      "    \"w_water\": \"1.34kg\",\n",
      "    \"w_flour\": \"1.57kg\"\n",
      "}\n"
     ]
    }
   ],
   "source": [
    "print(dr.serialize())"
   ]
  },
  {
   "cell_type": "code",
   "execution_count": 36,
   "metadata": {},
   "outputs": [
    {
     "name": "stderr",
     "output_type": "stream",
     "text": [
      "INFO:barely_db.file_management:Created new revision (1) of file C:\\Repo\\barely-db\\examples\\BakeryDatabase\\breads\\BR0003_election\\dough_recipe.json!\n",
      "INFO:barely_db.file_management:Config written to C:\\Repo\\barely-db\\examples\\BakeryDatabase\\breads\\BR0003_election\\dough_recipe.json\n",
      "INFO:barely_db.file_management:Last revision of C:\\Repo\\barely-db\\examples\\BakeryDatabase\\breads\\BR0003_election\\dough_recipe.json matches current version and is removed!\n"
     ]
    },
    {
     "name": "stdout",
     "output_type": "stream",
     "text": [
      "C:\\Repo\\barely-db\\examples\\BakeryDatabase\\breads\\BR0003_election\\dough_recipe.json\n"
     ]
    }
   ],
   "source": [
    "ent = bdb['BR0003']\n",
    "\n",
    "fn = ent.save_object(dr)\n",
    "print(fn)\n",
    "\n",
    "dr2 = ent.load_object(DoughRecipe)\n",
    "assert dr == dr2"
   ]
  },
  {
   "cell_type": "code",
   "execution_count": null,
   "metadata": {},
   "outputs": [],
   "source": []
  },
  {
   "cell_type": "code",
   "execution_count": null,
   "metadata": {},
   "outputs": [],
   "source": []
  },
  {
   "cell_type": "code",
   "execution_count": null,
   "metadata": {},
   "outputs": [],
   "source": []
  },
  {
   "cell_type": "markdown",
   "metadata": {
    "heading_collapsed": true
   },
   "source": [
    "## Battrion"
   ]
  },
  {
   "cell_type": "code",
   "execution_count": 42,
   "metadata": {
    "hidden": true
   },
   "outputs": [
    {
     "name": "stderr",
     "output_type": "stream",
     "text": [
      "INFO:barely_db:Using default path G:\\Shared drives\\Database\n"
     ]
    },
    {
     "data": {
      "text/plain": [
       "BarelyDB(name=master @ G:\\Shared drives\\Database + 1)"
      ]
     },
     "execution_count": 42,
     "metadata": {},
     "output_type": "execute_result"
    }
   ],
   "source": [
    "bdb = BarelyDB(name='battrion_manufacturing')\n",
    "bdb"
   ]
  },
  {
   "cell_type": "code",
   "execution_count": 43,
   "metadata": {
    "hidden": true
   },
   "outputs": [
    {
     "name": "stderr",
     "output_type": "stream",
     "text": [
      "INFO:barely_db:Entities found: 1758\n",
      "INFO:barely_db:EQ --> G:\\Shared drives\\Database\\Equipment\n",
      "INFO:barely_db:CL --> G:\\Shared drives\\Database\\Cells\n",
      "INFO:barely_db:MO --> G:\\Shared drives\\Database\\ManufacturingOrders\n",
      "INFO:barely_db:RM --> G:\\Shared drives\\Database\\RawMaterials\n",
      "INFO:barely_db:EXP --> G:\\Shared drives\\Database\\Experiments\n",
      "INFO:barely_db:WB --> G:\\Shared drives\\Database\\Webs\n",
      "INFO:barely_db:SL --> G:\\Shared drives\\Database\\Slurries\n",
      "INFO:barely_db:EE --> G:\\Shared drives\\Database\\Electrochemistry\n",
      "INFO:barely_db:PD --> G:\\Shared drives\\Database\\Products\n",
      "INFO:barely_db:DOC --> G:\\Shared drives\\Database\\Documents\n"
     ]
    }
   ],
   "source": [
    "bdb.load_entities(verbose=True)"
   ]
  },
  {
   "cell_type": "code",
   "execution_count": 44,
   "metadata": {
    "hidden": true
   },
   "outputs": [],
   "source": [
    "# %timeit bdb.load_entities(verbose=False)"
   ]
  },
  {
   "cell_type": "code",
   "execution_count": 45,
   "metadata": {
    "hidden": true
   },
   "outputs": [],
   "source": [
    "# %timeit bdb.check_for_duplicates()"
   ]
  },
  {
   "cell_type": "code",
   "execution_count": 46,
   "metadata": {
    "hidden": true
   },
   "outputs": [],
   "source": [
    "# %timeit bdb.refresh_buid_type_paths(verbose=False)"
   ]
  },
  {
   "cell_type": "code",
   "execution_count": null,
   "metadata": {
    "hidden": true
   },
   "outputs": [],
   "source": []
  },
  {
   "cell_type": "code",
   "execution_count": null,
   "metadata": {
    "hidden": true
   },
   "outputs": [],
   "source": []
  },
  {
   "cell_type": "code",
   "execution_count": null,
   "metadata": {
    "hidden": true
   },
   "outputs": [],
   "source": []
  },
  {
   "cell_type": "code",
   "execution_count": null,
   "metadata": {
    "hidden": true
   },
   "outputs": [],
   "source": []
  },
  {
   "cell_type": "code",
   "execution_count": null,
   "metadata": {
    "hidden": true
   },
   "outputs": [],
   "source": []
  },
  {
   "cell_type": "code",
   "execution_count": null,
   "metadata": {
    "hidden": true
   },
   "outputs": [],
   "source": []
  },
  {
   "cell_type": "code",
   "execution_count": null,
   "metadata": {
    "hidden": true
   },
   "outputs": [],
   "source": []
  },
  {
   "cell_type": "code",
   "execution_count": null,
   "metadata": {
    "hidden": true
   },
   "outputs": [],
   "source": []
  },
  {
   "cell_type": "code",
   "execution_count": null,
   "metadata": {
    "hidden": true
   },
   "outputs": [],
   "source": []
  },
  {
   "cell_type": "code",
   "execution_count": null,
   "metadata": {
    "hidden": true
   },
   "outputs": [],
   "source": []
  },
  {
   "cell_type": "markdown",
   "metadata": {
    "heading_collapsed": true
   },
   "source": [
    "## BarelyDB Basic tests"
   ]
  },
  {
   "cell_type": "code",
   "execution_count": 8,
   "metadata": {
    "hidden": true
   },
   "outputs": [],
   "source": [
    "# bdb = BarelyDB(Path('../..'))\n",
    "# bdb.load_entities()"
   ]
  },
  {
   "cell_type": "code",
   "execution_count": 9,
   "metadata": {
    "hidden": true
   },
   "outputs": [
    {
     "ename": "RuntimeError",
     "evalue": "Could not automatically determine base path of database!",
     "output_type": "error",
     "traceback": [
      "\u001b[1;31m---------------------------------------------------------------------------\u001b[0m",
      "\u001b[1;31mRuntimeError\u001b[0m                              Traceback (most recent call last)",
      "\u001b[1;32m<ipython-input-9-e0a38318aac0>\u001b[0m in \u001b[0;36m<module>\u001b[1;34m()\u001b[0m\n\u001b[1;32m----> 1\u001b[1;33m \u001b[0mbdb\u001b[0m \u001b[1;33m=\u001b[0m \u001b[0mBarelyDB\u001b[0m\u001b[1;33m(\u001b[0m\u001b[0mPath\u001b[0m\u001b[1;33m(\u001b[0m\u001b[1;34m'../../..'\u001b[0m\u001b[1;33m)\u001b[0m\u001b[1;33m,\u001b[0m \u001b[0mpath_depth\u001b[0m\u001b[1;33m=\u001b[0m\u001b[1;36m1\u001b[0m\u001b[1;33m)\u001b[0m\u001b[1;33m\u001b[0m\u001b[0m\n\u001b[0m\u001b[0;32m      2\u001b[0m \u001b[0mbdb\u001b[0m\u001b[1;33m.\u001b[0m\u001b[0mload_entities\u001b[0m\u001b[1;33m(\u001b[0m\u001b[1;33m)\u001b[0m\u001b[1;33m\u001b[0m\u001b[0m\n",
      "\u001b[1;32mC:\\Repo\\barely-db\\barely_db\\__init__.py\u001b[0m in \u001b[0;36m__init__\u001b[1;34m(self, name, base_path, path_depth, auto_reload_components)\u001b[0m\n\u001b[0;32m    198\u001b[0m \u001b[1;33m\u001b[0m\u001b[0m\n\u001b[0;32m    199\u001b[0m         \u001b[1;32mif\u001b[0m \u001b[0mbase_path\u001b[0m \u001b[1;32mis\u001b[0m \u001b[1;32mNone\u001b[0m\u001b[1;33m:\u001b[0m\u001b[1;33m\u001b[0m\u001b[0m\n\u001b[1;32m--> 200\u001b[1;33m             \u001b[1;32mraise\u001b[0m \u001b[0mRuntimeError\u001b[0m\u001b[1;33m(\u001b[0m\u001b[1;34m'Could not automatically determine base path of database!'\u001b[0m\u001b[1;33m)\u001b[0m\u001b[1;33m\u001b[0m\u001b[0m\n\u001b[0m\u001b[0;32m    201\u001b[0m \u001b[1;33m\u001b[0m\u001b[0m\n\u001b[0;32m    202\u001b[0m         \u001b[0mself\u001b[0m\u001b[1;33m.\u001b[0m\u001b[0mconfig\u001b[0m \u001b[1;33m=\u001b[0m \u001b[0mBarelyDBConfig\u001b[0m\u001b[1;33m.\u001b[0m\u001b[0mload\u001b[0m\u001b[1;33m(\u001b[0m\u001b[0mbase_path\u001b[0m\u001b[1;33m)\u001b[0m\u001b[1;33m\u001b[0m\u001b[0m\n",
      "\u001b[1;31mRuntimeError\u001b[0m: Could not automatically determine base path of database!"
     ]
    }
   ],
   "source": [
    "bdb = BarelyDB(Path('../../..'), path_depth=1)\n",
    "bdb.load_entities()"
   ]
  },
  {
   "cell_type": "code",
   "execution_count": 138,
   "metadata": {
    "hidden": true
   },
   "outputs": [],
   "source": [
    "bdb.entities;"
   ]
  },
  {
   "cell_type": "code",
   "execution_count": 139,
   "metadata": {
    "hidden": true
   },
   "outputs": [
    {
     "data": {
      "text/plain": [
       "WindowsPath('G:/My Drive/Battrion_AG/DATABASE/Slurries/SL0201_Rochester_Power_NCA _coating')"
      ]
     },
     "execution_count": 139,
     "metadata": {},
     "output_type": "execute_result"
    }
   ],
   "source": [
    "bdb.entity_path('SL00201')"
   ]
  },
  {
   "cell_type": "code",
   "execution_count": 140,
   "metadata": {
    "hidden": true
   },
   "outputs": [
    {
     "data": {
      "text/plain": [
       "['G:\\\\My Drive\\\\Battrion_AG\\\\DATABASE\\\\Slurries\\\\SL0201_Rochester_Power_NCA _coating\\\\RunSheet_Slurry_SL0200_CHA_rev001.xlsx',\n",
       " 'G:\\\\My Drive\\\\Battrion_AG\\\\DATABASE\\\\Slurries\\\\SL0201_Rochester_Power_NCA _coating\\\\~$RunSheet_Slurry_SL0179_CHA_rev003.xlsx']"
      ]
     },
     "execution_count": 140,
     "metadata": {},
     "output_type": "execute_result"
    }
   ],
   "source": [
    "bdb.entity_files('SL00201', '*')"
   ]
  }
 ],
 "metadata": {
  "kernelspec": {
   "display_name": "Python 3",
   "language": "python",
   "name": "python3"
  },
  "language_info": {
   "codemirror_mode": {
    "name": "ipython",
    "version": 3
   },
   "file_extension": ".py",
   "mimetype": "text/x-python",
   "name": "python",
   "nbconvert_exporter": "python",
   "pygments_lexer": "ipython3",
   "version": "3.6.2"
  },
  "toc": {
   "colors": {
    "hover_highlight": "#DAA520",
    "navigate_num": "#000000",
    "navigate_text": "#333333",
    "running_highlight": "#FF0000",
    "selected_highlight": "#FFD700",
    "sidebar_border": "#EEEEEE",
    "wrapper_background": "#FFFFFF"
   },
   "moveMenuLeft": true,
   "nav_menu": {
    "height": "102px",
    "width": "252px"
   },
   "navigate_menu": true,
   "number_sections": true,
   "sideBar": true,
   "threshold": 4,
   "toc_cell": false,
   "toc_section_display": "block",
   "toc_window_display": false,
   "widenNotebook": false
  }
 },
 "nbformat": 4,
 "nbformat_minor": 2
}
