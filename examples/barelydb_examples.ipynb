{
 "cells": [
  {
   "cell_type": "markdown",
   "metadata": {},
   "source": [
    "# Import modules"
   ]
  },
  {
   "cell_type": "code",
   "execution_count": 1,
   "metadata": {},
   "outputs": [],
   "source": [
    "# Import extensions\n",
    "import sys \n",
    "import numpy as np\n",
    "import matplotlib.pyplot as plt\n",
    "%matplotlib inline\n",
    "from pathlib import Path\n",
    "from IPython.display import FileLink, FileLinks\n",
    "# FileLinks('.') #lists all downloadable files on server"
   ]
  },
  {
   "cell_type": "code",
   "execution_count": 2,
   "metadata": {},
   "outputs": [],
   "source": [
    "sys.path.append('..')"
   ]
  },
  {
   "cell_type": "code",
   "execution_count": 3,
   "metadata": {},
   "outputs": [],
   "source": [
    "import barely_db\n",
    "barely_db._reload_module()\n",
    "from barely_db import *\n",
    "# test_BUID()"
   ]
  },
  {
   "cell_type": "code",
   "execution_count": 4,
   "metadata": {},
   "outputs": [],
   "source": [
    "import logging\n",
    "logging.basicConfig(level=logging.DEBUG)"
   ]
  },
  {
   "cell_type": "markdown",
   "metadata": {},
   "source": [
    "## Barely DB test\n"
   ]
  },
  {
   "cell_type": "code",
   "execution_count": 5,
   "metadata": {},
   "outputs": [
    {
     "data": {
      "text/plain": [
       "BarelyDB(name=examples @ C:\\Repo\\barely-db\\examples\\Database + 1)"
      ]
     },
     "execution_count": 5,
     "metadata": {},
     "output_type": "execute_result"
    }
   ],
   "source": [
    "bdb = BarelyDB(base_path='./Database')\n",
    "bdb"
   ]
  },
  {
   "cell_type": "code",
   "execution_count": 6,
   "metadata": {},
   "outputs": [
    {
     "name": "stderr",
     "output_type": "stream",
     "text": [
      "INFO:barely_db:Entities found: 11\n",
      "INFO:barely_db:WB --> C:\\Repo\\barely-db\\examples\\Database\\Webs\n"
     ]
    }
   ],
   "source": [
    "bdb.load_entities()"
   ]
  },
  {
   "cell_type": "markdown",
   "metadata": {
    "heading_collapsed": true
   },
   "source": [
    "## Read"
   ]
  },
  {
   "cell_type": "code",
   "execution_count": 7,
   "metadata": {
    "hidden": true
   },
   "outputs": [
    {
     "name": "stderr",
     "output_type": "stream",
     "text": [
      "INFO:barely_db:Entities found: 11\n",
      "INFO:barely_db:WB --> C:\\Repo\\barely-db\\examples\\Database\\Webs\n"
     ]
    }
   ],
   "source": [
    "bdb.load_entities()"
   ]
  },
  {
   "cell_type": "code",
   "execution_count": 8,
   "metadata": {
    "hidden": true
   },
   "outputs": [
    {
     "data": {
      "text/plain": [
       "['WB3001',\n",
       " 'WB9001',\n",
       " 'WB9002',\n",
       " 'WB9003',\n",
       " 'WB9004',\n",
       " 'WB9005',\n",
       " 'WB9006',\n",
       " 'WB9007',\n",
       " 'WB9008',\n",
       " 'WB9009',\n",
       " 'WB9010']"
      ]
     },
     "execution_count": 8,
     "metadata": {},
     "output_type": "execute_result"
    }
   ],
   "source": [
    "bdb.entities"
   ]
  },
  {
   "cell_type": "code",
   "execution_count": 23,
   "metadata": {
    "hidden": true
   },
   "outputs": [],
   "source": [
    "buid = 'WB3001-P1'"
   ]
  },
  {
   "cell_type": "code",
   "execution_count": 24,
   "metadata": {
    "hidden": true
   },
   "outputs": [
    {
     "data": {
      "text/plain": [
       "BarelyDBEntity('WB3001-P1')"
      ]
     },
     "execution_count": 24,
     "metadata": {},
     "output_type": "execute_result"
    }
   ],
   "source": [
    "ent = bdb[buid]\n",
    "ent"
   ]
  },
  {
   "cell_type": "code",
   "execution_count": 25,
   "metadata": {
    "hidden": true
   },
   "outputs": [
    {
     "data": {
      "text/plain": [
       "'WB3001_SL_LGA1'"
      ]
     },
     "execution_count": 25,
     "metadata": {},
     "output_type": "execute_result"
    }
   ],
   "source": [
    "ent.name"
   ]
  },
  {
   "cell_type": "code",
   "execution_count": 26,
   "metadata": {
    "hidden": true
   },
   "outputs": [
    {
     "data": {
      "text/plain": [
       "WindowsPath('C:/Repo/barely-db/examples/Database/Webs/WB3001_SL_LGA1/-P1')"
      ]
     },
     "execution_count": 26,
     "metadata": {},
     "output_type": "execute_result"
    }
   ],
   "source": [
    "ent.path"
   ]
  },
  {
   "cell_type": "code",
   "execution_count": 27,
   "metadata": {
    "hidden": true
   },
   "outputs": [
    {
     "data": {
      "text/plain": [
       "WindowsPath('C:/Repo/barely-db/examples/Database/Webs/WB3001_SL_LGA1')"
      ]
     },
     "execution_count": 27,
     "metadata": {},
     "output_type": "execute_result"
    }
   ],
   "source": [
    "ent.entity_path"
   ]
  },
  {
   "cell_type": "code",
   "execution_count": 28,
   "metadata": {
    "hidden": true
   },
   "outputs": [
    {
     "data": {
      "text/plain": [
       "WindowsPath('C:/Repo/barely-db/examples/Database/Webs/WB3001_SL_LGA1/-P1')"
      ]
     },
     "execution_count": 28,
     "metadata": {},
     "output_type": "execute_result"
    }
   ],
   "source": [
    "ent.component_path"
   ]
  },
  {
   "cell_type": "code",
   "execution_count": 29,
   "metadata": {
    "hidden": true
   },
   "outputs": [
    {
     "name": "stderr",
     "output_type": "stream",
     "text": [
      "INFO:barely_db.file_management:Opening explorer for folder C:\\Repo\\barely-db\\examples\\Database\\Webs\\WB3001_SL_LGA1\\-P1\n"
     ]
    }
   ],
   "source": [
    "ent.open_in_explorer()"
   ]
  },
  {
   "cell_type": "code",
   "execution_count": 31,
   "metadata": {
    "hidden": true
   },
   "outputs": [
    {
     "data": {
      "text/plain": [
       "['C:\\\\Repo\\\\barely-db\\\\examples\\\\Database\\\\Webs\\\\WB3001_SL_LGA1\\\\-P1\\\\process_config_mvc.yaml',\n",
       " 'C:\\\\Repo\\\\barely-db\\\\examples\\\\Database\\\\Webs\\\\WB3001_SL_LGA1\\\\-P1\\\\WB3001-P1_dlt_homo.yaml',\n",
       " 'C:\\\\Repo\\\\barely-db\\\\examples\\\\Database\\\\Webs\\\\WB3001_SL_LGA1\\\\-P1\\\\WB3001-P1_loadinghomo_cw.property.yaml',\n",
       " 'C:\\\\Repo\\\\barely-db\\\\examples\\\\Database\\\\Webs\\\\WB3001_SL_LGA1\\\\-P1\\\\WB3001-P1_loading_cw.property.yaml',\n",
       " 'C:\\\\Repo\\\\barely-db\\\\examples\\\\Database\\\\Webs\\\\WB3001_SL_LGA1\\\\-P1\\\\WB3001-P1_peel_force.property.yaml',\n",
       " 'C:\\\\Repo\\\\barely-db\\\\examples\\\\Database\\\\Webs\\\\WB3001_SL_LGA1\\\\-P1\\\\WB3001-P1_temperature_profiles.yaml',\n",
       " 'C:\\\\Repo\\\\barely-db\\\\examples\\\\Database\\\\Webs\\\\WB3001_SL_LGA1\\\\-P1\\\\WB3001-P1_web_data.property.yaml',\n",
       " 'C:\\\\Repo\\\\barely-db\\\\examples\\\\Database\\\\Webs\\\\WB3001_SL_LGA1\\\\-P1\\\\WB3001-P1_web_spec.property.yaml',\n",
       " 'C:\\\\Repo\\\\barely-db\\\\examples\\\\Database\\\\Webs\\\\WB3001_SL_LGA1\\\\-P1\\\\WB3001-P1_web_valid_meas.property.yaml',\n",
       " 'C:\\\\Repo\\\\barely-db\\\\examples\\\\Database\\\\Webs\\\\WB3001_SL_LGA1\\\\-P1\\\\WB3001-P1_web_valid_report.property.yaml',\n",
       " 'C:\\\\Repo\\\\barely-db\\\\examples\\\\Database\\\\Webs\\\\WB3001_SL_LGA1\\\\-P1\\\\WB3001-P1_wlt_homo.yaml',\n",
       " 'C:\\\\Repo\\\\barely-db\\\\examples\\\\Database\\\\Webs\\\\WB3001_SL_LGA1\\\\-P1\\\\web_valid_spec.property.yaml']"
      ]
     },
     "execution_count": 31,
     "metadata": {},
     "output_type": "execute_result"
    }
   ],
   "source": [
    "ent.files('*.yaml')"
   ]
  },
  {
   "cell_type": "code",
   "execution_count": null,
   "metadata": {
    "hidden": true
   },
   "outputs": [],
   "source": []
  },
  {
   "cell_type": "code",
   "execution_count": null,
   "metadata": {
    "hidden": true
   },
   "outputs": [],
   "source": []
  },
  {
   "cell_type": "code",
   "execution_count": 32,
   "metadata": {
    "hidden": true
   },
   "outputs": [
    {
     "data": {
      "text/plain": [
       "{'P1': WindowsPath('C:/Repo/barely-db/examples/Database/Webs/WB3001_SL_LGA1/-P1'),\n",
       " 'Q1': WindowsPath('C:/Repo/barely-db/examples/Database/Webs/WB3001_SL_LGA1/-Q1')}"
      ]
     },
     "execution_count": 32,
     "metadata": {},
     "output_type": "execute_result"
    }
   ],
   "source": [
    "ent.component_paths"
   ]
  },
  {
   "cell_type": "code",
   "execution_count": 33,
   "metadata": {
    "hidden": true
   },
   "outputs": [
    {
     "data": {
      "text/plain": [
       "'C:\\\\Repo\\\\barely-db\\\\examples\\\\Database\\\\Webs\\\\WB3001_SL_LGA1\\\\-P1\\\\Data.json'"
      ]
     },
     "execution_count": 33,
     "metadata": {},
     "output_type": "execute_result"
    }
   ],
   "source": [
    "ent.resolve_relative_path('./Data.json')"
   ]
  },
  {
   "cell_type": "code",
   "execution_count": 34,
   "metadata": {
    "hidden": true
   },
   "outputs": [
    {
     "data": {
      "text/plain": [
       "['C:\\\\Repo\\\\barely-db\\\\examples\\\\Database\\\\Webs\\\\WB3001_SL_LGA1\\\\-P1\\\\Data.json',\n",
       " 'C:\\\\Repo\\\\barely-db\\\\examples\\\\Database\\\\Webs\\\\WB3001_SL_LGA1\\\\-P1\\\\Data2.json']"
      ]
     },
     "execution_count": 34,
     "metadata": {},
     "output_type": "execute_result"
    }
   ],
   "source": [
    "ent.resolve_relative_path(['./Data.json', './Data2.json'])"
   ]
  },
  {
   "cell_type": "code",
   "execution_count": 35,
   "metadata": {
    "hidden": true
   },
   "outputs": [
    {
     "data": {
      "text/plain": [
       "WindowsPath('C:/Repo/barely-db/examples/Database/Webs/WB3001_SL_LGA1/-P1/Data.json')"
      ]
     },
     "execution_count": 35,
     "metadata": {},
     "output_type": "execute_result"
    }
   ],
   "source": [
    "ent.path.joinpath('./Data.json').absolute().resolve()"
   ]
  },
  {
   "cell_type": "code",
   "execution_count": 40,
   "metadata": {
    "hidden": true
   },
   "outputs": [
    {
     "data": {
      "text/plain": [
       "{'WB3001': {'P1': WindowsPath('C:/Repo/barely-db/examples/Database/Webs/WB3001_SL_LGA1/-P1'),\n",
       "  'Q1': WindowsPath('C:/Repo/barely-db/examples/Database/Webs/WB3001_SL_LGA1/-Q1')}}"
      ]
     },
     "execution_count": 40,
     "metadata": {},
     "output_type": "execute_result"
    }
   ],
   "source": [
    "bdb.component_paths"
   ]
  },
  {
   "cell_type": "code",
   "execution_count": null,
   "metadata": {
    "hidden": true
   },
   "outputs": [],
   "source": []
  },
  {
   "cell_type": "code",
   "execution_count": null,
   "metadata": {
    "hidden": true
   },
   "outputs": [],
   "source": []
  },
  {
   "cell_type": "code",
   "execution_count": null,
   "metadata": {
    "hidden": true
   },
   "outputs": [],
   "source": []
  },
  {
   "cell_type": "markdown",
   "metadata": {},
   "source": [
    "## Creating entities"
   ]
  },
  {
   "cell_type": "code",
   "execution_count": 9,
   "metadata": {},
   "outputs": [
    {
     "name": "stderr",
     "output_type": "stream",
     "text": [
      "INFO:barely_db:Entities found: 12\n",
      "INFO:barely_db:WB --> C:\\Repo\\barely-db\\examples\\Database\\Webs\n"
     ]
    }
   ],
   "source": [
    "ent = bdb.create_new_entity(after='WB9001', name='a_test')"
   ]
  },
  {
   "cell_type": "code",
   "execution_count": 20,
   "metadata": {},
   "outputs": [
    {
     "data": {
      "text/plain": [
       "'WB9011'"
      ]
     },
     "execution_count": 20,
     "metadata": {},
     "output_type": "execute_result"
    }
   ],
   "source": [
    "ent.buid_with_component"
   ]
  },
  {
   "cell_type": "code",
   "execution_count": 22,
   "metadata": {},
   "outputs": [
    {
     "name": "stderr",
     "output_type": "stream",
     "text": [
      "WARNING:barely_db:Component path already exists! C:\\Repo\\barely-db\\examples\\Database\\Webs\\WB9011_a_test\\-P1_a_component\n"
     ]
    },
    {
     "data": {
      "text/plain": [
       "WindowsPath('C:/Repo/barely-db/examples/Database/Webs/WB9011_a_test/-P1_a_component')"
      ]
     },
     "execution_count": 22,
     "metadata": {},
     "output_type": "execute_result"
    }
   ],
   "source": [
    "ent_comp = ent.create_component(component='P1', name='a_component')\n",
    "ent_comp"
   ]
  },
  {
   "cell_type": "code",
   "execution_count": null,
   "metadata": {},
   "outputs": [],
   "source": []
  },
  {
   "cell_type": "code",
   "execution_count": null,
   "metadata": {},
   "outputs": [],
   "source": []
  },
  {
   "cell_type": "code",
   "execution_count": null,
   "metadata": {},
   "outputs": [],
   "source": []
  },
  {
   "cell_type": "markdown",
   "metadata": {
    "heading_collapsed": true
   },
   "source": [
    "## BUID parsing"
   ]
  },
  {
   "cell_type": "code",
   "execution_count": 6,
   "metadata": {
    "hidden": true
   },
   "outputs": [],
   "source": [
    "# ??test_BUID"
   ]
  },
  {
   "cell_type": "code",
   "execution_count": 7,
   "metadata": {
    "hidden": true
   },
   "outputs": [
    {
     "ename": "NameError",
     "evalue": "name 'test_BUID' is not defined",
     "output_type": "error",
     "traceback": [
      "\u001b[1;31m---------------------------------------------------------------------------\u001b[0m",
      "\u001b[1;31mNameError\u001b[0m                                 Traceback (most recent call last)",
      "\u001b[1;32m<ipython-input-7-509e2209683f>\u001b[0m in \u001b[0;36m<module>\u001b[1;34m()\u001b[0m\n\u001b[1;32m----> 1\u001b[1;33m \u001b[0mtest_BUID\u001b[0m\u001b[1;33m(\u001b[0m\u001b[1;33m)\u001b[0m\u001b[1;33m\u001b[0m\u001b[0m\n\u001b[0m",
      "\u001b[1;31mNameError\u001b[0m: name 'test_BUID' is not defined"
     ]
    }
   ],
   "source": [
    "test_BUID()"
   ]
  },
  {
   "cell_type": "markdown",
   "metadata": {
    "heading_collapsed": true
   },
   "source": [
    "## BarelyDB Basic tests"
   ]
  },
  {
   "cell_type": "code",
   "execution_count": 8,
   "metadata": {
    "hidden": true
   },
   "outputs": [],
   "source": [
    "# bdb = BarelyDB(Path('../..'))\n",
    "# bdb.load_entities()"
   ]
  },
  {
   "cell_type": "code",
   "execution_count": 9,
   "metadata": {
    "hidden": true
   },
   "outputs": [
    {
     "ename": "RuntimeError",
     "evalue": "Could not automatically determine base path of database!",
     "output_type": "error",
     "traceback": [
      "\u001b[1;31m---------------------------------------------------------------------------\u001b[0m",
      "\u001b[1;31mRuntimeError\u001b[0m                              Traceback (most recent call last)",
      "\u001b[1;32m<ipython-input-9-e0a38318aac0>\u001b[0m in \u001b[0;36m<module>\u001b[1;34m()\u001b[0m\n\u001b[1;32m----> 1\u001b[1;33m \u001b[0mbdb\u001b[0m \u001b[1;33m=\u001b[0m \u001b[0mBarelyDB\u001b[0m\u001b[1;33m(\u001b[0m\u001b[0mPath\u001b[0m\u001b[1;33m(\u001b[0m\u001b[1;34m'../../..'\u001b[0m\u001b[1;33m)\u001b[0m\u001b[1;33m,\u001b[0m \u001b[0mpath_depth\u001b[0m\u001b[1;33m=\u001b[0m\u001b[1;36m1\u001b[0m\u001b[1;33m)\u001b[0m\u001b[1;33m\u001b[0m\u001b[0m\n\u001b[0m\u001b[0;32m      2\u001b[0m \u001b[0mbdb\u001b[0m\u001b[1;33m.\u001b[0m\u001b[0mload_entities\u001b[0m\u001b[1;33m(\u001b[0m\u001b[1;33m)\u001b[0m\u001b[1;33m\u001b[0m\u001b[0m\n",
      "\u001b[1;32mC:\\Repo\\barely-db\\barely_db\\__init__.py\u001b[0m in \u001b[0;36m__init__\u001b[1;34m(self, name, base_path, path_depth, auto_reload_components)\u001b[0m\n\u001b[0;32m    198\u001b[0m \u001b[1;33m\u001b[0m\u001b[0m\n\u001b[0;32m    199\u001b[0m         \u001b[1;32mif\u001b[0m \u001b[0mbase_path\u001b[0m \u001b[1;32mis\u001b[0m \u001b[1;32mNone\u001b[0m\u001b[1;33m:\u001b[0m\u001b[1;33m\u001b[0m\u001b[0m\n\u001b[1;32m--> 200\u001b[1;33m             \u001b[1;32mraise\u001b[0m \u001b[0mRuntimeError\u001b[0m\u001b[1;33m(\u001b[0m\u001b[1;34m'Could not automatically determine base path of database!'\u001b[0m\u001b[1;33m)\u001b[0m\u001b[1;33m\u001b[0m\u001b[0m\n\u001b[0m\u001b[0;32m    201\u001b[0m \u001b[1;33m\u001b[0m\u001b[0m\n\u001b[0;32m    202\u001b[0m         \u001b[0mself\u001b[0m\u001b[1;33m.\u001b[0m\u001b[0mconfig\u001b[0m \u001b[1;33m=\u001b[0m \u001b[0mBarelyDBConfig\u001b[0m\u001b[1;33m.\u001b[0m\u001b[0mload\u001b[0m\u001b[1;33m(\u001b[0m\u001b[0mbase_path\u001b[0m\u001b[1;33m)\u001b[0m\u001b[1;33m\u001b[0m\u001b[0m\n",
      "\u001b[1;31mRuntimeError\u001b[0m: Could not automatically determine base path of database!"
     ]
    }
   ],
   "source": [
    "bdb = BarelyDB(Path('../../..'), path_depth=1)\n",
    "bdb.load_entities()"
   ]
  },
  {
   "cell_type": "code",
   "execution_count": 138,
   "metadata": {
    "hidden": true
   },
   "outputs": [],
   "source": [
    "bdb.entities;"
   ]
  },
  {
   "cell_type": "code",
   "execution_count": 139,
   "metadata": {
    "hidden": true
   },
   "outputs": [
    {
     "data": {
      "text/plain": [
       "WindowsPath('G:/My Drive/Battrion_AG/DATABASE/Slurries/SL0201_Rochester_Power_NCA _coating')"
      ]
     },
     "execution_count": 139,
     "metadata": {},
     "output_type": "execute_result"
    }
   ],
   "source": [
    "bdb.entity_path('SL00201')"
   ]
  },
  {
   "cell_type": "code",
   "execution_count": 140,
   "metadata": {
    "hidden": true
   },
   "outputs": [
    {
     "data": {
      "text/plain": [
       "['G:\\\\My Drive\\\\Battrion_AG\\\\DATABASE\\\\Slurries\\\\SL0201_Rochester_Power_NCA _coating\\\\RunSheet_Slurry_SL0200_CHA_rev001.xlsx',\n",
       " 'G:\\\\My Drive\\\\Battrion_AG\\\\DATABASE\\\\Slurries\\\\SL0201_Rochester_Power_NCA _coating\\\\~$RunSheet_Slurry_SL0179_CHA_rev003.xlsx']"
      ]
     },
     "execution_count": 140,
     "metadata": {},
     "output_type": "execute_result"
    }
   ],
   "source": [
    "bdb.entity_files('SL00201', '*')"
   ]
  },
  {
   "cell_type": "markdown",
   "metadata": {
    "heading_collapsed": true
   },
   "source": [
    "## Properties"
   ]
  },
  {
   "cell_type": "code",
   "execution_count": 141,
   "metadata": {
    "hidden": true
   },
   "outputs": [
    {
     "name": "stderr",
     "output_type": "stream",
     "text": [
      "WARNING:barely_db:Property file has no buid specification SL338_recipe_INVALID.property.json!\n",
      "WARNING:barely_db:Property file has no source specification SL338_recipe_INVALID.property.json!\n",
      "WARNING:barely_db:Multiple sources for w_cb in entity SL0338, even after filtering with preferred_property_files! Please, remove entries from preferred_property_files to lift this ambiguity! Found sources follow below:\n",
      "WARNING:barely_db:{\n",
      "    \"w_cb\": 0.0,\n",
      "    \"property_file\": \"SL338_recipe.property.json\",\n",
      "    \"source\": \"manual from 181009_SL0338_Batches_combined_dilution.xlsx\"\n",
      "}\n",
      "WARNING:barely_db:{\n",
      "    \"w_cb\": 0.0,\n",
      "    \"property_file\": \"SL338_recipe_INVALID.property.json\",\n",
      "    \"source\": \"Unknown source!\"\n",
      "}\n"
     ]
    }
   ],
   "source": [
    "# ambiguity can occur!\n",
    "bdb.clear_preferred_files()\n",
    "bdb.query_property('SL338', 'w_cb')"
   ]
  },
  {
   "cell_type": "code",
   "execution_count": 142,
   "metadata": {
    "hidden": true
   },
   "outputs": [
    {
     "data": {
      "text/plain": [
       "SourcedItem(name='w_cb', value=0.0, property_file='SL338_recipe.property.json', source='manual from 181009_SL0338_Batches_combined_dilution.xlsx')"
      ]
     },
     "execution_count": 142,
     "metadata": {},
     "output_type": "execute_result"
    }
   ],
   "source": [
    "# ambiguity can be relieved by specifying preferred files!\n",
    "bdb.add_preferred_file(\"SL338_recipe.property.json\")\n",
    "bdb.query_property('SL338', 'w_cb')"
   ]
  },
  {
   "cell_type": "code",
   "execution_count": 143,
   "metadata": {
    "hidden": true
   },
   "outputs": [],
   "source": [
    "props = bdb.get_entity_properties('SL338')"
   ]
  },
  {
   "cell_type": "code",
   "execution_count": 144,
   "metadata": {
    "hidden": true
   },
   "outputs": [
    {
     "name": "stderr",
     "output_type": "stream",
     "text": [
      "WARNING:barely_db:Property file has no buid specification SL338_recipe_INVALID.property.json!\n",
      "WARNING:barely_db:Property file has no source specification SL338_recipe_INVALID.property.json!\n"
     ]
    }
   ],
   "source": [
    "props = bdb.get_entity_properties('SL338', reload=True)"
   ]
  },
  {
   "cell_type": "code",
   "execution_count": 145,
   "metadata": {
    "hidden": true
   },
   "outputs": [],
   "source": [
    "import objectpath # http://objectpath.org/reference.html"
   ]
  },
  {
   "cell_type": "code",
   "execution_count": 146,
   "metadata": {
    "hidden": true
   },
   "outputs": [
    {
     "name": "stderr",
     "output_type": "stream",
     "text": [
      "WARNING:barely_db:Property file has no buid specification SL338_recipe_INVALID.property.json!\n",
      "WARNING:barely_db:Property file has no source specification SL338_recipe_INVALID.property.json!\n"
     ]
    },
    {
     "data": {
      "text/plain": [
       "['SL338_Viscosity.txt.property.json',\n",
       " 'SL338_recipe.property.json',\n",
       " 'SL338_recipe_INVALID.property.json']"
      ]
     },
     "execution_count": 146,
     "metadata": {},
     "output_type": "execute_result"
    }
   ],
   "source": [
    "bdb.reload_entity_properties()\n",
    "tree = bdb.get_entity_tree('SL338')\n",
    "list(tree.execute(\"$..*.property_file\"))"
   ]
  },
  {
   "cell_type": "code",
   "execution_count": 147,
   "metadata": {
    "hidden": true
   },
   "outputs": [
    {
     "name": "stderr",
     "output_type": "stream",
     "text": [
      "WARNING:barely_db:No value for lala in entity SL0338!\n"
     ]
    }
   ],
   "source": [
    "bdb.query_property('SL338', 'lala')"
   ]
  },
  {
   "cell_type": "code",
   "execution_count": 148,
   "metadata": {
    "hidden": true
   },
   "outputs": [
    {
     "data": {
      "text/plain": [
       "SourcedItem(name='w_g', value=93.0, property_file='SL338_recipe.property.json', source='manual from 181009_SL0338_Batches_combined_dilution.xlsx')"
      ]
     },
     "execution_count": 148,
     "metadata": {},
     "output_type": "execute_result"
    }
   ],
   "source": [
    "bdb.query_property('SL338', 'w_g')"
   ]
  },
  {
   "cell_type": "code",
   "execution_count": 149,
   "metadata": {
    "hidden": true
   },
   "outputs": [
    {
     "name": "stderr",
     "output_type": "stream",
     "text": [
      "WARNING:barely_db:Multiple sources for w_cb in entity SL0338, even after filtering with preferred_property_files! Please, remove entries from preferred_property_files to lift this ambiguity! Found sources follow below:\n",
      "WARNING:barely_db:{\n",
      "    \"w_cb\": 0.0,\n",
      "    \"property_file\": \"SL338_recipe.property.json\",\n",
      "    \"source\": \"manual from 181009_SL0338_Batches_combined_dilution.xlsx\"\n",
      "}\n",
      "WARNING:barely_db:{\n",
      "    \"w_cb\": 0.0,\n",
      "    \"property_file\": \"SL338_recipe_INVALID.property.json\",\n",
      "    \"source\": \"Unknown source!\"\n",
      "}\n"
     ]
    }
   ],
   "source": [
    "# ambiguity can occur!\n",
    "bdb.clear_preferred_files()\n",
    "bdb.query_property('SL338', 'w_cb')"
   ]
  },
  {
   "cell_type": "code",
   "execution_count": 150,
   "metadata": {
    "hidden": true
   },
   "outputs": [
    {
     "data": {
      "text/plain": [
       "SourcedItem(name='w_cb', value=0.0, property_file='SL338_recipe.property.json', source='manual from 181009_SL0338_Batches_combined_dilution.xlsx')"
      ]
     },
     "execution_count": 150,
     "metadata": {},
     "output_type": "execute_result"
    }
   ],
   "source": [
    "# ambiguity can be relieved by specifying preferred files!\n",
    "bdb.add_preferred_file(\"SL338_recipe.property.json\")\n",
    "bdb.query_property('SL338', 'w_cb')"
   ]
  },
  {
   "cell_type": "code",
   "execution_count": 151,
   "metadata": {
    "hidden": true
   },
   "outputs": [
    {
     "name": "stderr",
     "output_type": "stream",
     "text": [
      "WARNING:barely_db:No value for tsc in entity SL0338!\n"
     ]
    }
   ],
   "source": [
    "# ambiguity can be relieved by specifying source information!\n",
    "bdb.query_property('SL338', 'tsc', source='dilution')"
   ]
  },
  {
   "cell_type": "code",
   "execution_count": 152,
   "metadata": {
    "hidden": true
   },
   "outputs": [
    {
     "name": "stderr",
     "output_type": "stream",
     "text": [
      "WARNING:barely_db:No value for tsc in entity SL0338!\n"
     ]
    },
    {
     "data": {
      "text/plain": [
       "[None,\n",
       " SourcedItem(name='w_g', value=93.0, property_file='SL338_recipe.property.json', source='manual from 181009_SL0338_Batches_combined_dilution.xlsx'),\n",
       " SourcedItem(name='w_cb', value=0.0, property_file='SL338_recipe.property.json', source='manual from 181009_SL0338_Batches_combined_dilution.xlsx')]"
      ]
     },
     "execution_count": 152,
     "metadata": {},
     "output_type": "execute_result"
    }
   ],
   "source": [
    "props = [\\\n",
    "         dict(prop='tsc', source='dilution'),\n",
    "         'w_g', \n",
    "         dict(prop='w_cb', source='manual'),\n",
    "        ]\n",
    "\n",
    "bdb.query_properties('SL338', props)"
   ]
  },
  {
   "cell_type": "code",
   "execution_count": 153,
   "metadata": {
    "hidden": true
   },
   "outputs": [
    {
     "data": {
      "text/plain": [
       "[SourcedItem(name='tsc', value=49.27, property_file='SL338_Viscosity.txt.property.json', source='G:\\\\My Drive\\\\Battrion_AG\\\\DATABASE\\\\Slurries\\\\SL0338_OrionRun1-T2\\\\SL338_Viscosity.txt'),\n",
       " SourcedItem(name='w_g', value=93.0, property_file='SL338_recipe.property.json', source='manual from 181009_SL0338_Batches_combined_dilution.xlsx'),\n",
       " SourcedItem(name='w_cb', value=0.0, property_file='SL338_recipe.property.json', source='manual from 181009_SL0338_Batches_combined_dilution.xlsx')]"
      ]
     },
     "execution_count": 153,
     "metadata": {},
     "output_type": "execute_result"
    }
   ],
   "source": [
    "props = ['tsc', 'w_g', 'w_cb']\n",
    "\n",
    "bdb.query_properties('SL338', props)"
   ]
  },
  {
   "cell_type": "markdown",
   "metadata": {
    "heading_collapsed": true
   },
   "source": [
    "# BUID parsing"
   ]
  },
  {
   "cell_type": "code",
   "execution_count": null,
   "metadata": {
    "hidden": true
   },
   "outputs": [],
   "source": []
  },
  {
   "cell_type": "markdown",
   "metadata": {
    "collapsed": true,
    "heading_collapsed": true
   },
   "source": [
    "# Testing"
   ]
  },
  {
   "cell_type": "code",
   "execution_count": 154,
   "metadata": {
    "hidden": true
   },
   "outputs": [
    {
     "data": {
      "text/plain": [
       "{'entity_path': WindowsPath('G:/My Drive/Battrion_AG/DATABASE/Slurries/SL0361_ProductionSlurryOrion'),\n",
       " 'SL361_recipe.property.json': {'buid': 'SL361',\n",
       "  'source': 'manual from 181120_SL0361_Batches_combined_dilution.xlsx',\n",
       "  'manufacturing_date': '181120',\n",
       "  'w_g': 0.96,\n",
       "  'type_g': 'GT1',\n",
       "  'w_cb': 0.01,\n",
       "  'type_cb': 'Super C65',\n",
       "  'w_cmc': 0.01,\n",
       "  'type_cmc': 'CRT2000PA7',\n",
       "  'w_sbr': 0.02,\n",
       "  'type_sbr': 'BM-400B',\n",
       "  'tsc': 49.48,\n",
       "  'property_file': 'SL361_recipe.property.json'},\n",
       " 'SL361_Viscosity.txt.property.json': {'buid': 'SL361',\n",
       "  'create_time': 1542821655.98015,\n",
       "  'source': 'G:\\\\My Drive\\\\Battrion_AG\\\\DATABASE\\\\Slurries\\\\SL0361_ProductionSlurryOrion\\\\SL361_Viscosity.txt',\n",
       "  'tsc': 49.48,\n",
       "  'temperatur_average': 24.7125,\n",
       "  'temperatur_delta': 0.10000000000000142,\n",
       "  'viscosity_data': {'rpm': [0.1,\n",
       "    0.25,\n",
       "    0.5,\n",
       "    0.75,\n",
       "    1.0,\n",
       "    2.0,\n",
       "    4.0,\n",
       "    6.0,\n",
       "    8.0,\n",
       "    10.0,\n",
       "    15.0,\n",
       "    20.0,\n",
       "    40.0,\n",
       "    60.0,\n",
       "    80.0,\n",
       "    100.0],\n",
       "   'viscosity': [8000.0,\n",
       "    5600.0,\n",
       "    4400.0,\n",
       "    4267.0,\n",
       "    3800.0,\n",
       "    3300.0,\n",
       "    2850.0,\n",
       "    2650.0,\n",
       "    2537.0,\n",
       "    2450.0,\n",
       "    2313.0,\n",
       "    2230.0,\n",
       "    2082.0,\n",
       "    nan,\n",
       "    nan,\n",
       "    nan],\n",
       "   'temperature': [24.7,\n",
       "    24.7,\n",
       "    24.7,\n",
       "    24.7,\n",
       "    24.7,\n",
       "    24.7,\n",
       "    24.8,\n",
       "    24.7,\n",
       "    24.7,\n",
       "    24.7,\n",
       "    24.7,\n",
       "    24.8,\n",
       "    24.7,\n",
       "    24.7,\n",
       "    24.7,\n",
       "    24.7]},\n",
       "  'property_file': 'SL361_Viscosity.txt.property.json'}}"
      ]
     },
     "execution_count": 154,
     "metadata": {},
     "output_type": "execute_result"
    }
   ],
   "source": [
    "bdb.get_entity_properties('SL361')"
   ]
  },
  {
   "cell_type": "code",
   "execution_count": 115,
   "metadata": {
    "hidden": true
   },
   "outputs": [
    {
     "data": {
      "text/plain": [
       "{'entity_path': WindowsPath('G:/My Drive/Battrion_AG/DATABASE/Webs/WB0198_SL336_Grepow_Anode_Improved_AGT')}"
      ]
     },
     "execution_count": 115,
     "metadata": {},
     "output_type": "execute_result"
    }
   ],
   "source": [
    "bdb.get_entity_properties('WB198')"
   ]
  },
  {
   "cell_type": "code",
   "execution_count": 116,
   "metadata": {
    "hidden": true
   },
   "outputs": [
    {
     "data": {
      "text/plain": [
       "{'entity_path': WindowsPath('G:/My Drive/Battrion_AG/DATABASE/Webs/WB0253_OrionProductionRun')}"
      ]
     },
     "execution_count": 116,
     "metadata": {},
     "output_type": "execute_result"
    }
   ],
   "source": [
    "bdb.get_entity_properties('WB253')"
   ]
  },
  {
   "cell_type": "code",
   "execution_count": 117,
   "metadata": {
    "hidden": true
   },
   "outputs": [
    {
     "data": {
      "text/plain": [
       "['G:\\\\My Drive\\\\Battrion_AG\\\\DATABASE\\\\Webs\\\\WB0253_OrionProductionRun\\\\SnR_Elec_revT006_WB0253_rev002.docx',\n",
       " 'G:\\\\My Drive\\\\Battrion_AG\\\\DATABASE\\\\Webs\\\\WB0253_OrionProductionRun\\\\old',\n",
       " 'G:\\\\My Drive\\\\Battrion_AG\\\\DATABASE\\\\Webs\\\\WB0253_OrionProductionRun\\\\desktop.ini']"
      ]
     },
     "execution_count": 117,
     "metadata": {},
     "output_type": "execute_result"
    }
   ],
   "source": [
    "fns = bdb.entity_files('WB253','*')\n",
    "fns"
   ]
  },
  {
   "cell_type": "code",
   "execution_count": 118,
   "metadata": {
    "hidden": true
   },
   "outputs": [
    {
     "data": {
      "text/plain": [
       "'G:/My Drive/Battrion_AG/DATABASE/Webs/WB0253_OrionProductionRun/SnR_Elec_revT006_WB0253_rev002.docx'"
      ]
     },
     "execution_count": 118,
     "metadata": {},
     "output_type": "execute_result"
    }
   ],
   "source": [
    "fns[0].replace('\\\\','/')"
   ]
  },
  {
   "cell_type": "code",
   "execution_count": 119,
   "metadata": {
    "hidden": true
   },
   "outputs": [
    {
     "data": {
      "text/plain": [
       "['G:\\\\My Drive\\\\Battrion_AG\\\\DATABASE\\\\Cells\\\\CL2050_OrionGrepow_Run1_WB0198_Impedance\\\\SnR_Draft_CL2050.txt',\n",
       " 'G:\\\\My Drive\\\\Battrion_AG\\\\DATABASE\\\\Cells\\\\CL2050_OrionGrepow_Run1_WB0198_Impedance\\\\desktop.ini']"
      ]
     },
     "execution_count": 119,
     "metadata": {},
     "output_type": "execute_result"
    }
   ],
   "source": [
    "fns = bdb.entity_files('CL2050','*')\n",
    "fns"
   ]
  },
  {
   "cell_type": "code",
   "execution_count": 120,
   "metadata": {
    "hidden": true
   },
   "outputs": [
    {
     "data": {
      "text/plain": [
       "{'entity_path': WindowsPath('G:/My Drive/Battrion_AG/DATABASE/RawMaterials/RM0288_JiangxiZichenTechnology_YF3-GT-1_(LG-A)')}"
      ]
     },
     "execution_count": 120,
     "metadata": {},
     "output_type": "execute_result"
    }
   ],
   "source": [
    "bdb.get_entity_properties('RM288')"
   ]
  },
  {
   "cell_type": "code",
   "execution_count": null,
   "metadata": {
    "hidden": true
   },
   "outputs": [],
   "source": []
  }
 ],
 "metadata": {
  "kernelspec": {
   "display_name": "Python 3",
   "language": "python",
   "name": "python3"
  },
  "language_info": {
   "codemirror_mode": {
    "name": "ipython",
    "version": 3
   },
   "file_extension": ".py",
   "mimetype": "text/x-python",
   "name": "python",
   "nbconvert_exporter": "python",
   "pygments_lexer": "ipython3",
   "version": "3.6.2"
  },
  "toc": {
   "colors": {
    "hover_highlight": "#DAA520",
    "navigate_num": "#000000",
    "navigate_text": "#333333",
    "running_highlight": "#FF0000",
    "selected_highlight": "#FFD700",
    "sidebar_border": "#EEEEEE",
    "wrapper_background": "#FFFFFF"
   },
   "moveMenuLeft": true,
   "nav_menu": {
    "height": "102px",
    "width": "252px"
   },
   "navigate_menu": true,
   "number_sections": true,
   "sideBar": true,
   "threshold": 4,
   "toc_cell": false,
   "toc_section_display": "block",
   "toc_window_display": false,
   "widenNotebook": false
  }
 },
 "nbformat": 4,
 "nbformat_minor": 2
}
