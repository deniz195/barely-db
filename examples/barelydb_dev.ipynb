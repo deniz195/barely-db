{
 "cells": [
  {
   "cell_type": "markdown",
   "metadata": {},
   "source": [
    "# Import modules"
   ]
  },
  {
   "cell_type": "code",
   "execution_count": 1,
   "metadata": {},
   "outputs": [],
   "source": [
    "# Import extensions\n",
    "import sys \n",
    "import numpy as np\n",
    "import matplotlib.pyplot as plt\n",
    "%matplotlib inline\n",
    "from pathlib import Path\n",
    "from IPython.display import FileLink, FileLinks\n",
    "# FileLinks('.') #lists all downloadable files on server"
   ]
  },
  {
   "cell_type": "code",
   "execution_count": 2,
   "metadata": {},
   "outputs": [],
   "source": [
    "sys.path.append('..')\n",
    "import barely_db\n",
    "barely_db._reload_module()\n",
    "from barely_db import *\n",
    "# test_BUID()"
   ]
  },
  {
   "cell_type": "code",
   "execution_count": 3,
   "metadata": {},
   "outputs": [],
   "source": [
    "import logging\n",
    "logging.basicConfig(level=logging.DEBUG)"
   ]
  },
  {
   "cell_type": "markdown",
   "metadata": {
    "heading_collapsed": true
   },
   "source": [
    "## BUID parsing"
   ]
  },
  {
   "cell_type": "code",
   "execution_count": 65,
   "metadata": {
    "hidden": true
   },
   "outputs": [
    {
     "name": "stderr",
     "output_type": "stream",
     "text": [
      "WARNING:barely_db:More than one valid buid found in XasfwX_sl293_sl333__Y (['SL0293', 'SL0333']!\n",
      "WARNING:barely_db:No valid buid found in lorem ipsum\n",
      "WARNING:barely_db:No valid buid found in WB0252\n"
     ]
    },
    {
     "name": "stdout",
     "output_type": "stream",
     "text": [
      "Normal BUID parsing:\n",
      "XasfwX_sl293_sl293__Y --> SL0293\n",
      "XasfwX_sl293_sl333__Y --> None\n",
      "lorem ipsum --> None\n",
      "SL000293 --> SL0029\n",
      "WB0251 --> WB0251\n",
      "WB0252-D2 --> WB0252-D2\n",
      "WB0252-AFD2 --> WB0252\n",
      "WB0252-AFD21231451 --> WB0252\n",
      "Only components:\n",
      "WB0252-D2 --> D2\n",
      "CL0152-N50 --> N50\n",
      "WB0252 --> None\n",
      "No components:\n",
      "WB0252-D2 --> WB0252\n",
      "WB0252 --> WB0252\n",
      "XasfwX_sl293_sl333_dp241_sl333_dp241_Y --> ['SL0293', 'SL0333', 'SL0333']\n",
      "XasfwX_sl293_sl333_dp241_sl333_dp241_Y --> ['SL0293', 'SL0333', 'DP0241', 'SL0333', 'DP0241']\n",
      "XasfwX_sl293_sl333_dp241_sl333_dp241_Y --> ['SL0293', 'SL0333']\n",
      "XasfwX_sl293_sl333_dp241_sl333_dp241_Y --> ['SL0293', 'SL0333', 'DP0241']\n",
      "XasfwX_sl293_sl333_dp241_sl333_dp241_Y --> SL0293\n",
      "XasfwX_sl293_sl333_dp241_sl333_dp241_Y --> SL0333\n",
      "XasfwX_sl293_sl333_dp241_sl333_dp241_Y --> DP0241\n"
     ]
    },
    {
     "ename": "AssertionError",
     "evalue": "",
     "output_type": "error",
     "traceback": [
      "\u001b[1;31m---------------------------------------------------------------------------\u001b[0m",
      "\u001b[1;31mAssertionError\u001b[0m                            Traceback (most recent call last)",
      "\u001b[1;32m<ipython-input-65-b54780df2dc8>\u001b[0m in \u001b[0;36m<module>\u001b[1;34m()\u001b[0m\n\u001b[1;32m----> 1\u001b[1;33m \u001b[0mbarely_db\u001b[0m\u001b[1;33m.\u001b[0m\u001b[0m_test_BUID\u001b[0m\u001b[1;33m(\u001b[0m\u001b[1;33m)\u001b[0m\u001b[1;33m\u001b[0m\u001b[0m\n\u001b[0m",
      "\u001b[1;32mc:\\Repo\\__code_dev_db\\barely-db\\barely_db\\__init__.py\u001b[0m in \u001b[0;36m_test_BUID\u001b[1;34m()\u001b[0m\n\u001b[0;32m    247\u001b[0m \u001b[1;31m#     def make(cls, name, value, property_file, source):\u001b[0m\u001b[1;33m\u001b[0m\u001b[1;33m\u001b[0m\u001b[0m\n\u001b[0;32m    248\u001b[0m \u001b[1;31m#         new_item = cls(value)\u001b[0m\u001b[1;33m\u001b[0m\u001b[1;33m\u001b[0m\u001b[0m\n\u001b[1;32m--> 249\u001b[1;33m \u001b[1;31m#         new_item.name = name\u001b[0m\u001b[1;33m\u001b[0m\u001b[1;33m\u001b[0m\u001b[0m\n\u001b[0m\u001b[0;32m    250\u001b[0m \u001b[1;31m#         new_item.property_file = property_file\u001b[0m\u001b[1;33m\u001b[0m\u001b[1;33m\u001b[0m\u001b[0m\n\u001b[0;32m    251\u001b[0m \u001b[1;31m#         new_item.source = source\u001b[0m\u001b[1;33m\u001b[0m\u001b[1;33m\u001b[0m\u001b[0m\n",
      "\u001b[1;32mc:\\Repo\\__code_dev_db\\barely-db\\barely_db\\__init__.py\u001b[0m in \u001b[0;36m_test_parser_mode\u001b[1;34m(buid_p, result)\u001b[0m\n\u001b[0;32m    239\u001b[0m \u001b[1;33m\u001b[0m\u001b[0m\n\u001b[0;32m    240\u001b[0m \u001b[1;31m# class SourcedItem(float):\u001b[0m\u001b[1;33m\u001b[0m\u001b[1;33m\u001b[0m\u001b[0m\n\u001b[1;32m--> 241\u001b[1;33m \u001b[1;31m#     name = None\u001b[0m\u001b[1;33m\u001b[0m\u001b[1;33m\u001b[0m\u001b[0m\n\u001b[0m\u001b[0;32m    242\u001b[0m \u001b[1;31m#     value = None\u001b[0m\u001b[1;33m\u001b[0m\u001b[1;33m\u001b[0m\u001b[0m\n\u001b[0;32m    243\u001b[0m \u001b[1;31m#     property_file = None\u001b[0m\u001b[1;33m\u001b[0m\u001b[1;33m\u001b[0m\u001b[0m\n",
      "\u001b[1;31mAssertionError\u001b[0m: "
     ]
    }
   ],
   "source": [
    "barely_db._test_BUID()"
   ]
  },
  {
   "cell_type": "code",
   "execution_count": 73,
   "metadata": {
    "hidden": true
   },
   "outputs": [
    {
     "data": {
      "text/plain": [
       "['WB', 'SL']"
      ]
     },
     "execution_count": 73,
     "metadata": {},
     "output_type": "execute_result"
    }
   ],
   "source": [
    "buid_p = BUIDParser(ignore_unknown=False, mode = 'all', warn_empty = False)\n",
    "buid_p.parse_type('WB2039_SL0492')"
   ]
  },
  {
   "cell_type": "code",
   "execution_count": 74,
   "metadata": {
    "hidden": true
   },
   "outputs": [
    {
     "data": {
      "text/plain": [
       "'WB'"
      ]
     },
     "execution_count": 74,
     "metadata": {},
     "output_type": "execute_result"
    }
   ],
   "source": [
    "buid_p = BUIDParser(ignore_unknown=False, mode = 'first', warn_empty = False)\n",
    "buid_p.parse_type('WB2039_SL0492')"
   ]
  },
  {
   "cell_type": "code",
   "execution_count": 75,
   "metadata": {
    "hidden": true
   },
   "outputs": [
    {
     "data": {
      "text/plain": [
       "'SL'"
      ]
     },
     "execution_count": 75,
     "metadata": {},
     "output_type": "execute_result"
    }
   ],
   "source": [
    "buid_p = BUIDParser(ignore_unknown=False, mode = 'last', warn_empty = False)\n",
    "buid_p.parse_type('WB2039_SL0492')"
   ]
  },
  {
   "cell_type": "code",
   "execution_count": null,
   "metadata": {
    "hidden": true
   },
   "outputs": [],
   "source": []
  },
  {
   "cell_type": "markdown",
   "metadata": {
    "heading_collapsed": true
   },
   "source": [
    "## Laures test"
   ]
  },
  {
   "cell_type": "code",
   "execution_count": 17,
   "metadata": {
    "hidden": true
   },
   "outputs": [],
   "source": [
    "from pathlib import Path"
   ]
  },
  {
   "cell_type": "code",
   "execution_count": 18,
   "metadata": {
    "hidden": true
   },
   "outputs": [],
   "source": [
    "p = Path('.')"
   ]
  },
  {
   "cell_type": "code",
   "execution_count": 19,
   "metadata": {
    "hidden": true
   },
   "outputs": [
    {
     "data": {
      "text/plain": [
       "'/Users/laure.ciernik/Documents/Battrion/code/barely-db'"
      ]
     },
     "execution_count": 19,
     "metadata": {},
     "output_type": "execute_result"
    }
   ],
   "source": [
    "str(p.absolute())"
   ]
  },
  {
   "cell_type": "code",
   "execution_count": 20,
   "metadata": {
    "hidden": true
   },
   "outputs": [
    {
     "data": {
      "text/plain": [
       "('/', 'Users', 'laure.ciernik', 'Documents', 'Battrion', 'code', 'barely-db')"
      ]
     },
     "execution_count": 20,
     "metadata": {},
     "output_type": "execute_result"
    }
   ],
   "source": [
    "p.absolute().parts"
   ]
  },
  {
   "cell_type": "code",
   "execution_count": 22,
   "metadata": {
    "hidden": true,
    "scrolled": true
   },
   "outputs": [
    {
     "name": "stderr",
     "output_type": "stream",
     "text": [
      "INFO:barely_db:Entities found: 5\n"
     ]
    }
   ],
   "source": [
    "bdb = BarelyDB(base_path = Path('/Users/laure.ciernik/Documents/Battrion/code/barely-db/tests/Database'), path_depth=1)\n",
    "bdb.load_entities()"
   ]
  },
  {
   "cell_type": "code",
   "execution_count": 23,
   "metadata": {
    "hidden": true
   },
   "outputs": [],
   "source": [
    "ent = bdb.get_entity('WB3001')"
   ]
  },
  {
   "cell_type": "code",
   "execution_count": 24,
   "metadata": {
    "hidden": true,
    "scrolled": false
   },
   "outputs": [
    {
     "data": {
      "text/plain": [
       "PosixPath('/Users/laure.ciernik/Documents/Battrion/code/barely-db/tests/Database')"
      ]
     },
     "execution_count": 24,
     "metadata": {},
     "output_type": "execute_result"
    }
   ],
   "source": [
    "bdb.base_path"
   ]
  },
  {
   "cell_type": "code",
   "execution_count": 25,
   "metadata": {
    "hidden": true
   },
   "outputs": [
    {
     "data": {
      "text/plain": [
       "{'WB0300': PosixPath('/Users/laure.ciernik/Documents/Battrion/code/barely-db/tests/Database/Webs/WB0300'),\n",
       " 'WB0302': PosixPath('/Users/laure.ciernik/Documents/Battrion/code/barely-db/tests/Database/Webs/WB0302_no_components'),\n",
       " 'WB0303': PosixPath('/Users/laure.ciernik/Documents/Battrion/code/barely-db/tests/Database/Webs/WB0303_many components'),\n",
       " 'WB3001': PosixPath('/Users/laure.ciernik/Documents/Battrion/code/barely-db/tests/Database/Webs/WB3001_SL_LGA1'),\n",
       " 'WB0301': PosixPath('/Users/laure.ciernik/Documents/Battrion/code/barely-db/tests/Database/Webs/WB301_something')}"
      ]
     },
     "execution_count": 25,
     "metadata": {},
     "output_type": "execute_result"
    }
   ],
   "source": [
    "bdb.entity_paths"
   ]
  },
  {
   "cell_type": "code",
   "execution_count": 26,
   "metadata": {
    "hidden": true
   },
   "outputs": [
    {
     "name": "stdout",
     "output_type": "stream",
     "text": [
      "/Users/laure.ciernik/Documents/Battrion/code/barely-db/tests/Database/Webs/WB0300\n",
      "/Users/laure.ciernik/Documents/Battrion/code/barely-db/tests/Database/Webs/WB0300\n",
      "/Users/laure.ciernik/Documents/Battrion/code/barely-db/tests/Database/Webs/WB0302_no_components\n",
      "/Users/laure.ciernik/Documents/Battrion/code/barely-db/tests/Database/Webs/WB0302_no_components\n",
      "/Users/laure.ciernik/Documents/Battrion/code/barely-db/tests/Database/Webs/WB0303_many components\n",
      "/Users/laure.ciernik/Documents/Battrion/code/barely-db/tests/Database/Webs/WB0303_many components\n",
      "/Users/laure.ciernik/Documents/Battrion/code/barely-db/tests/Database/Webs/WB3001_SL_LGA1\n",
      "/Users/laure.ciernik/Documents/Battrion/code/barely-db/tests/Database/Webs/WB3001_SL_LGA1\n",
      "/Users/laure.ciernik/Documents/Battrion/code/barely-db/tests/Database/Webs/WB301_something\n",
      "/Users/laure.ciernik/Documents/Battrion/code/barely-db/tests/Database/Webs/WB301_something\n"
     ]
    }
   ],
   "source": [
    "for entries in bdb.entity_paths:\n",
    "    path = bdb.entity_paths[entries]\n",
    "    print(path)\n",
    "    print(str(path))"
   ]
  },
  {
   "cell_type": "code",
   "execution_count": 27,
   "metadata": {
    "hidden": true
   },
   "outputs": [
    {
     "name": "stderr",
     "output_type": "stream",
     "text": [
      "INFO:barely_db:Components for WB3001 found: 2\n"
     ]
    },
    {
     "data": {
      "text/plain": [
       "{'P1': PosixPath('/Users/laure.ciernik/Documents/Battrion/code/barely-db/tests/Database/Webs/WB3001_SL_LGA1/-P1'),\n",
       " 'Q1': PosixPath('/Users/laure.ciernik/Documents/Battrion/code/barely-db/tests/Database/Webs/WB3001_SL_LGA1/-Q1')}"
      ]
     },
     "execution_count": 27,
     "metadata": {},
     "output_type": "execute_result"
    }
   ],
   "source": [
    "ent.get_component_paths()"
   ]
  },
  {
   "cell_type": "code",
   "execution_count": 28,
   "metadata": {
    "hidden": true
   },
   "outputs": [
    {
     "name": "stderr",
     "output_type": "stream",
     "text": [
      "INFO:barely_db:Components for WB3001 found: 2\n",
      "INFO:barely_db:Components for WB3001 found: 3\n"
     ]
    },
    {
     "data": {
      "text/plain": [
       "PosixPath('/Users/laure.ciernik/Documents/Battrion/code/barely-db/tests/Database/Webs/WB3001_SL_LGA1/-T1')"
      ]
     },
     "execution_count": 28,
     "metadata": {},
     "output_type": "execute_result"
    }
   ],
   "source": [
    "ent.create_component_path('T1')"
   ]
  },
  {
   "cell_type": "code",
   "execution_count": 15,
   "metadata": {
    "hidden": true
   },
   "outputs": [
    {
     "name": "stderr",
     "output_type": "stream",
     "text": [
      "INFO:barely_db:Components for WB0225 found: 4\n"
     ]
    },
    {
     "data": {
      "text/plain": [
       "{'Q1': PosixPath('/Users/laure.ciernik/Documents/Battrion/code/manufacturing-tools/tests/Database/Webs/WB0225_Mitsubishi_GT1_AGT/-Q1'),\n",
       " 'T1': PosixPath('/Users/laure.ciernik/Documents/Battrion/code/manufacturing-tools/tests/Database/Webs/WB0225_Mitsubishi_GT1_AGT/-T1'),\n",
       " 'Y0': PosixPath('/Users/laure.ciernik/Documents/Battrion/code/manufacturing-tools/tests/Database/Webs/WB0225_Mitsubishi_GT1_AGT/-Y0_testing'),\n",
       " 'Y1': PosixPath('/Users/laure.ciernik/Documents/Battrion/code/manufacturing-tools/tests/Database/Webs/WB0225_Mitsubishi_GT1_AGT/-Y1_testing_characterization')}"
      ]
     },
     "execution_count": 15,
     "metadata": {},
     "output_type": "execute_result"
    }
   ],
   "source": [
    "ent.get_component_paths()"
   ]
  },
  {
   "cell_type": "markdown",
   "metadata": {},
   "source": [
    "## BarelyDB Basic tests"
   ]
  },
  {
   "cell_type": "code",
   "execution_count": 111,
   "metadata": {},
   "outputs": [],
   "source": [
    "# bdb = BarelyDB(Path('../..'))\n",
    "# bdb.load_entities()"
   ]
  },
  {
   "cell_type": "code",
   "execution_count": 12,
   "metadata": {},
   "outputs": [
    {
     "name": "stderr",
     "output_type": "stream",
     "text": [
      "INFO:barely_db:Reloading module barely_db\n"
     ]
    }
   ],
   "source": [
    "sys.path.append('..')\n",
    "import barely_db\n",
    "barely_db._reload_module()\n",
    "from barely_db import *\n",
    "# test_BUID()"
   ]
  },
  {
   "cell_type": "code",
   "execution_count": 13,
   "metadata": {},
   "outputs": [
    {
     "name": "stderr",
     "output_type": "stream",
     "text": [
      "INFO:barely_db:Using default path G:\\Shared drives\\Database\n",
      "INFO:barely_db:Entities found: 1238\n",
      "INFO:barely_db:EQ --> G:\\Shared drives\\Database\\Equipment\n",
      "INFO:barely_db:CL --> G:\\Shared drives\\Database\\Cells\n",
      "INFO:barely_db:RM --> G:\\Shared drives\\Database\\RawMaterials\n",
      "INFO:barely_db:MO --> G:\\Shared drives\\Database\\ManufacturingOrders\n",
      "INFO:barely_db:EXP --> G:\\Shared drives\\Database\\Experiments\n",
      "INFO:barely_db:WB --> G:\\Shared drives\\Database\\Webs\n",
      "INFO:barely_db:SL --> G:\\Shared drives\\Database\\Slurries\n",
      "INFO:barely_db:EE --> G:\\Shared drives\\Database\\Electrochemistry\n"
     ]
    }
   ],
   "source": [
    "bdb = BarelyDB(path_depth=1)\n",
    "bdb.load_entities()"
   ]
  },
  {
   "cell_type": "code",
   "execution_count": null,
   "metadata": {},
   "outputs": [],
   "source": []
  },
  {
   "cell_type": "code",
   "execution_count": 14,
   "metadata": {},
   "outputs": [
    {
     "data": {
      "text/plain": [
       "WindowsPath('G:/Shared drives/Database/Webs/WB9005_some_web')"
      ]
     },
     "execution_count": 14,
     "metadata": {},
     "output_type": "execute_result"
    }
   ],
   "source": [
    "bdb.create_entity_path('WB9005', comment='some_web')"
   ]
  },
  {
   "cell_type": "code",
   "execution_count": 24,
   "metadata": {},
   "outputs": [
    {
     "data": {
      "text/plain": [
       "BarelyDBEntity('WB9006-T1')"
      ]
     },
     "execution_count": 24,
     "metadata": {},
     "output_type": "execute_result"
    }
   ],
   "source": [
    "web = bdb.get_entity('WB9006-T1')\n",
    "web"
   ]
  },
  {
   "cell_type": "code",
   "execution_count": 17,
   "metadata": {},
   "outputs": [
    {
     "data": {
      "text/plain": [
       "WindowsPath('G:/Shared drives/Database/Webs/WB9006_some_web')"
      ]
     },
     "execution_count": 17,
     "metadata": {},
     "output_type": "execute_result"
    }
   ],
   "source": [
    "web.create_entity_path(path_comment='some_web')"
   ]
  },
  {
   "cell_type": "code",
   "execution_count": 19,
   "metadata": {},
   "outputs": [
    {
     "name": "stderr",
     "output_type": "stream",
     "text": [
      "DEBUG:barely_db:Components for WB9006 found: 0\n",
      "DEBUG:barely_db:Components for WB9006 found: 1\n"
     ]
    },
    {
     "data": {
      "text/plain": [
       "WindowsPath('G:/Shared drives/Database/Webs/WB9006_some_web/-T1_some_component')"
      ]
     },
     "execution_count": 19,
     "metadata": {},
     "output_type": "execute_result"
    }
   ],
   "source": [
    "web.create_component_path(None, path_comment='some_component')"
   ]
  },
  {
   "cell_type": "code",
   "execution_count": 20,
   "metadata": {},
   "outputs": [],
   "source": [
    "web = bdb.get_entity('WB9042-T1')"
   ]
  },
  {
   "cell_type": "code",
   "execution_count": 25,
   "metadata": {},
   "outputs": [
    {
     "data": {
      "text/plain": [
       "WindowsPath('G:/Shared drives/Database/Webs/WB9006_some_web')"
      ]
     },
     "execution_count": 25,
     "metadata": {},
     "output_type": "execute_result"
    }
   ],
   "source": [
    "web.get_entity_path()"
   ]
  },
  {
   "cell_type": "code",
   "execution_count": 27,
   "metadata": {},
   "outputs": [],
   "source": [
    "pp = Path('C:/Repo/__code_dev_db/barely-db/tests/Database/Webs/WB9042_some_web')"
   ]
  },
  {
   "cell_type": "code",
   "execution_count": 29,
   "metadata": {},
   "outputs": [
    {
     "data": {
      "text/plain": [
       "WindowsPath('C:/Repo/__code_dev_db/barely-db/tests/Database/Webs/WB9042_some_web')"
      ]
     },
     "execution_count": 29,
     "metadata": {},
     "output_type": "execute_result"
    }
   ],
   "source": [
    "pp"
   ]
  },
  {
   "cell_type": "code",
   "execution_count": 28,
   "metadata": {},
   "outputs": [
    {
     "data": {
      "text/plain": [
       "True"
      ]
     },
     "execution_count": 28,
     "metadata": {},
     "output_type": "execute_result"
    }
   ],
   "source": [
    "pp.exists()"
   ]
  },
  {
   "cell_type": "code",
   "execution_count": 22,
   "metadata": {},
   "outputs": [],
   "source": [
    "pp = Path('.')"
   ]
  },
  {
   "cell_type": "code",
   "execution_count": 23,
   "metadata": {},
   "outputs": [
    {
     "data": {
      "text/plain": [
       "True"
      ]
     },
     "execution_count": 23,
     "metadata": {},
     "output_type": "execute_result"
    }
   ],
   "source": [
    "pp.exists()"
   ]
  },
  {
   "cell_type": "code",
   "execution_count": 87,
   "metadata": {},
   "outputs": [],
   "source": [
    "self.buid_type_paths = {}\n",
    "\n",
    "buid_types_done = set()\n",
    "buid_p = self.buid_scan\n",
    "\n",
    "for buid, entity_path in bdb.entity_paths.items():\n",
    "    buid_type = buid_p.parse_type(buid)\n",
    "\n",
    "    if buid_type in buid_types_done:\n",
    "        pass\n",
    "    else:\n",
    "        if buid_type in self.buid_type_paths:\n",
    "            # if this type was already registered, check if parent path is the same\n",
    "            if self.buid_type_paths[buid_type] == entity_path.parent:\n",
    "                pass\n",
    "            else:\n",
    "                module_logger.warning(f'Entity {buid} has a base path that does not match with other entities of the same type ({buid_type})!')\n",
    "                buid_types_done[buid_type].add(buid_type)\n",
    "        else:\n",
    "            # if this is the first entity of this type use the parent directory\n",
    "            self.buid_type_paths[buid_type] = entity_path.parent\n",
    "            \n",
    "    "
   ]
  },
  {
   "cell_type": "code",
   "execution_count": 88,
   "metadata": {},
   "outputs": [
    {
     "data": {
      "text/plain": [
       "{'CL': WindowsPath('G:/Shared drives/Database/Cells'),\n",
       " 'EE': WindowsPath('G:/Shared drives/Database/Electrochemistry'),\n",
       " 'EQ': WindowsPath('G:/Shared drives/Database/Equipment'),\n",
       " 'EXP': WindowsPath('G:/Shared drives/Database/Experiments'),\n",
       " 'MO': WindowsPath('G:/Shared drives/Database/ManufacturingOrders'),\n",
       " 'RM': WindowsPath('G:/Shared drives/Database/RawMaterials'),\n",
       " 'SL': WindowsPath('G:/Shared drives/Database/Slurries'),\n",
       " 'WB': WindowsPath('G:/Shared drives/Database/Webs')}"
      ]
     },
     "execution_count": 88,
     "metadata": {},
     "output_type": "execute_result"
    }
   ],
   "source": [
    "self.buid_type_paths"
   ]
  },
  {
   "cell_type": "code",
   "execution_count": 99,
   "metadata": {},
   "outputs": [],
   "source": [
    "buid = 'WB9004'\n",
    "comment = 'some_web'\n",
    "buid_type = self.buid_normalizer.parse_type(buid)"
   ]
  },
  {
   "cell_type": "code",
   "execution_count": 100,
   "metadata": {},
   "outputs": [
    {
     "data": {
      "text/plain": [
       "'WB'"
      ]
     },
     "execution_count": 100,
     "metadata": {},
     "output_type": "execute_result"
    }
   ],
   "source": [
    "buid_type"
   ]
  },
  {
   "cell_type": "code",
   "execution_count": 103,
   "metadata": {},
   "outputs": [],
   "source": [
    "buid_base_path = Path(self.buid_type_paths[buid_type])\n",
    "buid_base_path = buid_base_path.joinpath(f'{buid}_{comment}')\n",
    "buid_base_path.touch()"
   ]
  },
  {
   "cell_type": "code",
   "execution_count": null,
   "metadata": {},
   "outputs": [],
   "source": []
  },
  {
   "cell_type": "code",
   "execution_count": 62,
   "metadata": {},
   "outputs": [
    {
     "data": {
      "text/plain": [
       "{'EQ0015': WindowsPath('G:/Shared drives/Database/Equipment/EQ0015_Beich_DC_Electronic_Load'),\n",
       " 'EQ0010': WindowsPath('G:/Shared drives/Database/Equipment/EQ0010a_Trace_Oxygen_Analyzer'),\n",
       " 'EQ0050': WindowsPath('G:/Shared drives/Database/Equipment/EQ0050_Flojet_Waterpump'),\n",
       " 'EQ0014': WindowsPath('G:/Shared drives/Database/Equipment/EQ0014_ERSA_Solderer'),\n",
       " 'EQ0009': WindowsPath('G:/Shared drives/Database/Equipment/EQ0009_Kibernetik_Cooler'),\n",
       " 'EQ0007': WindowsPath('G:/Shared drives/Database/Equipment/EQ0007_Novonix_Oven'),\n",
       " 'EQ0019': WindowsPath('G:/Shared drives/Database/Equipment/EQ0019_SlotDie'),\n",
       " 'EQ0020': WindowsPath('G:/Shared drives/Database/Equipment/EQ0020_Roller_ball_mill'),\n",
       " 'EQ0055': WindowsPath('G:/Shared drives/Database/Equipment/EQ0055_Kaercher_VacuumCleaner'),\n",
       " 'EQ0054': WindowsPath('G:/Shared drives/Database/Equipment/EQ0054_Philips_SmallVacuumCleaner'),\n",
       " 'EQ0048': WindowsPath('G:/Shared drives/Database/Equipment/EQ0048_Netzsch_PC-Pump'),\n",
       " 'EQ0049': WindowsPath('G:/Shared drives/Database/Equipment/EQ0049_HP_M402dneLaserJetPro'),\n",
       " 'EQ0053': WindowsPath('G:/Shared drives/Database/Equipment/EQ0053_Brookfield_Rheometer_DV-III'),\n",
       " 'EQ0056': WindowsPath('G:/Shared drives/Database/Equipment/EQ0056_Kaercher_VacuumCleaner_PowderHandling'),\n",
       " 'EQ0047': WindowsPath('G:/Shared drives/Database/Equipment/EQ0047_Ptouch_LabelPrinter'),\n",
       " 'EQ0011': WindowsPath('G:/Shared drives/Database/Equipment/EQ0011_Oscilloscope'),\n",
       " 'EQ0003': WindowsPath('G:/Shared drives/Database/Equipment/EQ0003_Label_Machine'),\n",
       " 'EQ1001': WindowsPath('G:/Shared drives/Database/Equipment/EQ1001_unused'),\n",
       " 'EQ1003': WindowsPath('G:/Shared drives/Database/Equipment/EQ1003_VoltageTester'),\n",
       " 'EQ0035': WindowsPath('G:/Shared drives/Database/Equipment/EQ0035_Raycus_Laser'),\n",
       " 'EQ0012': WindowsPath('G:/Shared drives/Database/Equipment/EQ0012_Waveform_Generator'),\n",
       " 'EQ0051': WindowsPath('G:/Shared drives/Database/Equipment/EQ0051_Rocket_Appartamento_CoffeMachine'),\n",
       " 'EQ1002': WindowsPath('G:/Shared drives/Database/Equipment/EQ1002_Tapper'),\n",
       " 'EQ0033': WindowsPath('G:/Shared drives/Database/Equipment/EQ0033_Ika_Mixer_Eurostar200Control'),\n",
       " 'EQ0031': WindowsPath('G:/Shared drives/Database/Equipment/EQ0031_Lauda_Thermostat_C6-CS'),\n",
       " 'EQ0017': WindowsPath('G:/Shared drives/Database/Equipment/EQ0017_Pressure_Vessel'),\n",
       " 'EQ0013': WindowsPath('G:/Shared drives/Database/Equipment/EQ0013_HTL_Power_Supply'),\n",
       " 'EQ2000': WindowsPath('G:/Shared drives/Database/Equipment/EQ2000_TestBench'),\n",
       " 'EQ0034': WindowsPath('G:/Shared drives/Database/Equipment/EQ0034_Brookfield_Rheometer_DV-III+'),\n",
       " 'EQ0018': WindowsPath('G:/Shared drives/Database/Equipment/EQ0018_Heat_Guns'),\n",
       " 'EQ0016': WindowsPath('G:/Shared drives/Database/Equipment/EQ0016_Kenwood_Mixer'),\n",
       " 'EQ0032': WindowsPath('G:/Shared drives/Database/Equipment/EQ0032_Huber_Thermostat_Ministat'),\n",
       " 'EQ0008': WindowsPath('G:/Shared drives/Database/Equipment/EQ0008_Novonix_Cycler'),\n",
       " 'EQ0045': WindowsPath('G:/Shared drives/Database/Equipment/EQ0045_UPS_Eaton_5PX'),\n",
       " 'EQ0044': WindowsPath('G:/Shared drives/Database/Equipment/EQ0044_Bante_PHS-3BW-CN_pHMeter'),\n",
       " 'EQ0002': WindowsPath('G:/Shared drives/Database/Equipment/EQ0002_Coin_Cell_Crimper'),\n",
       " 'EQ0046': WindowsPath('G:/Shared drives/Database/Equipment/EQ0046_AdhesionTester'),\n",
       " 'EQ0021': WindowsPath('G:/Shared drives/Database/Equipment/EQ0021_Neware_Cycler'),\n",
       " 'EQ0025': WindowsPath('G:/Shared drives/Database/Equipment/EQ0025_Sino-Galvo_Laser'),\n",
       " 'EQ0037': WindowsPath('G:/Shared drives/Database/Equipment/EQ0037_MTI_Calander'),\n",
       " 'EQ0057': WindowsPath('G:/Shared drives/Database/Equipment/EQ0057_SquidstatPlusImpedanceAnalyzer_New'),\n",
       " 'EQ0041': WindowsPath('G:/Shared drives/Database/Equipment/EQ0041_HazMatCabinet'),\n",
       " 'EQ0038': WindowsPath('G:/Shared drives/Database/Equipment/EQ0038_AirPurifier_Beurer_LR200'),\n",
       " 'EQ0036': WindowsPath('G:/Shared drives/Database/Equipment/EQ0036_SquidstatPlusImpedanceAnalyzer'),\n",
       " 'EQ0043': WindowsPath('G:/Shared drives/Database/Equipment/EQ0043_Bante_DDS-12DW-DH_ConductivityMeter'),\n",
       " 'EQ0040': WindowsPath('G:/Shared drives/Database/Equipment/EQ0040_DustSensor'),\n",
       " 'EQ0005': WindowsPath('G:/Shared drives/Database/Equipment/EQ0005_Micrometer_Gauge'),\n",
       " 'EQ0039': WindowsPath('G:/Shared drives/Database/Equipment/EQ0039_Firewall'),\n",
       " 'EQ0042': WindowsPath('G:/Shared drives/Database/Equipment/EQ0042_VacuumOvenChina'),\n",
       " 'EQ0006': WindowsPath('G:/Shared drives/Database/Equipment/EQ0006_Novonix_UHPC-2A'),\n",
       " 'EQ2003': WindowsPath('G:/Shared drives/Database/Equipment/EQ2003_VacuumExsiccator_Duran-ETH'),\n",
       " 'EQ0052': WindowsPath('G:/Shared drives/Database/Equipment/EQ0052_LulzBot_ 3D_Printer'),\n",
       " 'EQ0022': WindowsPath('G:/Shared drives/Database/Equipment/EQ0022_Thinky_Mixer'),\n",
       " 'EQ0028': WindowsPath('G:/Shared drives/Database/Equipment/EQ0028_MettlerToledoScale_2'),\n",
       " 'EQ0030': WindowsPath('G:/Shared drives/Database/Equipment/EQ0030_US_Solid30kgScale'),\n",
       " 'EQ0029': WindowsPath('G:/Shared drives/Database/Equipment/EQ0029_US_Solid30kgScale'),\n",
       " 'EQ0027': WindowsPath('G:/Shared drives/Database/Equipment/EQ0027_MettlerToledoScale_1'),\n",
       " 'EQ0026': WindowsPath('G:/Shared drives/Database/Equipment/EQ0026_BinderOvenBig'),\n",
       " 'EQ3001': WindowsPath('G:/Shared drives/Database/Equipment/EQ3001_Coater520mm_KATOP'),\n",
       " 'EQ0004': WindowsPath('G:/Shared drives/Database/Equipment/EQ0004_LulzBot_ 3D_Printer_&_accessories'),\n",
       " 'EQ0001': WindowsPath('G:/Shared drives/Database/Equipment/EQ0001_Battrion_Mag_Insets'),\n",
       " 'EQ1004': WindowsPath('G:/Shared drives/Database/Equipment/EQ1004_PunchCutter_10cm2'),\n",
       " 'EQ2001': WindowsPath('G:/Shared drives/Database/Equipment/EQ2001_inert_storagebox1_microtonano'),\n",
       " 'EQ2002': WindowsPath('G:/Shared drives/Database/Equipment/EQ2002_inert_storagebox2_microtonano'),\n",
       " 'EQ3004': WindowsPath('G:/Shared drives/Database/Equipment/EQ3004_Mixer60L_RUIDA'),\n",
       " 'EQ3003': WindowsPath('G:/Shared drives/Database/Equipment/EQ3003_Mixer30L_RUIDA'),\n",
       " 'EQ3002': WindowsPath('G:/Shared drives/Database/Equipment/EQ3002_RollPress550mm_NAKNOR'),\n",
       " 'EQ0023': WindowsPath('G:/Shared drives/Database/Equipment/EQ0023_Binder_ClimateChamber'),\n",
       " 'EQ0024': WindowsPath('G:/Shared drives/Database/Equipment/EQ0024_LabCoater'),\n",
       " 'CL2058': WindowsPath('G:/Shared drives/Database/Cells/CL2058_DryMixing_FIPT'),\n",
       " 'CL1042': WindowsPath('G:/Shared drives/Database/Cells/CL1042_Dyson_20700'),\n",
       " 'CL2049': WindowsPath('G:/Shared drives/Database/Cells/CL2049_GT-1_Aligned_CalenderingImpedance'),\n",
       " 'CL1041': WindowsPath('G:/Shared drives/Database/Cells/CL1041_BMW_Standard'),\n",
       " 'CL2054': WindowsPath('G:/Shared drives/Database/Cells/CL2054_CAMX_CalenderingSamples'),\n",
       " 'CL2048': WindowsPath('G:/Shared drives/Database/Cells/CL2048_LiFun-VW_production'),\n",
       " 'CL2047': WindowsPath('G:/Shared drives/Database/Cells/CL2047_EXP0082_Impedance'),\n",
       " 'CL2051': WindowsPath('G:/Shared drives/Database/Cells/CL2051_AdhesionImpedance_FIPT'),\n",
       " 'CL2052': WindowsPath('G:/Shared drives/Database/Cells/CL2052_BMW_WB0215_Impedance'),\n",
       " 'CL1040': WindowsPath('G:/Shared drives/Database/Cells/CL1040_BMW_AGT'),\n",
       " 'CL1037': WindowsPath('G:/Shared drives/Database/Cells/CL1037_GrepowFilledCells'),\n",
       " 'CL0062': WindowsPath('G:/Shared drives/Database/Cells/CL0062_CAMX-Run3_Spherical'),\n",
       " 'CL1038': WindowsPath('G:/Shared drives/Database/Cells/CL1038_GrepowDryCells'),\n",
       " 'CL1035': WindowsPath('G:/Shared drives/Database/Cells/CL1035_Grepow_Standard'),\n",
       " 'CL1036': WindowsPath('G:/Shared drives/Database/Cells/CL1036_Grepow_Improved'),\n",
       " 'CL1039': WindowsPath('G:/Shared drives/Database/Cells/CL1039_BMW_Reference'),\n",
       " 'CL0061': WindowsPath('G:/Shared drives/Database/Cells/CL0061_Lishen_Improved'),\n",
       " 'CL2042': WindowsPath('G:/Shared drives/Database/Cells/CL2042_WB0179_NMC532_symCCC'),\n",
       " 'CL0057': WindowsPath('G:/Shared drives/Database/Cells/CL0057_LiFun_Energy_GT-1_not-aligned'),\n",
       " 'CL0059': WindowsPath('G:/Shared drives/Database/Cells/CL0059_Grepow_improved'),\n",
       " 'CL0058': WindowsPath('G:/Shared drives/Database/Cells/CL0058_Grepow_Standard'),\n",
       " 'CL0056': WindowsPath('G:/Shared drives/Database/Cells/CL0056_LiFun_Energy_GT-1_aligned'),\n",
       " 'CL2046': WindowsPath('G:/Shared drives/Database/Cells/CL2046_LGA_notaligned_CalenderingImpedance'),\n",
       " 'CL1034': WindowsPath('G:/Shared drives/Database/Cells/CL1034_Orion_DryCell'),\n",
       " 'CL2045': WindowsPath('G:/Shared drives/Database/Cells/CL2045_CAMX_CalenderingSample_Impedance'),\n",
       " 'CL2044': WindowsPath('G:/Shared drives/Database/Cells/CL2044_WB0181_GT-1_not-aligned_symCCC'),\n",
       " 'CL2043': WindowsPath('G:/Shared drives/Database/Cells/CL2043_WB0180_GT-1_aligned_symCCC'),\n",
       " 'CL0060': WindowsPath('G:/Shared drives/Database/Cells/CL0060_Lishen_Standard'),\n",
       " 'CL2039': WindowsPath('G:/Shared drives/Database/Cells/CL2039_GT-1_NotAligned_CalenderingImpedance'),\n",
       " 'CL2041': WindowsPath('G:/Shared drives/Database/Cells/CL2041_Orion_CL1034_HalfCells'),\n",
       " 'CL2040': WindowsPath('G:/Shared drives/Database/Cells/CL2040_918_CalenderingImpedance'),\n",
       " 'CL2037': WindowsPath('G:/Shared drives/Database/Cells/CL2037_LiFun_FastImpedance'),\n",
       " 'CL1031': WindowsPath('G:/Shared drives/Database/Cells/CL1031_Orion_5800HV'),\n",
       " 'CL1033': WindowsPath('G:/Shared drives/Database/Cells/CL1033_Orion_7200HV'),\n",
       " 'CL1030': WindowsPath('G:/Shared drives/Database/Cells/CL1030_Orion_4000HV'),\n",
       " 'CL1032': WindowsPath('G:/Shared drives/Database/Cells/CL1032_Orion_6600'),\n",
       " 'CL1029': WindowsPath('G:/Shared drives/Database/Cells/CL1029_Orion_3500HV'),\n",
       " 'CL2038': WindowsPath('G:/Shared drives/Database/Cells/CL2038_CAMX_Production_FastImpedance'),\n",
       " 'CL2032': WindowsPath('G:/Shared drives/Database/Cells/CL2032_Orion_symCCC'),\n",
       " 'CL2031': WindowsPath('G:/Shared drives/Database/Cells/CL2031_EXP0064_HalfCells'),\n",
       " 'CL2033': WindowsPath('G:/Shared drives/Database/Cells/CL2033_EXP0063_FastImpedance'),\n",
       " 'CL2034': WindowsPath('G:/Shared drives/Database/Cells/CL2034_LGA_CalenderingImpedance'),\n",
       " 'CL1028': WindowsPath('G:/Shared drives/Database/Cells/CL1028_Orion_3200'),\n",
       " 'CL2025': WindowsPath('G:/Shared drives/Database/Cells/CL2025_EXP0060_GloveboxHumidity'),\n",
       " 'CL2024': WindowsPath('G:/Shared drives/Database/Cells/CL2024_VW_LiFun_Cathode_Impedance'),\n",
       " 'CL2027': WindowsPath('G:/Shared drives/Database/Cells/CL2027_EXP0063_symCCC'),\n",
       " 'CL2026': WindowsPath('G:/Shared drives/Database/Cells/CL2026_EXP0059_HalfCells'),\n",
       " 'CL2028': WindowsPath('G:/Shared drives/Database/Cells/CL2028_EXP0050_FastImpedance'),\n",
       " 'CL2050': WindowsPath('G:/Shared drives/Database/Cells/CL2050_OrionGrepow_Run1_WB0253_Impedance'),\n",
       " 'CL2055': WindowsPath('G:/Shared drives/Database/Cells/CL2055_LGA1_qualifier_HCs'),\n",
       " 'CL2030': WindowsPath('G:/Shared drives/Database/Cells/CL2030_WB0072_CAM7_symCCC'),\n",
       " 'CL2036': WindowsPath('G:/Shared drives/Database/Cells/CL2036_CAM7_CalenderingImpedance'),\n",
       " 'CL2035': WindowsPath('G:/Shared drives/Database/Cells/CL2035_EXP0067_HalfCells'),\n",
       " 'CL2029': WindowsPath('G:/Shared drives/Database/Cells/CL2029_EXP0063_FastImpedance'),\n",
       " 'CL0055': WindowsPath('G:/Shared drives/Database/Cells/CL0055_CAMX-Run2'),\n",
       " 'CL2023': WindowsPath('G:/Shared drives/Database/Cells/CL2023_LG-N-2_HalfCells'),\n",
       " 'CL1045': WindowsPath('G:/Shared drives/Database/Cells/CL1045_Mitsubishi_Eval_Full'),\n",
       " 'CL1044': WindowsPath('G:/Shared drives/Database/Cells/CL1044_Mitsubishi_Eval_Half'),\n",
       " 'CL1043': WindowsPath('G:/Shared drives/Database/Cells/CL1043_NV_EvalPhase1_MO0121'),\n",
       " 'CL0067': WindowsPath('G:/Shared drives/Database/Cells/CL0067_EvalCell_rev003_regular'),\n",
       " 'CL0066': WindowsPath('G:/Shared drives/Database/Cells/CL0066_EvalCell_rev003'),\n",
       " 'CL0065': WindowsPath('G:/Shared drives/Database/Cells/CL0065_EvalCell_rev002'),\n",
       " 'CL0064': WindowsPath('G:/Shared drives/Database/Cells/CL0064_EvalCell_Grepow_Reference'),\n",
       " 'CL0063': WindowsPath('G:/Shared drives/Database/Cells/CL0063_EvalCell_Grepow_Run#1'),\n",
       " 'CL1046': WindowsPath('G:/Shared drives/Database/Cells/CL1046_NV_Eval_full'),\n",
       " 'CL0010': WindowsPath('G:/Shared drives/Database/Cells/CL0010_Hilti_Preenactment'),\n",
       " 'CL0011': WindowsPath('G:/Shared drives/Database/Cells/CL0011_Hilti_PowerCell_AlignedAnode'),\n",
       " 'CL0008': WindowsPath('G:/Shared drives/Database/Cells/CL0008_Battrion_May2017_Alig'),\n",
       " 'CL0014': WindowsPath('G:/Shared drives/Database/Cells/CL0014_Hilti_TandemCell'),\n",
       " 'CL1000': WindowsPath('G:/Shared drives/Database/Cells/CL1000_Sony_VTC6'),\n",
       " 'CL0013': WindowsPath('G:/Shared drives/Database/Cells/CL0013_Hilti_LitarionCell'),\n",
       " 'CL0012': WindowsPath('G:/Shared drives/Database/Cells/CL0012_Hilti_PowerCell_SphericalAnode'),\n",
       " 'CL0015': WindowsPath('G:/Shared drives/Database/Cells/CL0015_LG-NMC622-thick_HC'),\n",
       " 'CL0025': WindowsPath('G:/Shared drives/Database/Cells/CL0025_Battrion_EnergyCell'),\n",
       " 'CL0032': WindowsPath('G:/Shared drives/Database/Cells/CL0032_Lishen_21700_XXX-Alig'),\n",
       " 'CL0030': WindowsPath('G:/Shared drives/Database/Cells/CL0030_Lishen-18650-ProductionCell'),\n",
       " 'CL0031': WindowsPath('G:/Shared drives/Database/Cells/CL0031_Lishen-21700-ProductionCell'),\n",
       " 'CL1001': WindowsPath('G:/Shared drives/Database/Cells/CL1001_A123_APR18650M-A1'),\n",
       " 'CL0020': WindowsPath('G:/Shared drives/Database/Cells/CL0020_Lishen-918-nAlig'),\n",
       " 'CL0017': WindowsPath('G:/Shared drives/Database/Cells/CL0017_LiFun-NMC532_HC'),\n",
       " 'CL0023': WindowsPath('G:/Shared drives/Database/Cells/CL0023_Lishen-SLP30-Alig'),\n",
       " 'CL0022': WindowsPath('G:/Shared drives/Database/Cells/CL0022_Lishen-S360C-nAlig'),\n",
       " 'CL0024': WindowsPath('G:/Shared drives/Database/Cells/CL0024_Lishen-SLP30-nAlig'),\n",
       " 'CL0019': WindowsPath('G:/Shared drives/Database/Cells/CL0019_Lishen-918-Alig'),\n",
       " 'CL0018': WindowsPath('G:/Shared drives/Database/Cells/CL0018_LG-A_HC'),\n",
       " 'CL0016': WindowsPath('G:/Shared drives/Database/Cells/CL0016_LG-NMC622-thin_HC'),\n",
       " 'CL0021': WindowsPath('G:/Shared drives/Database/Cells/CL0021_Lishen-S360C-Alig'),\n",
       " 'CL0026': WindowsPath('G:/Shared drives/Database/Cells/CL0026_LG-N-Alig_HC'),\n",
       " 'CL0028': WindowsPath('G:/Shared drives/Database/Cells/CL0028_LG-N-Alig-TR_HC'),\n",
       " 'CL0029': WindowsPath('G:/Shared drives/Database/Cells/CL0029_Hilti_PowerCell_AlignedAnode2'),\n",
       " 'CL0027': WindowsPath('G:/Shared drives/Database/Cells/CL0027_LG-N-nAlig_HC'),\n",
       " 'CL1003': WindowsPath('G:/Shared drives/Database/Cells/CL1003_Sony_VTC5A'),\n",
       " 'CL0033': WindowsPath('G:/Shared drives/Database/Cells/CL0033_Lishen_21700_XXX-nAlig'),\n",
       " 'CL1002': WindowsPath('G:/Shared drives/Database/Cells/CL1002_Sony_VTC5'),\n",
       " 'CL0036': WindowsPath('G:/Shared drives/Database/Cells/CL0036_Hilti_PowerCell_AlignedAnode3'),\n",
       " 'CL0035': WindowsPath('G:/Shared drives/Database/Cells/CL0035_SK_nAlig'),\n",
       " 'CL0009': WindowsPath('G:/Shared drives/Database/Cells/CL0009_Battrion_May2017_nAlig'),\n",
       " 'CL0034': WindowsPath('G:/Shared drives/Database/Cells/CL0034_SK_Alig'),\n",
       " 'CL1006': WindowsPath('G:/Shared drives/Database/Cells/CL1006_LG_HE4'),\n",
       " 'CL1005': WindowsPath('G:/Shared drives/Database/Cells/CL1005_LG_MJ1'),\n",
       " 'CL1004': WindowsPath('G:/Shared drives/Database/Cells/CL1004_LG_HE2'),\n",
       " 'CL2009': WindowsPath('G:/Shared drives/Database/Cells/CL2009_WB116_SymImpCCC_aligned'),\n",
       " 'CL1020': WindowsPath('G:/Shared drives/Database/Cells/CL1020_ChinaCell'),\n",
       " 'CL1024': WindowsPath('G:/Shared drives/Database/Cells/CL1024_Nexiot_Sanyo_NCR18650-469'),\n",
       " 'CL1019': WindowsPath('G:/Shared drives/Database/Cells/CL1019_TSLA'),\n",
       " 'CL1007': WindowsPath('G:/Shared drives/Database/Cells/CL1007_SDI_15L'),\n",
       " 'CL1011': WindowsPath('G:/Shared drives/Database/Cells/CL1011_SDI_26F'),\n",
       " 'CL1013': WindowsPath('G:/Shared drives/Database/Cells/CL1013_SDI_29E'),\n",
       " 'CL1012': WindowsPath('G:/Shared drives/Database/Cells/CL1012_SDI_28A'),\n",
       " 'CL1008': WindowsPath('G:/Shared drives/Database/Cells/CL1008_SDI_20R'),\n",
       " 'CL1009': WindowsPath('G:/Shared drives/Database/Cells/CL1009_SDI_22F'),\n",
       " 'CL1014': WindowsPath('G:/Shared drives/Database/Cells/CL1014_SDI_30Q'),\n",
       " 'CL1010': WindowsPath('G:/Shared drives/Database/Cells/CL1010_SDI_25R'),\n",
       " 'CL1023': WindowsPath('G:/Shared drives/Database/Cells/CL1023_Sanyo_GA'),\n",
       " 'CL2002': WindowsPath('G:/Shared drives/Database/Cells/CL2002_VW_DD_LiFunBattrion_unaligned'),\n",
       " 'CL2013': WindowsPath('G:/Shared drives/Database/Cells/CL2013_EXP0050_cells'),\n",
       " 'CL0041': WindowsPath('G:/Shared drives/Database/Cells/CL0041_LiFun_Pouchcell_LCO'),\n",
       " 'CL0042': WindowsPath('G:/Shared drives/Database/Cells/CL0042_LiFun_Pouchcell_NCA'),\n",
       " 'CL2010': WindowsPath('G:/Shared drives/Database/Cells/CL2010_WB117_SymImpCCC_unaligned'),\n",
       " 'CL2057': WindowsPath('G:/Shared drives/Database/Cells/CL2057_LGA1_FIPT_batch2'),\n",
       " 'CL1022': WindowsPath('G:/Shared drives/Database/Cells/CL1022_Nexiot_LG_F1L'),\n",
       " 'CL1018': WindowsPath('G:/Shared drives/Database/Cells/CL1018_Sony_NC1'),\n",
       " 'CL1016': WindowsPath('G:/Shared drives/Database/Cells/CL1016_SDI_35E'),\n",
       " 'CL0037': WindowsPath('G:/Shared drives/Database/Cells/CL0037_LiFun_NMC532'),\n",
       " 'CL1017': WindowsPath('G:/Shared drives/Database/Cells/CL1017_Sanyo_NSX'),\n",
       " 'CL1015': WindowsPath('G:/Shared drives/Database/Cells/CL1015_LG_HE4'),\n",
       " 'CL1021': WindowsPath('G:/Shared drives/Database/Cells/CL1021_Nexiot_Panasonic_NCR_B'),\n",
       " 'CL0039': WindowsPath('G:/Shared drives/Database/Cells/CL0039_CoinCells_LG-thick_Aligned'),\n",
       " 'CL0038': WindowsPath('G:/Shared drives/Database/Cells/CL0038_SymmetricImpedanceCells'),\n",
       " 'CL0040': WindowsPath('G:/Shared drives/Database/Cells/CL0040_CoinCells_LG-thick_NotAligned'),\n",
       " 'CL2056': WindowsPath('G:/Shared drives/Database/Cells/CL2056_LGA1_FIPT_batch1'),\n",
       " 'CL0004': WindowsPath('G:/Shared drives/Database/Cells/CL0004_Wyon'),\n",
       " 'CL0006': WindowsPath('G:/Shared drives/Database/Cells/CL0006_Battrion_Mar2017_aligned'),\n",
       " 'CL0005': WindowsPath('G:/Shared drives/Database/Cells/CL0005_Battrion_Mar2017_nonaligned'),\n",
       " 'CL0007': WindowsPath('G:/Shared drives/Database/Cells/CL0007_Coulometrics_EW16-123034'),\n",
       " 'CL1025': WindowsPath('G:/Shared drives/Database/Cells/CL1025_LG_E1'),\n",
       " 'CL2006': WindowsPath('G:/Shared drives/Database/Cells/CL2006_VW_DD_VWCust2Battrion_unaligned'),\n",
       " 'CL1026': WindowsPath('G:/Shared drives/Database/Cells/CL1026_Iqos_18650'),\n",
       " 'CL0045': WindowsPath('G:/Shared drives/Database/Cells/CL0045_CrimpedCoinCells_Li-WB49'),\n",
       " 'CL0046': WindowsPath('G:/Shared drives/Database/Cells/CL0046_CrimpedCoinCells_WB28-WB49'),\n",
       " 'CL0043': WindowsPath('G:/Shared drives/Database/Cells/CL0043_Hilti_PowerCell_SphericalAnode3'),\n",
       " 'CL1027': WindowsPath('G:/Shared drives/Database/Cells/CL1027_Iqos_small'),\n",
       " 'CL0044': WindowsPath('G:/Shared drives/Database/Cells/CL0044_CrimpedCoinCells_LG-spec'),\n",
       " 'CL0047': WindowsPath('G:/Shared drives/Database/Cells/CL0047_CrimpedCoinCells_Li-Air'),\n",
       " 'CL2004': WindowsPath('G:/Shared drives/Database/Cells/CL2004_VW_DD_SymImpCCC_unaligned'),\n",
       " 'CL2011': WindowsPath('G:/Shared drives/Database/Cells/CL2011_WB118_SymImpCCC_aligned'),\n",
       " 'CL2003': WindowsPath('G:/Shared drives/Database/Cells/CL2003_VW_DD_SymImpCCC_aligned'),\n",
       " 'CL2001': WindowsPath('G:/Shared drives/Database/Cells/CL2001_VW_DD_LiFunBattrion_aligned'),\n",
       " 'CL2012': WindowsPath('G:/Shared drives/Database/Cells/CL2012_WB115_SymImpCCC_unaligned'),\n",
       " 'CL2016': WindowsPath('G:/Shared drives/Database/Cells/CL2016_VW_DD_VWCust4Battrion_aligned_2ndTake'),\n",
       " 'CL0054': WindowsPath('G:/Shared drives/Database/Cells/CL0054_CAMX-Run1'),\n",
       " 'CL2015': WindowsPath('G:/Shared drives/Database/Cells/CL2015_VW_FullCellsCCC'),\n",
       " 'CL0053': WindowsPath('G:/Shared drives/Database/Cells/CL0053_BMW'),\n",
       " 'CL0049': WindowsPath('G:/Shared drives/Database/Cells/CL0049_SIC_LG4'),\n",
       " 'CL0048': WindowsPath('G:/Shared drives/Database/Cells/CL0048_SIC_LG3'),\n",
       " 'CL0050': WindowsPath('G:/Shared drives/Database/Cells/CL0050_HuaweiSpecCell'),\n",
       " 'CL0051': WindowsPath('G:/Shared drives/Database/Cells/CL0051_LiFun_PouchCell_Batt'),\n",
       " 'CL0052': WindowsPath('G:/Shared drives/Database/Cells/CL0052_LiFun_PouchCell_Spherical'),\n",
       " 'CL2008': WindowsPath('G:/Shared drives/Database/Cells/CL2008_VW_DD_VWCust4Battrion_unaligned'),\n",
       " 'CL2005': WindowsPath('G:/Shared drives/Database/Cells/CL2005_VW_DD_VWCust2Battrion_aligned'),\n",
       " 'CL2007': WindowsPath('G:/Shared drives/Database/Cells/CL2007_VW_DD_VWCust4Battrion_aligned'),\n",
       " 'CL2021': WindowsPath('G:/Shared drives/Database/Cells/CL2021_LG-A-2_HalfCells'),\n",
       " 'CL2022': WindowsPath('G:/Shared drives/Database/Cells/CL2022_LG-N-1_HalfCells'),\n",
       " 'CL2020': WindowsPath('G:/Shared drives/Database/Cells/CL2020_LG-A-1_HalfCells'),\n",
       " 'CL2014': WindowsPath('G:/Shared drives/Database/Cells/CL2014_VW_HalfCellsCCC'),\n",
       " 'CL2017': WindowsPath('G:/Shared drives/Database/Cells/CL2017_VW_HalfCells_LNE'),\n",
       " 'CL2018': WindowsPath('G:/Shared drives/Database/Cells/CL2018_VW_FullCells_LNE'),\n",
       " 'CL2019': WindowsPath('G:/Shared drives/Database/Cells/CL2019_EXP056_new_old_CMC_symCCC'),\n",
       " 'CL2059': WindowsPath('G:/Shared drives/Database/Cells/CL2059_MP1-TB'),\n",
       " 'CL2060': WindowsPath('G:/Shared drives/Database/Cells/CL2060_MCHC'),\n",
       " 'RM0257': WindowsPath('G:/Shared drives/Database/RawMaterials/RM0257_Electrolyte_1p3M_EC-DMC_3-7_0p1VC-0p1ES-0p1TTSPi'),\n",
       " 'MO0122': WindowsPath('G:/Shared drives/Database/ManufacturingOrders/MO0122_RollPress'),\n",
       " 'RM0261': WindowsPath('G:/Shared drives/Database/RawMaterials/RM0261_Electrolyte_1p3molkg_EC-DMC_3-7_2VC_2ES_2TTSPi'),\n",
       " 'MO0108': WindowsPath('G:/Shared drives/Database/ManufacturingOrders/MO0108b_ImpElectrolytes'),\n",
       " 'MO0119': WindowsPath('G:/Shared drives/Database/ManufacturingOrders/MO0119_Battrion_EvalCells_Run2'),\n",
       " 'MO0115': WindowsPath('G:/Shared drives/Database/ManufacturingOrders/MO0115_LG_A1_Electrodes'),\n",
       " 'MO0120': WindowsPath('G:/Shared drives/Database/ManufacturingOrders/MO0120_Mitsubishi'),\n",
       " 'MO0118': WindowsPath('G:/Shared drives/Database/ManufacturingOrders/MO0118_SKI_Eval'),\n",
       " 'MO0117': WindowsPath('G:/Shared drives/Database/ManufacturingOrders/MO0117_LGN1_Electrodes'),\n",
       " 'MO0116': WindowsPath('G:/Shared drives/Database/ManufacturingOrders/MO0116_LGA2_Electrodes'),\n",
       " 'MO0121': WindowsPath('G:/Shared drives/Database/ManufacturingOrders/MO0121_Northvolt'),\n",
       " 'RM0354': WindowsPath('G:/Shared drives/Database/RawMaterials/RM0354_ShenzhenH&TTechnology _CopperFoil_10um'),\n",
       " 'RM0344': WindowsPath('G:/Shared drives/Database/RawMaterials/RM0344_JSR_102A'),\n",
       " 'RM0330': WindowsPath('G:/Shared drives/Database/RawMaterials/RM0330_Cores_400x76_3mm_HansSennAG'),\n",
       " 'RM0322': WindowsPath('G:/Shared drives/Database/RawMaterials/RM0322_AlfaAesar_MetallicLithium'),\n",
       " 'RM0323': WindowsPath('G:/Shared drives/Database/RawMaterials/RM0323_SigmaAldrich_DimethylCarbonate'),\n",
       " 'RM0321': WindowsPath('G:/Shared drives/Database/RawMaterials/RM0321_ConductivityStandardSolution_12p88mS-cm'),\n",
       " 'RM0312': WindowsPath('G:/Shared drives/Database/RawMaterials/RM0312_WalocelCRT2000PA07'),\n",
       " 'RM0320': WindowsPath('G:/Shared drives/Database/RawMaterials/RM0320_ConductivityStandardSolution_1413uS-cm'),\n",
       " 'RM0313': WindowsPath('G:/Shared drives/Database/RawMaterials/RM0313_KCl_SolutionForpHMeter'),\n",
       " 'RM0314': WindowsPath('G:/Shared drives/Database/RawMaterials/RM0314_LiPF6_Fluorochem'),\n",
       " 'RM0319': WindowsPath('G:/Shared drives/Database/RawMaterials/RM0319_ConductivityStandardSolution_84uS-cm'),\n",
       " 'RM0318': WindowsPath('G:/Shared drives/Database/RawMaterials/RM0318_CMC_WalocelCRT30000PA'),\n",
       " 'RM0336': WindowsPath('G:/Shared drives/Database/RawMaterials/RM0336_LG-Thermo_Graphite_type2'),\n",
       " 'RM0311': WindowsPath('G:/Shared drives/Database/RawMaterials/RM0311_Electrolyte_1p3molkg_3-7-EC-DMC_0p1VC_0p1ES_0p1TTSPi'),\n",
       " 'RM0325': WindowsPath('G:/Shared drives/Database/RawMaterials/RM0325_Grepow_Graphite_GHMG-M'),\n",
       " 'RM0328': WindowsPath('G:/Shared drives/Database/RawMaterials/RM0328_Electrolyte_1p5molkg_3-7-EC-DMC_0p66VC_0p66ES_0p66TTSPi'),\n",
       " 'RM0316': WindowsPath('G:/Shared drives/Database/RawMaterials/RM0316_Electrolyte_1p3molkg_3-7-EC-DMC_0p66VC_0p66ES_0p66TTSPi'),\n",
       " 'RM0332': WindowsPath('G:/Shared drives/Database/RawMaterials/RM0332_Henkel_PSA_type2'),\n",
       " 'RM0339': WindowsPath('G:/Shared drives/Database/RawMaterials/RM0339_LG-Thermo_Resin_type2'),\n",
       " 'RM0317': WindowsPath('G:/Shared drives/Database/RawMaterials/RM0317_Electrolyte_1p3molkg_3-7-EC-DMC_1p33VC_1p33ES_1p33TTSPi'),\n",
       " 'RM0326': WindowsPath('G:/Shared drives/Database/RawMaterials/RM0326_JiangxiZichenTechnology_G9_(Lishen)'),\n",
       " 'RM0324': WindowsPath('G:/Shared drives/Database/RawMaterials/RM0324_Grepow_LCO_LC108R'),\n",
       " 'RM0333': WindowsPath('G:/Shared drives/Database/RawMaterials/RM0333_Henkel_PET_Foil'),\n",
       " 'RM0334': WindowsPath('G:/Shared drives/Database/RawMaterials/RM0334_Henkel_Liner'),\n",
       " 'RM0335': WindowsPath('G:/Shared drives/Database/RawMaterials/RM0335_LG-Thermo_Graphite_type1'),\n",
       " 'RM0327': WindowsPath('G:/Shared drives/Database/RawMaterials/RM0327_1808xx_CuFoil_CCP_6um_DUB'),\n",
       " 'RM0338': WindowsPath('G:/Shared drives/Database/RawMaterials/RM0338_LG-Thermo_Resin_type1'),\n",
       " 'RM0342': WindowsPath('G:/Shared drives/Database/RawMaterials/RM0342_Separator_CAMX_12um'),\n",
       " 'RM0343': WindowsPath('G:/Shared drives/Database/RawMaterials/RM0343_CAMX_CAM7'),\n",
       " 'RM0346': WindowsPath('G:/Shared drives/Database/RawMaterials/RM0346_Graphite_Mitsubishi_GraphiteB'),\n",
       " 'RM0345': WindowsPath('G:/Shared drives/Database/RawMaterials/RM0345_Graphite_Mitsubishi_GraphiteA'),\n",
       " 'RM0341': WindowsPath('G:/Shared drives/Database/RawMaterials/RM0341_BMW_Anode_Standard'),\n",
       " 'RM0009': WindowsPath('G:/Shared drives/Database/RawMaterials/RM0009_Fe-C_Nano_Vials_Unkown'),\n",
       " 'RM0007': WindowsPath('G:/Shared drives/Database/RawMaterials/RM0007_Ni-C_Unknwon'),\n",
       " 'RM0003': WindowsPath('G:/Shared drives/Database/RawMaterials/RM0003_IronNano_Sigma'),\n",
       " 'RM0008': WindowsPath('G:/Shared drives/Database/RawMaterials/RM0008_NanoAmor_unknown'),\n",
       " 'RM0005': WindowsPath('G:/Shared drives/Database/RawMaterials/RM0005_IronNano_35-45nm_Sigma'),\n",
       " 'RM0002': WindowsPath('G:/Shared drives/Database/RawMaterials/RM0002_Iron(II,III)Oxide_Nano_Sigma'),\n",
       " 'RM0296': WindowsPath('G:/Shared drives/Database/RawMaterials/RM0296_Na_ClO4_20mmol_in_RM0294'),\n",
       " 'RM0051': WindowsPath('G:/Shared drives/Database/RawMaterials/RM0051_LithiumCobaltOxide_LCO'),\n",
       " 'RM0004': WindowsPath('G:/Shared drives/Database/RawMaterials/RM0004_IronNano_Unknown'),\n",
       " 'RM0052': WindowsPath('G:/Shared drives/Database/RawMaterials/RM0052_LithiumNickelManganeseCobaltOxide_NMC'),\n",
       " 'RM0304': WindowsPath('G:/Shared drives/Database/RawMaterials/RM0304_Argon'),\n",
       " 'RM0001': WindowsPath('G:/Shared drives/Database/RawMaterials/RM0001_Co_C_USResearch'),\n",
       " 'RM0310': WindowsPath('G:/Shared drives/Database/RawMaterials/RM0310_Laponite-JS_BYK'),\n",
       " 'RM0303': WindowsPath('G:/Shared drives/Database/RawMaterials/RM0303_Lithium'),\n",
       " 'RM0309': WindowsPath('G:/Shared drives/Database/RawMaterials/RM0309_DISPERBYK-2013_BYK'),\n",
       " 'RM0305': WindowsPath('G:/Shared drives/Database/RawMaterials/RM0305_Nitrogen'),\n",
       " 'RM0329': WindowsPath('G:/Shared drives/Database/RawMaterials/RM0329_Li-Fun_NMC532'),\n",
       " 'RM0307': WindowsPath('G:/Shared drives/Database/RawMaterials/RM0307_Laponite-S_482_BYK'),\n",
       " 'RM0308': WindowsPath('G:/Shared drives/Database/RawMaterials/RM0308_BYK-LP_C_22116_BYK'),\n",
       " 'RM0306': WindowsPath('G:/Shared drives/Database/RawMaterials/RM0306_Laponite-RD_BYK'),\n",
       " 'RM0295': WindowsPath('G:/Shared drives/Database/RawMaterials/RM0295_Na_acetate_20mmol_in_RM0294'),\n",
       " 'RM0294': WindowsPath('G:/Shared drives/Database/RawMaterials/RM0294_EC_DMC_3_7_mix_180717'),\n",
       " 'RM0006': WindowsPath('G:/Shared drives/Database/RawMaterials/RM0006_Fe-C_Unknown'),\n",
       " 'RM0331': WindowsPath('G:/Shared drives/Database/RawMaterials/RM0331_Henkel_PSA_type1'),\n",
       " 'RM0297': WindowsPath('G:/Shared drives/Database/RawMaterials/RM0297_Li_ClO4_20mmol_in_RM0294'),\n",
       " 'RM0315': WindowsPath('G:/Shared drives/Database/RawMaterials/RM0315_Electrolyte_1p3molkg_3-7-EC-DMC_0p33VC_0p33ES_0p33TTSPi'),\n",
       " 'RM0340': WindowsPath('G:/Shared drives/Database/RawMaterials/RM0340_BMW_Cathode_NMC622'),\n",
       " 'RM0337': WindowsPath('G:/Shared drives/Database/RawMaterials/RM0337_LG-Thermo_BoronNitride_type1'),\n",
       " 'RM0298': WindowsPath('G:/Shared drives/Database/RawMaterials/RM0298_TBAP-NaAcetate_1to1_20mmol_in_RM029'),\n",
       " 'RM0301': WindowsPath('G:/Shared drives/Database/RawMaterials/RM0301_Isopropanol'),\n",
       " 'RM0302': WindowsPath('G:/Shared drives/Database/RawMaterials/RM0302_Ethanol'),\n",
       " 'RM0299': WindowsPath('G:/Shared drives/Database/RawMaterials/RM0299_TBAP'),\n",
       " 'RM0300': WindowsPath('G:/Shared drives/Database/RawMaterials/RM0300_Acetone'),\n",
       " 'RM0352': WindowsPath('G:/Shared drives/Database/RawMaterials/RM0352_Northvolt_NV-BA_G'),\n",
       " 'RM0291': WindowsPath('G:/Shared drives/Database/RawMaterials/RM0291_Dimethylcarbonate_anhydrous_100mL'),\n",
       " 'RM0292': WindowsPath('G:/Shared drives/Database/RawMaterials/RM0292 -Sodium_perchlorate_monohydrate_100g'),\n",
       " 'RM0289': WindowsPath('G:/Shared drives/Database/RawMaterials/RM0289_Sodium_acetate_anhydrous_250g'),\n",
       " 'RM0290': WindowsPath('G:/Shared drives/Database/RawMaterials/RM0290_Lithium_perchlorate_100g'),\n",
       " 'RM0293': WindowsPath('G:/Shared drives/Database/RawMaterials/RM0293_Ethylene_carbonate_100g'),\n",
       " 'RM0288': WindowsPath('G:/Shared drives/Database/RawMaterials/RM0288_JiangxiZichenTechnology_YF3-GT-1_(LG-A)'),\n",
       " 'RM0287': WindowsPath('G:/Shared drives/Database/RawMaterials/RM0287_LG-SuperC65'),\n",
       " 'RM0286': WindowsPath('G:/Shared drives/Database/RawMaterials/RM0286_LG-CMC'),\n",
       " 'RM0353': WindowsPath('G:/Shared drives/Database/RawMaterials/RM0353_SKI-G1_graphite'),\n",
       " 'RM0285': WindowsPath('G:/Shared drives/Database/RawMaterials/RM0285_LG-Binder'),\n",
       " 'RM0283': WindowsPath('G:/Shared drives/Database/RawMaterials/RM0283_LG-A2'),\n",
       " 'RM0284': WindowsPath('G:/Shared drives/Database/RawMaterials/RM0284_LG-N1'),\n",
       " 'RM0282': WindowsPath('G:/Shared drives/Database/RawMaterials/RM0282_LG-A1'),\n",
       " 'RM0278': WindowsPath('G:/Shared drives/Database/RawMaterials/RM0278_SilicaGelForGlovebox'),\n",
       " 'RM0277': WindowsPath('G:/Shared drives/Database/RawMaterials/RM0277_MetalicLithium_from_RUE'),\n",
       " 'RM0280': WindowsPath('G:/Shared drives/Database/RawMaterials/RM0280_1M_LiPF6_in_DMC_RUE'),\n",
       " 'RM0279': WindowsPath('G:/Shared drives/Database/RawMaterials/RM0279_LiPF6Salt_RUE'),\n",
       " 'RM0281': WindowsPath('G:/Shared drives/Database/RawMaterials/RM0281_1p3mol-kg_EC-DMC_3-7_Solvionic'),\n",
       " 'RM0274': WindowsPath('G:/Shared drives/Database/RawMaterials/RM0274_MeilideElectronic_Tab_5mm_NiPlated'),\n",
       " 'RM0275': WindowsPath('G:/Shared drives/Database/RawMaterials/RM0275_MeilideElectronic_Tab_5mm_NiPlated'),\n",
       " 'RM0273': WindowsPath('G:/Shared drives/Database/RawMaterials/RM0273_MeilideElectronic_Tab_8mm_NiPure'),\n",
       " 'RM0272': WindowsPath('G:/Shared drives/Database/RawMaterials/RM0272_MeilideElectronic_Tab_4mm_NiPlated'),\n",
       " 'RM0276': WindowsPath('G:/Shared drives/Database/RawMaterials/RM0276_Electrolyte_20mmol_TBAClO4_EC-DMC_3-7'),\n",
       " 'RM0268': WindowsPath('G:/Shared drives/Database/RawMaterials/RM0268_MTI_CCC_Spacer_200um_Steel'),\n",
       " 'RM0271': WindowsPath('G:/Shared drives/Database/RawMaterials/RM0271_MTI_CCC_Spring_ThinWarp_Steel'),\n",
       " 'RM0267': WindowsPath('G:/Shared drives/Database/RawMaterials/RM0267_MTI_CCC_Housing_CR2032'),\n",
       " 'RM0270': WindowsPath('G:/Shared drives/Database/RawMaterials/RM0270_MTI_CCC_Spring_ThickCone_Steel'),\n",
       " 'RM0269': WindowsPath('G:/Shared drives/Database/RawMaterials/RM0269_MTI_CCC_Spacer_500um_Steel'),\n",
       " 'RM0351': WindowsPath('G:/Shared drives/Database/RawMaterials/RM0351_Northvolt_NV-BN_M'),\n",
       " 'RM0114': WindowsPath('G:/Shared drives/Database/RawMaterials/RM0114_Kaptontapes.com_15mm'),\n",
       " 'RM0205': WindowsPath('G:/Shared drives/Database/RawMaterials/RM0205_171220_HPMC_H7509'),\n",
       " 'RM0350': WindowsPath('G:/Shared drives/Database/RawMaterials/RM0350_DIWater_B&H'),\n",
       " 'RM0197': WindowsPath('G:/Shared drives/Database/RawMaterials/RM0197_171106_Graphit_Kropfmuehl'),\n",
       " 'RM0349': WindowsPath('G:/Shared drives/Database/RawMaterials/RM0349_PerfectedSodiumAlginate_kitchenAlchemy_lot#6688'),\n",
       " 'RM0131': WindowsPath('G:/Shared drives/Database/RawMaterials/RM0131_171010_PVDF_Kureha_W1100'),\n",
       " 'RM0101': WindowsPath('G:/Shared drives/Database/RawMaterials/RM0101_1710XX_AlFoil_ZhongJin'),\n",
       " 'RM0111': WindowsPath('G:/Shared drives/Database/RawMaterials/RM0111_1710XX_CuFoil_CHA_15um'),\n",
       " 'RM0113': WindowsPath('G:/Shared drives/Database/RawMaterials/RM0113_1710XX_AlTab_6mm_Targray'),\n",
       " 'RM0109': WindowsPath('G:/Shared drives/Database/RawMaterials/RM0109_SBR_Zeon_BM-400B'),\n",
       " 'RM0108': WindowsPath('G:/Shared drives/Database/RawMaterials/RM0108_CMC_Daicel DN-400H'),\n",
       " 'RM0107': WindowsPath('G:/Shared drives/Database/RawMaterials/RM0107_Graphite_Imerys_SLP30'),\n",
       " 'RM0112': WindowsPath('G:/Shared drives/Database/RawMaterials/RM0112_1710XX_CuNiTab_EMS-clad'),\n",
       " 'RM0102': WindowsPath('G:/Shared drives/Database/RawMaterials/RM0102_1710XX_Toda_NCA_NAT-1050'),\n",
       " 'RM0106': WindowsPath('G:/Shared drives/Database/RawMaterials/RM0106_1710XX_Cnano_CNTs_LB101-50'),\n",
       " 'RM0100': WindowsPath('G:/Shared drives/Database/RawMaterials/RM0100_1708XX_CuFoil_RUE'),\n",
       " 'RM0105': WindowsPath('G:/Shared drives/Database/RawMaterials/RM0105_1710XX_NMP_from_Coulometrics'),\n",
       " 'RM0104': WindowsPath('G:/Shared drives/Database/RawMaterials/RM0104_1710XX_CB_from_Coulometrics'),\n",
       " 'RM0103': WindowsPath('G:/Shared drives/Database/RawMaterials/RM0103_1710XX_PVDF_HSV900_from Coulometrics'),\n",
       " 'RM0110': WindowsPath('G:/Shared drives/Database/RawMaterials/RM0110_1710XX_DI_water_from_Walmart'),\n",
       " 'RM0119': WindowsPath('G:/Shared drives/Database/RawMaterials/RM0119_170919_NCA_Toda_NAT-1050'),\n",
       " 'RM0121': WindowsPath('G:/Shared drives/Database/RawMaterials/RM0121_170921_Graphite_BTR_918'),\n",
       " 'RM0115': WindowsPath('G:/Shared drives/Database/RawMaterials/RM0115_170919_Graphite_LG_Artificial'),\n",
       " 'RM0120': WindowsPath('G:/Shared drives/Database/RawMaterials/RM0120_170919_PVDF_Kynar_HSV900_Battrion'),\n",
       " 'RM0116': WindowsPath('G:/Shared drives/Database/RawMaterials/RM0116_is_RM0285-B01_170919_SBR_LG_Latex'),\n",
       " 'RM0118': WindowsPath('G:/Shared drives/Database/RawMaterials/RM0118_170919_CuFoil_CCP_10um'),\n",
       " 'RM0123': WindowsPath('G:/Shared drives/Database/RawMaterials/RM0123_170927_Graphite_BTR_S360C'),\n",
       " 'RM0117': WindowsPath('G:/Shared drives/Database/RawMaterials/RM0117_170919_CuFoil_CCP_15um_LeftOver'),\n",
       " 'RM0130': WindowsPath('G:/Shared drives/Database/RawMaterials/RM0130_171010_PVDF-Suspension_Kureha_L1120'),\n",
       " 'RM0129': WindowsPath('G:/Shared drives/Database/RawMaterials/RM0129_171010_PVDF_Solvay5130_Coulometrics'),\n",
       " 'RM0128': WindowsPath('G:/Shared drives/Database/RawMaterials/RM0128_171010_PVDF_HSV900_Coulometrics_FreshDrum'),\n",
       " 'RM0127': WindowsPath('G:/Shared drives/Database/RawMaterials/RM0127_171010_NMP_Coulometrics_SigmaAldrich'),\n",
       " 'RM0125': WindowsPath('G:/Shared drives/Database/RawMaterials/RM0125_171010_NMP_Coulometrics_Barrel'),\n",
       " 'RM0124': WindowsPath('G:/Shared drives/Database/RawMaterials/RM0124_171010_CNT_LB117-44_Coulometrics'),\n",
       " 'RM0126': WindowsPath('G:/Shared drives/Database/RawMaterials/RM0126_171010_PVDF_HSV900_Coulometrics_Bucket'),\n",
       " 'RM0122': WindowsPath('G:/Shared drives/Database/RawMaterials/RM0122_1710XX_NiTab_4mm_Targray'),\n",
       " 'RM0196': WindowsPath('G:/Shared drives/Database/RawMaterials/RM0196_171106_LG-NaturalFlake'),\n",
       " 'RM0139': WindowsPath('G:/Shared drives/Database/RawMaterials/RM0139_171023_Separator_Celgard_Coulometrics'),\n",
       " 'RM0133': WindowsPath('G:/Shared drives/Database/RawMaterials/RM0133_171010_PVDF_Kureha_W9100'),\n",
       " 'RM0132': WindowsPath('G:/Shared drives/Database/RawMaterials/RM0132_171010_PVDF-Suspension_Kureha_L9130'),\n",
       " 'RM0136': WindowsPath('G:/Shared drives/Database/RawMaterials/RM0136_DUPLICATE_see_RM0139'),\n",
       " 'RM0134': WindowsPath('G:/Shared drives/Database/RawMaterials/RM0134_171011_AlFoil_CHA_12um'),\n",
       " 'RM0135': WindowsPath('G:/Shared drives/Database/RawMaterials/RM0135_171011_NMP_anhydrous_SigmaAldrich'),\n",
       " 'RM0140': WindowsPath('G:/Shared drives/Database/RawMaterials/RM0140_170704_CuFoil_ChangChun_15um_LotV7812100'),\n",
       " 'RM0138': WindowsPath('G:/Shared drives/Database/RawMaterials/RM0138_171004_CuFoil_CCP_10um_CHA'),\n",
       " 'RM0137': WindowsPath('G:/Shared drives/Database/RawMaterials/RM0137_171004_CuFoil_CCP_15um_CHA'),\n",
       " 'RM0198': WindowsPath('G:/Shared drives/Database/RawMaterials/RM0198_1712xx_Alfoil_20um_coated_ShowaDenko'),\n",
       " 'RM0173': WindowsPath('G:/Shared drives/Database/RawMaterials/RM0173_17XXXX_CMC_Nippon_MAC200HC'),\n",
       " 'RM0142': WindowsPath('G:/Shared drives/Database/RawMaterials/RM0142_17XXXX_Graphite_LiFun'),\n",
       " 'RM0144': WindowsPath('G:/Shared drives/Database/RawMaterials/RM0144_160909_Magnets_unknown'),\n",
       " 'RM0162': WindowsPath('G:/Shared drives/Database/RawMaterials/RM0162_17XXXX_Cobalt_nanoparticles_commercial'),\n",
       " 'RM0141': WindowsPath('G:/Shared drives/Database/RawMaterials/RM0141_170922_CuFoil_ChangChun_10um_LotV7818295'),\n",
       " 'RM0143': WindowsPath('G:/Shared drives/Database/RawMaterials/RM0143_170314_CuFoil_Gelon'),\n",
       " 'RM0153': WindowsPath('G:/Shared drives/Database/RawMaterials/RM0153_17XXXX_Graphite_unknown_coated_sample'),\n",
       " 'RM0148': WindowsPath('G:/Shared drives/Database/RawMaterials/RM0148_160726_Graphite_Nippon_Nicabeads_TypP5B-AZ'),\n",
       " 'RM0150': WindowsPath('G:/Shared drives/Database/RawMaterials/RM0150_17XXXX_Graphite_CGB-15'),\n",
       " 'RM0152': WindowsPath('G:/Shared drives/Database/RawMaterials/RM0152_17XXXX_Graphite_unknown_uncoated_sample'),\n",
       " 'RM0147': WindowsPath('G:/Shared drives/Database/RawMaterials/RM0147_160726_Graphite_Nippon_Nicabeads_TypAMA-A'),\n",
       " 'RM0151': WindowsPath('G:/Shared drives/Database/RawMaterials/RM0151_17XXXX_Graphite_CGB-20'),\n",
       " 'RM0146': WindowsPath('G:/Shared drives/Database/RawMaterials/RM0146_170208_Graphite_G17-0017-F'),\n",
       " 'RM0154': WindowsPath('G:/Shared drives/Database/RawMaterials/RM0154_17XXXX_Graphite_sumgraf3'),\n",
       " 'RM0145': WindowsPath('G:/Shared drives/Database/RawMaterials/RM0145_17XXXX_CMC_LSG_1.5%wt'),\n",
       " 'RM0149': WindowsPath('G:/Shared drives/Database/RawMaterials/RM0149_17XXXX_Graphite_CGB-10'),\n",
       " 'RM0158': WindowsPath('G:/Shared drives/Database/RawMaterials/RM0158_17XXXX_Filament_ecoPLA_3Djake_black'),\n",
       " 'RM0159': WindowsPath('G:/Shared drives/Database/RawMaterials/RM0159_17XXXX_Filament_ecoPLA_3Djake_lightgray'),\n",
       " 'RM0155': WindowsPath('G:/Shared drives/Database/RawMaterials/RM0155_17XXXX_Graphite_sumgraf4'),\n",
       " 'RM0160': WindowsPath('G:/Shared drives/Database/RawMaterials/RM0160_17XXXX_Filament_CleaningFilament_Lulzbot'),\n",
       " 'RM0163': WindowsPath('G:/Shared drives/Database/RawMaterials/RM0163_17XXXX_Filament_PLA_PolyLite_trueblack'),\n",
       " 'RM0165': WindowsPath('G:/Shared drives/Database/RawMaterials/RM0165_17XXXX_Filament_BridgeNylon_Taulman_white'),\n",
       " 'RM0156': WindowsPath('G:/Shared drives/Database/RawMaterials/RM0156_17XXXX_unknown_StainlessMesh'),\n",
       " 'RM0161': WindowsPath('G:/Shared drives/Database/RawMaterials/RM0161_17XXXX_Filament_HTPLA_ProtoPasta_translucent'),\n",
       " 'RM0164': WindowsPath('G:/Shared drives/Database/RawMaterials/RM0164_17XXXX_Filament_PLA_PolyLite_lulzbotgreen'),\n",
       " 'RM0157': WindowsPath('G:/Shared drives/Database/RawMaterials/RM0157_17XXXX_unknown_CoatedCuFoil'),\n",
       " 'RM0167': WindowsPath('G:/Shared drives/Database/RawMaterials/RM0167_17XXXX_Xirallic_Merck_microsilver'),\n",
       " 'RM0169': WindowsPath('G:/Shared drives/Database/RawMaterials/RM0169_170907_CNT_Cnano_LB122-50'),\n",
       " 'RM0172': WindowsPath('G:/Shared drives/Database/RawMaterials/RM0172_170222_Graphite_Imerys_Timrex_SLP50'),\n",
       " 'RM0170': WindowsPath('G:/Shared drives/Database/RawMaterials/RM0170_170917_Graphite_LG_artificial'),\n",
       " 'RM0171': WindowsPath('G:/Shared drives/Database/RawMaterials/RM0171_170515_C-NERGY_Imerys_Actilion2'),\n",
       " 'RM0166': WindowsPath('G:/Shared drives/Database/RawMaterials/RM0166_17XXXX_NMC-532_LiFun'),\n",
       " 'RM0168': WindowsPath('G:/Shared drives/Database/RawMaterials/RM0168_17XXXX_Xirallic_Merck_radiantred'),\n",
       " 'RM0191': WindowsPath('G:/Shared drives/Database/RawMaterials/RM0191_151019_SBR_JSR_TRD2001'),\n",
       " 'RM0186': WindowsPath('G:/Shared drives/Database/RawMaterials/RM0186_170912_CMC_Weidmann_WMFC_Q_advanced_2_fibers'),\n",
       " 'RM0195': WindowsPath('G:/Shared drives/Database/RawMaterials/RM0195_17XXXX_MC_SigmaAldrich_M0512'),\n",
       " 'RM0190': WindowsPath('G:/Shared drives/Database/RawMaterials/RM0190_150626_SBR_JSR_TRD104A'),\n",
       " 'RM0192': WindowsPath('G:/Shared drives/Database/RawMaterials/RM0192_17XXXX_SBR_Zeon_BM-400B'),\n",
       " 'RM0193': WindowsPath('G:/Shared drives/Database/RawMaterials/RM0193_160217_SBR_Zeon_SH1109'),\n",
       " 'RM0189': WindowsPath('G:/Shared drives/Database/RawMaterials/RM0189_150309_SBR_JSR_TRD102A'),\n",
       " 'RM0188': WindowsPath('G:/Shared drives/Database/RawMaterials/RM0188_is_RM0285-B02_17XXXX_SBR_LG_BM-302'),\n",
       " 'RM0194': WindowsPath('G:/Shared drives/Database/RawMaterials/RM0194_17XXXX_MC_SigmaAldrich_M0262'),\n",
       " 'RM0187': WindowsPath('G:/Shared drives/Database/RawMaterials/RM0187_151110_SBR_Zeon_BM-400B'),\n",
       " 'RM0348': WindowsPath('G:/Shared drives/Database/RawMaterials/RM0348_SodiumAlginate_kitchenAlchemy_lot#7067'),\n",
       " 'RM0179': WindowsPath('G:/Shared drives/Database/RawMaterials/RM0179_17XXXX_CMC_ChongqingLihong_CMCLi-VH9'),\n",
       " 'RM0181': WindowsPath('G:/Shared drives/Database/RawMaterials/RM0181_17XXXX_CMC_Daicel_1160'),\n",
       " 'RM0185': WindowsPath('G:/Shared drives/Database/RawMaterials/RM0185_170912_CMC_Weidmann_WMFC_Q_advanced_1_fibers'),\n",
       " 'RM0177': WindowsPath('G:/Shared drives/Database/RawMaterials/RM0177_170407_CMC_Dow_Walocel_CRT30PA'),\n",
       " 'RM0183': WindowsPath('G:/Shared drives/Database/RawMaterials/RM0183_17XXXX_CMC_Daicel_127T'),\n",
       " 'RM0184': WindowsPath('G:/Shared drives/Database/RawMaterials/RM0184_17XXXX_CMC_Daicel_DN400H'),\n",
       " 'RM0178': WindowsPath('G:/Shared drives/Database/RawMaterials/RM0178_170117_CMC_Dow_Walocel_CRT2000PA07'),\n",
       " 'RM0180': WindowsPath('G:/Shared drives/Database/RawMaterials/RM0180_17XXXX_CMC_ChongqingLihong_BVH8-B'),\n",
       " 'RM0182': WindowsPath('G:/Shared drives/Database/RawMaterials/RM0182_17XXXX_CMC_Daicel_2200'),\n",
       " 'RM0208': WindowsPath('G:/Shared drives/Database/RawMaterials/RM0208_Electrolyte_1p2M_EC-EMC_3-7_2VC-2ES-2TTSPi'),\n",
       " 'RM0209': WindowsPath('G:/Shared drives/Database/RawMaterials/RM0209_Silicon_AlfaAesar_38715_1-20um'),\n",
       " 'RM0212': WindowsPath('G:/Shared drives/Database/RawMaterials/RM0212_SiliconOxide_KIT'),\n",
       " 'RM0207': WindowsPath('G:/Shared drives/Database/RawMaterials/RM0207_Electrolyte_1p5M_EC-DMC-MA_3-4-3_2VC-2ES-2TTSPi'),\n",
       " 'RM0213': WindowsPath('G:/Shared drives/Database/RawMaterials/RM0213_Electrolyte_1p5M_EC-EMC-MA_3-4-3_2VC-2ES-2TTSPi'),\n",
       " 'RM0206': WindowsPath('G:/Shared drives/Database/RawMaterials/RM0206_Electrolyte_1p5M_EC-DMC-MA_3-4-3_noAdditives'),\n",
       " 'RM0211': WindowsPath('G:/Shared drives/Database/RawMaterials/RM0211_Silicon_CNPC_15um'),\n",
       " 'RM0210': WindowsPath('G:/Shared drives/Database/RawMaterials/RM0210_Silicon_AlfaAesar_46308_100nm'),\n",
       " 'RM0202': WindowsPath('G:/Shared drives/Database/RawMaterials/RM0202_180103_NCA_Toda_NAT-1050'),\n",
       " 'RM0347': WindowsPath('G:/Shared drives/Database/RawMaterials/RM0347_3M-9087_DoublesidedTapeForAdhesion'),\n",
       " 'RM0201': WindowsPath('G:/Shared drives/Database/RawMaterials/RM0201_1712xx_VGCF'),\n",
       " 'RM0199': WindowsPath('G:/Shared drives/Database/RawMaterials/RM0199_1712xx_Alfoil_15um_coated_ShowaDenko'),\n",
       " 'RM0200': WindowsPath('G:/Shared drives/Database/RawMaterials/RM0200_1710xx_AlFoil_ZhongJin'),\n",
       " 'RM0203': WindowsPath('G:/Shared drives/Database/RawMaterials/RM0203_1712xx_PVDF-Suspension_Kureha_L1120'),\n",
       " 'RM0174': WindowsPath('G:/Shared drives/Database/RawMaterials/RM0174_17XXXX_CMC_Nippon_MAC350HC'),\n",
       " 'RM0175': WindowsPath('G:/Shared drives/Database/RawMaterials/RM0175_17XXXX_CMC_Nippon_MAC500LC'),\n",
       " 'RM0176': WindowsPath('G:/Shared drives/Database/RawMaterials/RM0176_17XXXX_CMC_Nippon_MAC800LC'),\n",
       " 'RM0204': WindowsPath('G:/Shared drives/Database/RawMaterials/RM0204_17xxxx_CarbonBlack_Imerys_C65'),\n",
       " 'RM0215': WindowsPath('G:/Shared drives/Database/RawMaterials/RM0215_Electrolyte_LP30_10FEC'),\n",
       " 'RM0214': WindowsPath('G:/Shared drives/Database/RawMaterials/RM0214_Electrolyte_LP30-LP50_1-1'),\n",
       " 'RM0219': WindowsPath('G:/Shared drives/Database/RawMaterials/RM0219_Defoamer_Dow_8590'),\n",
       " 'RM0223': WindowsPath('G:/Shared drives/Database/RawMaterials/RM0223_MC_Kremer_Methocel_A4M'),\n",
       " 'RM0218': WindowsPath('G:/Shared drives/Database/RawMaterials/RM0218_Defoamer_Dow_8628'),\n",
       " 'RM0222': WindowsPath('G:/Shared drives/Database/RawMaterials/RM0222_MC_Sigma_Methocel_A15LV'),\n",
       " 'RM0221': WindowsPath('G:/Shared drives/Database/RawMaterials/RM0221_MC_Sigma_HydroxylpropylMC'),\n",
       " 'RM0220': WindowsPath('G:/Shared drives/Database/RawMaterials/RM0220_Defoamer_Dow_57'),\n",
       " 'RM0217': WindowsPath('G:/Shared drives/Database/RawMaterials/RM0217_Defoamer_Dow_74'),\n",
       " 'RM0216': WindowsPath('G:/Shared drives/Database/RawMaterials/RM0216_Defoamer_Dow_71'),\n",
       " 'RM0231': WindowsPath('G:/Shared drives/Database/RawMaterials/RM0231_Electrolyte_LP30_1M_EC-DMC_1-1'),\n",
       " 'RM0224': WindowsPath('G:/Shared drives/Database/RawMaterials/RM0224_MC_ModernistPantry_A4C'),\n",
       " 'RM0226': WindowsPath('G:/Shared drives/Database/RawMaterials/RM0226_MC_ModernistPantry_E4M'),\n",
       " 'RM0225': WindowsPath('G:/Shared drives/Database/RawMaterials/RM0225_MC_ModernistPantry_A15C'),\n",
       " 'RM0227': WindowsPath('G:/Shared drives/Database/RawMaterials/RM0227_MC_ModernistPantry_F50'),\n",
       " 'RM0229': WindowsPath('G:/Shared drives/Database/RawMaterials/RM0229_MC_ModernistPantry_SGA7C'),\n",
       " 'RM0228': WindowsPath('G:/Shared drives/Database/RawMaterials/RM0228_MC_ModernistPantry_K100M'),\n",
       " 'RM0233': WindowsPath('G:/Shared drives/Database/RawMaterials/RM0233_Electrolyte_LP40_1M_EC-DEC_1-1'),\n",
       " 'RM0230': WindowsPath('G:/Shared drives/Database/RawMaterials/RM0230_Graphite_LMGS'),\n",
       " 'RM0234': WindowsPath('G:/Shared drives/Database/RawMaterials/RM0234_Electrolyte_1p5M_EC-EMC_3-7_2VC-2ES-2TTSPi'),\n",
       " 'RM0235': WindowsPath('G:/Shared drives/Database/RawMaterials/RM0235_Defoamer_Dow_69'),\n",
       " 'RM0236': WindowsPath('G:/Shared drives/Database/RawMaterials/RM0236_CeramicCoatedSeparator_RUS'),\n",
       " 'RM0239': WindowsPath('G:/Shared drives/Database/RawMaterials/RM0239_Separator_GF250'),\n",
       " 'RM0232': WindowsPath('G:/Shared drives/Database/RawMaterials/RM0232_Electrolyte_LP50_1M_EC-EMC_1-1'),\n",
       " 'RM0240': WindowsPath('G:/Shared drives/Database/RawMaterials/RM0240_Electrolyte_1p2M_EC-DMC_3-7_2VC-2ES-2TTSPi'),\n",
       " 'RM0238': WindowsPath('G:/Shared drives/Database/RawMaterials/RM0238_PET-Foil'),\n",
       " 'RM0243': WindowsPath('G:/Shared drives/Database/RawMaterials/RM0243_BYK_Laponite_S482'),\n",
       " 'RM0237': WindowsPath('G:/Shared drives/Database/RawMaterials/RM0237_CRT2000PA7_20kg'),\n",
       " 'RM0242': WindowsPath('G:/Shared drives/Database/RawMaterials/RM0242_BYK_Laponite_RD'),\n",
       " 'RM0251': WindowsPath('G:/Shared drives/Database/RawMaterials/RM0251_TTSP_98%_Sigma'),\n",
       " 'RM0250': WindowsPath('G:/Shared drives/Database/RawMaterials/RM0250_TTSPi_95%_Sigma'),\n",
       " 'RM0247': WindowsPath('G:/Shared drives/Database/RawMaterials/RM0247_Electrolyte_1p5M_EC-DMC_3-7_2VC-2ES-2TTSP'),\n",
       " 'RM0248': WindowsPath('G:/Shared drives/Database/RawMaterials/RM0248_Electrolyte_1p7M_EC-DMC_3-7_2VC-2ES-2TTSP'),\n",
       " 'RM0252': WindowsPath('G:/Shared drives/Database/RawMaterials/RM0252_AdditiveMix_1-1-1_VC-ES-TTSPi'),\n",
       " 'RM0245': WindowsPath('G:/Shared drives/Database/RawMaterials/RM0245_Electrolyte_1p1M_EC-DMC_3-7_2VC-2ES-2TTSP'),\n",
       " 'RM0249': WindowsPath('G:/Shared drives/Database/RawMaterials/RM0249_Electrolyte_1p9M_EC-DMC_3-7_2VC-2ES-2TTSP'),\n",
       " 'RM0246': WindowsPath('G:/Shared drives/Database/RawMaterials/RM0246_Electrolyte_1p3M_EC-DMC_3-7_2VC-2ES-2TTSP'),\n",
       " 'RM0241': WindowsPath('G:/Shared drives/Database/RawMaterials/RM0241_BYK_Laponite_JS'),\n",
       " 'RM0244': WindowsPath('G:/Shared drives/Database/RawMaterials/RM0244_BYK_Disperbyk-2013'),\n",
       " 'RM0256': WindowsPath('G:/Shared drives/Database/RawMaterials/RM0256_Electrolyte_1p2M_EC-EMC-DMC_1-1-1_1VC_CAMX'),\n",
       " 'RM0266': WindowsPath('G:/Shared drives/Database/RawMaterials/RM0266_MTI_CCC_Housing_CR2025'),\n",
       " 'RM0253': WindowsPath('G:/Shared drives/Database/RawMaterials/RM0253_1804xx_CuFoil_CCP_8um_DUB'),\n",
       " 'RM0254': WindowsPath('G:/Shared drives/Database/RawMaterials/RM0254_1804xx_CuFoil_CCP_10um_DUB'),\n",
       " 'RM0255': WindowsPath('G:/Shared drives/Database/RawMaterials/RM0255_1804xx_CuFoil_CCP_15um_DUB'),\n",
       " 'RM0265': WindowsPath('G:/Shared drives/Database/RawMaterials/RM0265_MTI_CCC_Housing_CR2016'),\n",
       " 'RM0264': WindowsPath('G:/Shared drives/Database/RawMaterials/RM0264_Additive_Vinylene_Carbonate_VC'),\n",
       " 'RM0263': WindowsPath('G:/Shared drives/Database/RawMaterials/RM0263_Additive_Ethylene_Sulfite_ES'),\n",
       " 'RM0262': WindowsPath('G:/Shared drives/Database/RawMaterials/RM0262_Electrolyte_10mmol-TBAClO4-EC-DMC'),\n",
       " 'RM0258': WindowsPath('G:/Shared drives/Database/RawMaterials/RM0258_Electrolyte_1p3M_EC-DMC_3-7_2VC_2ES_2TTSPi'),\n",
       " 'RM0259': WindowsPath('G:/Shared drives/Database/RawMaterials/RM0259_Electrolyte_1p5m_EC-DMC_3-7_2VC-2ES_2TTSPi'),\n",
       " 'RM0260': WindowsPath('G:/Shared drives/Database/RawMaterials/RM0260_Separator_Celgard_2500_CAMX'),\n",
       " 'RM0355': WindowsPath('G:/Shared drives/Database/RawMaterials/RM0355_DIWater_DIStation'),\n",
       " 'EXP0081': WindowsPath('G:/Shared drives/Database/Experiments/EXP0081_Rheology'),\n",
       " 'EXP0090': WindowsPath('G:/Shared drives/Database/Experiments/EXP0090_CCC_HC_pos_Giovanni'),\n",
       " 'EXP0080': WindowsPath('G:/Shared drives/Database/Experiments/EXP0080_LithiumPlating_Martin'),\n",
       " 'EXP0079': WindowsPath('G:/Shared drives/Database/Experiments/EXP0079_AdditiveConcentration'),\n",
       " 'EXP0070': WindowsPath('G:/Shared drives/Database/Experiments/EXP0070_FastImpedanceTest_Deniz'),\n",
       " 'EXP0092': WindowsPath('G:/Shared drives/Database/Experiments/EXP0092_GrepowCells'),\n",
       " 'EXP0094': WindowsPath('G:/Shared drives/Database/Experiments/EXP0094_CoatingIssues'),\n",
       " 'EXP0089': WindowsPath('G:/Shared drives/Database/Experiments/EXP0089_LDS_web_uniformity'),\n",
       " 'EXP0096': WindowsPath('G:/Shared drives/Database/Experiments/EXP0096_DübendorfPouchCells'),\n",
       " 'EXP0097': WindowsPath('G:/Shared drives/Database/Experiments/EXP0097_FastAlignment'),\n",
       " 'EXP0095': WindowsPath('G:/Shared drives/Database/Experiments/EXP0095_CommaCoating'),\n",
       " 'EXP0093': WindowsPath('G:/Shared drives/Database/Experiments/EXP0093_IntermittendCoating'),\n",
       " 'EXP0076': WindowsPath('G:/Shared drives/Database/Experiments/EXP0076_CalenderingImpedance_918'),\n",
       " 'EXP0078': WindowsPath('G:/Shared drives/Database/Experiments/EXP0078_Alignment_speed-study'),\n",
       " 'EXP0075': WindowsPath('G:/Shared drives/Database/Experiments/EXP0075_DebugNm_Binderstudy_Max'),\n",
       " 'EXP0067': WindowsPath('G:/Shared drives/Database/Experiments/EXP0067_CAMX_Run#2'),\n",
       " 'EXP0073': WindowsPath('G:/Shared drives/Database/Experiments/EXP0073_CalenderingImpedance_LGA'),\n",
       " 'EXP0068': WindowsPath('G:/Shared drives/Database/Experiments/EXP0068_HypothesisCollectionSlurryProperties'),\n",
       " 'EXP0074': WindowsPath('G:/Shared drives/Database/Experiments/EXP0074_highloading_drying_condtions_optimization_Max'),\n",
       " 'EXP0077': WindowsPath('G:/Shared drives/Database/Experiments/EXP0077_DebugNm_drying_conditions_loading_Max'),\n",
       " 'EXP0071': WindowsPath('G:/Shared drives/Database/Experiments/EXP0071_OrionCells_Martin'),\n",
       " 'EXP0085': WindowsPath('G:/Shared drives/Database/Experiments/EXP0085_Alignment_vs._TSC'),\n",
       " 'EXP0084': WindowsPath('G:/Shared drives/Database/Experiments/EXP0084_Alignment_vs._viscosity'),\n",
       " 'EXP0082': WindowsPath('G:/Shared drives/Database/Experiments/EXP0082_Adhesion_highloading_GT1'),\n",
       " 'EXP0083': WindowsPath('G:/Shared drives/Database/Experiments/EXP0083_Alignment_vs._webspeed'),\n",
       " 'EXP0088': WindowsPath('G:/Shared drives/Database/Experiments/EXP0088_BT-1_Temperature_vs._Viscosity'),\n",
       " 'EXP0086': WindowsPath('G:/Shared drives/Database/Experiments/EXP0086_Adhesion_vs_CMC_SBR'),\n",
       " 'EXP0087': WindowsPath('G:/Shared drives/Database/Experiments/EXP0087_LG-N'),\n",
       " 'EXP0065': WindowsPath('G:/Shared drives/Database/Experiments/EXP0065_TR-SlurryViscosity_Max'),\n",
       " 'EXP0059': WindowsPath('G:/Shared drives/Database/Experiments/EXP0059_TR_Max'),\n",
       " 'EXP0062': WindowsPath('G:/Shared drives/Database/Experiments/EXP0062_Electrolyte_SaltConcentration'),\n",
       " 'EXP0019': WindowsPath('G:/Shared drives/Database/Experiments/EXP0019_AnnealingAdhesion'),\n",
       " 'EXP0055': WindowsPath('G:/Shared drives/Database/Experiments/EXP0055_14mg_2.5m_min'),\n",
       " 'EXP0056': WindowsPath('G:/Shared drives/Database/Experiments/EXP0056_CRT2000PA7_CMC'),\n",
       " 'EXP0053': WindowsPath('G:/Shared drives/Database/Experiments/EXP0053_HalfCells_VW'),\n",
       " 'EXP0061': WindowsPath('G:/Shared drives/Database/Experiments/EXP0061_AdhesionSession'),\n",
       " 'EXP0060': WindowsPath('G:/Shared drives/Database/Experiments/EXP0060_Glovebox_Humidity'),\n",
       " 'EXP0021': WindowsPath('G:/Shared drives/Database/Experiments/EXP0021_CentrifugeTest'),\n",
       " 'EXP0098': WindowsPath('G:/Shared drives/Database/Experiments/EXP0098_CMC-Filtering'),\n",
       " 'EXP0052': WindowsPath('G:/Shared drives/Database/Experiments/EXP0052_PythonDocx'),\n",
       " 'EXP0057': WindowsPath('G:/Shared drives/Database/Experiments/EXP0057_CCC_Debug'),\n",
       " 'EXP0051': WindowsPath('G:/Shared drives/Database/Experiments/EXP0051_LDS_2D_first_light'),\n",
       " 'EXP0050': WindowsPath('G:/Shared drives/Database/Experiments/EXP0050_CalenderingImpedance_SLP30'),\n",
       " 'EXP0020': WindowsPath('G:/Shared drives/Database/Experiments/EXP0020_OpticalPF_firstTests'),\n",
       " 'EXP0066': WindowsPath('G:/Shared drives/Database/Experiments/EXP0066_LG_Phase2_Samples'),\n",
       " 'EXP0069': WindowsPath('G:/Shared drives/Database/Experiments/EXP0069_FastChargingMetrics'),\n",
       " 'EXP0064': WindowsPath('G:/Shared drives/Database/Experiments/EXP0064_DebugQIrrev'),\n",
       " 'EXP0063': WindowsPath('G:/Shared drives/Database/Experiments/EXP0063_DebugNm_Max'),\n",
       " 'EXP0058': WindowsPath('G:/Shared drives/Database/Experiments/EXP0058_CAMX_Run#1'),\n",
       " 'EXP0072': WindowsPath('G:/Shared drives/Database/Experiments/EXP0072_LiFun_CL0054_FastCharging'),\n",
       " 'EXP0091': WindowsPath('G:/Shared drives/Database/Experiments/EXP0091_CAMX_Run#3'),\n",
       " 'EXP0099': WindowsPath('G:/Shared drives/Database/Experiments/EXP0099_OrionRun#2'),\n",
       " 'WB0260': WindowsPath('G:/Shared drives/Database/Webs/WB0260_EvalCells_ProcessDevelopment'),\n",
       " 'WB0263': WindowsPath('G:/Shared drives/Database/Webs/WB0263_DryMixingTest'),\n",
       " 'WB0255': WindowsPath('G:/Shared drives/Database/Webs/WB0255_SL0369_LGNTest_Aligned'),\n",
       " 'WB0256': WindowsPath('G:/Shared drives/Database/Webs/WB0256_SL0369_LGNTest_Aligned_IPA'),\n",
       " 'WB3006': WindowsPath('G:/Shared drives/Database/Webs/WB3006_LGA1_InternalReference'),\n",
       " 'WB0262': WindowsPath('G:/Shared drives/Database/Webs/WB0262_RollPressTesting2'),\n",
       " 'WB0259': WindowsPath('G:/Shared drives/Database/Webs/WB0259_SL0374_LGN_LGA_50_50_blend_102A'),\n",
       " 'WB3010': WindowsPath('G:/Shared drives/Database/Webs/WB3010_LG-A1_SL0383_process_dev'),\n",
       " 'WB0258': WindowsPath('G:/Shared drives/Database/Webs/WB0258_SL0373_LGN_0.5_A4C_DC74_IR'),\n",
       " 'WB0254': WindowsPath('G:/Shared drives/Database/Webs/WB0254_SL0369_LGNTest_notAligned'),\n",
       " 'WB0257': WindowsPath('G:/Shared drives/Database/Webs/WB0257_SL0373_LGN_0.5_A4C_DC74_noIR'),\n",
       " 'WB3009': WindowsPath('G:/Shared drives/Database/Webs/WB3009_LG-A1_SL0382_process_dev'),\n",
       " 'WB0247': WindowsPath('G:/Shared drives/Database/Webs/WB0247_SL359_Orion_production_run181107'),\n",
       " 'WB0246': WindowsPath('G:/Shared drives/Database/Webs/WB0246_SL355_EXP0082_1FF1'),\n",
       " 'WB0253': WindowsPath('G:/Shared drives/Database/Webs/WB0253_SL0361_OrionProductionRun'),\n",
       " 'WB0015': WindowsPath('G:/Shared drives/Database/Webs/WB0015_Custom_LG_008-Alig_5.5mAh-cm2'),\n",
       " 'WB0252': WindowsPath('G:/Shared drives/Database/Webs/WB0252_ProductionReadiness_testcoating'),\n",
       " 'WB0237': WindowsPath('G:/Shared drives/Database/Webs/WB0237_SL343_Adhes_reprod_new102A_differentCu_foil'),\n",
       " 'WB0241': WindowsPath('G:/Shared drives/Database/Webs/WB0241_SL355_EXP0082_0.8m_min'),\n",
       " 'WB0242': WindowsPath('G:/Shared drives/Database/Webs/WB0242_SL355_EXP0082_1m_min'),\n",
       " 'WB0245': WindowsPath('G:/Shared drives/Database/Webs/WB0245_SL355_EXP0082_1111'),\n",
       " 'WB0238': WindowsPath('G:/Shared drives/Database/Webs/WB0238_SL340_Adhes_reprod_new102A_withCB'),\n",
       " 'WB0239': WindowsPath('G:/Shared drives/Database/Webs/WB0239_SL338_ContiRunTrial_CommaCoater'),\n",
       " 'WB0233': WindowsPath('G:/Shared drives/Database/Webs/WB0233_SL340_102A_newBaseline'),\n",
       " 'WB0228': WindowsPath('G:/Shared drives/Database/Webs/WB0228_coatingBarTests'),\n",
       " 'WB0232': WindowsPath('G:/Shared drives/Database/Webs/WB0232_SL338_SL340_Adhesion_BM400B_102A'),\n",
       " 'WB0230': WindowsPath('G:/Shared drives/Database/Webs/WB0230_AdhesionTest_102A'),\n",
       " 'WB0220': WindowsPath('G:/Shared drives/Database/Webs/WB0220_SL0234_Testrun_Grepow_Anode_Improved_AGT'),\n",
       " 'WB0221': WindowsPath('G:/Shared drives/Database/Webs/WB0221_SL0236_Testrun_Grepow_Anode_Improved_AGT'),\n",
       " 'WB0222': WindowsPath('G:/Shared drives/Database/Webs/WB0222_SL0236_Testrun_Grepow_Anode_Improved_AGT'),\n",
       " 'WB0234': WindowsPath('G:/Shared drives/Database/Webs/WB0234_SL342_Adhes_reprod_old102A'),\n",
       " 'WB0240': WindowsPath('G:/Shared drives/Database/Webs/WB0240_SL355_EXP0082_1.2m_min'),\n",
       " 'WB0235': WindowsPath('G:/Shared drives/Database/Webs/WB0235_SL343_Adhes_reprod_new102A'),\n",
       " 'WB0231': WindowsPath('G:/Shared drives/Database/Webs/WB0231_SL238_newcoatingBar_setup'),\n",
       " 'WB3041': WindowsPath('G:/Shared drives/Database/Webs/WB3041_SKI_reference'),\n",
       " 'WB3045': WindowsPath('G:/Shared drives/Database/Webs/WB3045_SKI_GT1_reg'),\n",
       " 'WB3012': WindowsPath('G:/Shared drives/Database/Webs/WB3012_LGA2_process_dev'),\n",
       " 'WB0014': WindowsPath('G:/Shared drives/Database/Webs/WB0014_Custom_LG_006-Alig_3.6mAh-cm2'),\n",
       " 'WB0236': WindowsPath('G:/Shared drives/Database/Webs/WB0236_SL344_Adhes_reprod_new102A_lower_visc'),\n",
       " 'WB0243': WindowsPath('G:/Shared drives/Database/Webs/WB0243_SL355_EXP0082_'),\n",
       " 'WB3031': WindowsPath('G:/Shared drives/Database/Webs/WB3031_NV_reference_anode'),\n",
       " 'WB3032': WindowsPath('G:/Shared drives/Database/Webs/WB3032_NV_NV-G1_AGT'),\n",
       " 'WB3033': WindowsPath('G:/Shared drives/Database/Webs/WB3033_NV_NV-G1_regular'),\n",
       " 'WB9001': WindowsPath('G:/Shared drives/Database/Webs/WB9001_CodingTest'),\n",
       " 'WB3008': WindowsPath('G:/Shared drives/Database/Webs/WB3008_LG-A1_process_dev2'),\n",
       " 'WB3007': WindowsPath('G:/Shared drives/Database/Webs/WB3007_LG-A1_process_dev'),\n",
       " 'WB0248': WindowsPath('G:/Shared drives/Database/Webs/WB0248_SL359_Orion_production_test'),\n",
       " 'WB0251': WindowsPath('G:/Shared drives/Database/Webs/WB0251_18S46_Orion'),\n",
       " 'WB0261': WindowsPath('G:/Shared drives/Database/Webs/WB0261_RollPressTesting'),\n",
       " 'WB3044': WindowsPath('G:/Shared drives/Database/Webs/WB3044_SKI_GT1_AGT'),\n",
       " 'WB3043': WindowsPath('G:/Shared drives/Database/Webs/WB3043_SKI_SKI-G1_reg'),\n",
       " 'WB3042': WindowsPath('G:/Shared drives/Database/Webs/WB3042_SKI_SKI-G1_AGT'),\n",
       " 'WB0250': WindowsPath('G:/Shared drives/Database/Webs/WB0250_18S46_ProductionTest'),\n",
       " 'WB0217': WindowsPath('G:/Shared drives/Database/Webs/WB0217_SL0335_CAMX_Run3_anode_spherical'),\n",
       " 'WB0227': WindowsPath('G:/Shared drives/Database/Webs/WB0227_Mitsubishi_XXX'),\n",
       " 'WB0226': WindowsPath('G:/Shared drives/Database/Webs/WB0226_Mitsubishi_XXX'),\n",
       " 'WB0229': WindowsPath('G:/Shared drives/Database/Webs/WB0229_OrionRun1_T2'),\n",
       " 'WB0224': WindowsPath('G:/Shared drives/Database/Webs/WB0224_Mitsubishi_XXX'),\n",
       " 'WB0207': WindowsPath('G:/Shared drives/Database/Webs/WB0207_LG-Thermo_Sample3'),\n",
       " 'WB0211': WindowsPath('G:/Shared drives/Database/Webs/WB0211_LG-Thermo_Reference'),\n",
       " 'WB0202': WindowsPath('G:/Shared drives/Database/Webs/WB0202_Henkel_Sample2'),\n",
       " 'WB0214': WindowsPath('G:/Shared drives/Database/Webs/WB0214_BMW_Anode_Reference'),\n",
       " 'WB0212': WindowsPath('G:/Shared drives/Database/Webs/WB0212_grepow_Testcoating'),\n",
       " 'WB0219': WindowsPath('G:/Shared drives/Database/Webs/WB0219_See -------WB0174-------CAMX_Run2_cathode'),\n",
       " 'WB0199': WindowsPath('G:/Shared drives/Database/Webs/WB0199_Grepow_Anode_Standard'),\n",
       " 'WB0209': WindowsPath('G:/Shared drives/Database/Webs/WB0209_LG-Thermo_Sample5'),\n",
       " 'WB0225': WindowsPath('G:/Shared drives/Database/Webs/WB0225_Mitsubishi_GT1_AGT'),\n",
       " 'WB0218': WindowsPath('G:/Shared drives/Database/Webs/WB0218_CAMX_Run1_cathode'),\n",
       " 'WB0204': WindowsPath('G:/Shared drives/Database/Webs/WB0204_Henkel_Sample4'),\n",
       " 'WB0203': WindowsPath('G:/Shared drives/Database/Webs/WB0203_Henkel_Sample3'),\n",
       " 'WB0198': WindowsPath('G:/Shared drives/Database/Webs/WB0198_SL336_Grepow_Anode_Improved_AGT'),\n",
       " 'WB0200': WindowsPath('G:/Shared drives/Database/Webs/WB0200_Grepow_Cathode_Standard'),\n",
       " 'WB0205': WindowsPath('G:/Shared drives/Database/Webs/WB0205_LG-Thermo_Sample1'),\n",
       " 'WB0201': WindowsPath('G:/Shared drives/Database/Webs/WB0201_Henkel_Sample1'),\n",
       " 'WB0216': WindowsPath('G:/Shared drives/Database/Webs/WB0216_BMW_Anode_Standard'),\n",
       " 'WB0215': WindowsPath('G:/Shared drives/Database/Webs/WB0215_BMW_Anode_AGT'),\n",
       " 'WB0189': WindowsPath('G:/Shared drives/Database/Webs/WB0189_Grepow_LCO_Cathode'),\n",
       " 'WB0191': WindowsPath('G:/Shared drives/Database/Webs/WB0191_Grepow_AGT_Anode'),\n",
       " 'WB0223': WindowsPath('G:/Shared drives/Database/Webs/WB0223_Mitsubishi_GT1_regular'),\n",
       " 'WB0213': WindowsPath('G:/Shared drives/Database/Webs/WB0213_BMW_Cathode_NMC622'),\n",
       " 'WB0244': WindowsPath('G:/Shared drives/Database/Webs/WB0244_SL355_EXP0082_FFFF'),\n",
       " 'WB0208': WindowsPath('G:/Shared drives/Database/Webs/WB0208_LG-Thermo_Sample4'),\n",
       " 'WB0210': WindowsPath('G:/Shared drives/Database/Webs/WB0210_LG-Thermo_Sample6'),\n",
       " 'WB0206': WindowsPath('G:/Shared drives/Database/Webs/WB0206_LG-Thermo_Sample2'),\n",
       " 'WB0196': WindowsPath('G:/Shared drives/Database/Webs/WB0196_SL330_Adhes_batch_blowing10_80_dryer_1'),\n",
       " 'WB0195': WindowsPath('G:/Shared drives/Database/Webs/WB0195_SL330_Adhes_batch_nopredry_dryerF'),\n",
       " 'WB0181': WindowsPath('G:/Shared drives/Database/Webs/WB0181_SL_CL0057_GT-1_not-aligned'),\n",
       " 'WB0188': WindowsPath('G:/Shared drives/Database/Webs/WB0188_SL0326_Adhesion_SBR_prelayer'),\n",
       " 'WB0179': WindowsPath('G:/Shared drives/Database/Webs/WB0179_CL0056_NMC532'),\n",
       " 'WB0184': WindowsPath('G:/Shared drives/Database/Webs/WB0184_SL330_Adhes_batch_weak_predry_blowing4_dryerF'),\n",
       " 'WB0186': WindowsPath('G:/Shared drives/Database/Webs/WB0186_SL330_Adhes_batch_strong_drying_blowing10_120C_dryerF'),\n",
       " 'WB0197': WindowsPath('G:/Shared drives/Database/Webs/WB0197_SL330_Adhes_conti_blowing10_80C_dryer_optimized'),\n",
       " 'WB0187': WindowsPath('G:/Shared drives/Database/Webs/WB0187_SL326_LDS_wetlayer_calib'),\n",
       " 'WB0185': WindowsPath('G:/Shared drives/Database/Webs/WB0185_SL330_Adhes_batch_predry_blowing10_dryerF'),\n",
       " 'WB0182': WindowsPath('G:/Shared drives/Database/Webs/WB0182_Orion_CL1034_anode'),\n",
       " 'WB0183': WindowsPath('G:/Shared drives/Database/Webs/WB0183_Orion_CL1034_cathode'),\n",
       " 'WB0180': WindowsPath('G:/Shared drives/Database/Webs/WB0180_SL_CL0056_GT-1_aligned'),\n",
       " 'WB0176': WindowsPath('G:/Shared drives/Database/Webs/WB0176_SL0328_918_CalenderingImpedance'),\n",
       " 'WB0178': WindowsPath('G:/Shared drives/Database/Webs/WB0178_Orion_Anode'),\n",
       " 'WB0194': WindowsPath('G:/Shared drives/Database/Webs/WB0194_Lishen_LCO_Cathode'),\n",
       " 'WB0193': WindowsPath('G:/Shared drives/Database/Webs/WB0193_Lishen_AGT'),\n",
       " 'WB0190': WindowsPath('G:/Shared drives/Database/Webs/WB0190_Grepow_Graphite_Anode'),\n",
       " 'WB0173': WindowsPath('G:/Shared drives/Database/Webs/WB0173_SL0327_CAMX_Production_run'),\n",
       " 'WB0172': WindowsPath('G:/Shared drives/Database/Webs/WB0172_SL0326_CAMX_test_production_run'),\n",
       " 'WB0177': WindowsPath('G:/Shared drives/Database/Webs/WB0177_SL325_Nm_GT1_notAligned'),\n",
       " 'WB0175': WindowsPath('G:/Shared drives/Database/Webs/WB0175_SL0326_CAMX_Production_run_Nm_Test'),\n",
       " 'WB0171': WindowsPath('G:/Shared drives/Database/Webs/WB0171_EXP0073_NotalignedWebGT-1forCal.vs.Nm'),\n",
       " 'WB0192': WindowsPath('G:/Shared drives/Database/Webs/WB0192_Lishen_Standard'),\n",
       " 'WB0174': WindowsPath('G:/Shared drives/Database/Webs/WB0174_CAMX_Run2_Cathode'),\n",
       " 'WB0168': WindowsPath('G:/Shared drives/Database/Webs/WB0168_SL0319_Adhes_Study_Aligned_closed_dryer'),\n",
       " 'WB0163': WindowsPath('G:/Shared drives/Database/Webs/WB0163_SL0319_Adhes_Study_NotAligned_open_dryer'),\n",
       " 'WB0169': WindowsPath('G:/Shared drives/Database/Webs/WB0169_SL0319_Adhes_Study_NotAligned_closed_dryer'),\n",
       " 'WB0166': WindowsPath('G:/Shared drives/Database/Webs/WB0166_SL0324_Nm_LGA_0.8wt%_CRT2000PA7'),\n",
       " 'WB0164': WindowsPath('G:/Shared drives/Database/Webs/WB0164_unused'),\n",
       " 'WB0159': WindowsPath('G:/Shared drives/Database/Webs/WB0159_unused'),\n",
       " 'WB0165': WindowsPath('G:/Shared drives/Database/Webs/WB0165_Orion_Specifications'),\n",
       " 'WB0153': WindowsPath('G:/Shared drives/Database/Webs/WB0153_SL0309_Nm_LGA_Nm_104A'),\n",
       " 'WB0156': WindowsPath('G:/Shared drives/Database/Webs/WB0156_SL0312_Nm_LGA_Nm_BM400B'),\n",
       " 'WB0162': WindowsPath('G:/Shared drives/Database/Webs/WB0162_SL0319_Adhes_Study_Aligned_open_dryer'),\n",
       " 'WB0154': WindowsPath('G:/Shared drives/Database/Webs/WB0154_SL0310_Nm_LGA_Nm_2001'),\n",
       " 'WB0161': WindowsPath('G:/Shared drives/Database/Webs/WB0161_SL0322_Nm_LGA_1.5wt%_CRT2000PA7'),\n",
       " 'WB0160': WindowsPath('G:/Shared drives/Database/Webs/WB0160_SL0320_Nm_LGA_BM400B_4wt%'),\n",
       " 'WB0155': WindowsPath('G:/Shared drives/Database/Webs/WB0155_SL0311_Nm_LGA_Nm_LG_SBR'),\n",
       " 'WB0158': WindowsPath('G:/Shared drives/Database/Webs/WB0158_Orion_cathode'),\n",
       " 'WB0145': WindowsPath('G:/Shared drives/Database/Webs/WB0145_unused'),\n",
       " 'WB0144': WindowsPath('G:/Shared drives/Database/Webs/WB0144_SL315_Nm_LGA_CB_low_loading'),\n",
       " 'WB0139': WindowsPath('G:/Shared drives/Database/Webs/WB0139_SL0304_Nm_LG-A_15_um_foil'),\n",
       " 'WB0150': WindowsPath('G:/Shared drives/Database/Webs/WB0150_SL0314_Nm_LGA_Nm_higher_loading_notAligned'),\n",
       " 'WB0141': WindowsPath('G:/Shared drives/Database/Webs/WB0141_SL0307_Nm_LGA_lowloading'),\n",
       " 'WB0140': WindowsPath('G:/Shared drives/Database/Webs/WB0140_SL0305_Nm_LG-A+CB_15um_foil'),\n",
       " 'WB0152': WindowsPath('G:/Shared drives/Database/Webs/WB0152_SL0308_Nm_LGA_Nm_102A'),\n",
       " 'WB0142': WindowsPath('G:/Shared drives/Database/Webs/WB0142_SL0305_Nm_LGA+CB_low-loading'),\n",
       " 'WB0151': WindowsPath('G:/Shared drives/Database/Webs/WB0151_SL0317_Nm_LGA_Nm_98_1_1'),\n",
       " 'WB0143': WindowsPath('G:/Shared drives/Database/Webs/WB0143_SL314_Nm_LGA_low_loading'),\n",
       " 'WB0137': WindowsPath('G:/Shared drives/Database/Webs/WB0137_SL0304_Nm_LG-A_8_um_foil'),\n",
       " 'WB0138': WindowsPath('G:/Shared drives/Database/Webs/WB0138_SL0305_Nm_LG-A+CB_8um_foil'),\n",
       " 'WB0130': WindowsPath('G:/Shared drives/Database/Webs/WB0130_SL291_R_DC74_test'),\n",
       " 'WB0132': WindowsPath('G:/Shared drives/Database/Webs/WB00132_SL293_TR_Ref_test'),\n",
       " 'WB0149': WindowsPath('G:/Shared drives/Database/Webs/WB0149_SL0314_Nm_LGA_Nm_higher_loading'),\n",
       " 'WB0131': WindowsPath('G:/Shared drives/Database/Webs/WB0131_SL292_TR_A4C_test'),\n",
       " 'WB0146': WindowsPath('G:/Shared drives/Database/Webs/WB0146_unused'),\n",
       " 'WB0148': WindowsPath('G:/Shared drives/Database/Webs/WB0148_unused'),\n",
       " 'WB0122': WindowsPath('G:/Shared drives/Database/Webs/WB0122_14mg_2.5m_min_test_ext_coater'),\n",
       " 'WB0119': WindowsPath('G:/Shared drives/Database/Webs/WB0119_SL0280_Silicon'),\n",
       " 'WB0124': WindowsPath('G:/Shared drives/Database/Webs/WB0124_Ref_baseline_Coating'),\n",
       " 'WB0120': WindowsPath('G:/Shared drives/Database/Webs/WB0120_2ndBatch_VW_4mAh_Aligned'),\n",
       " 'WB0125': WindowsPath('G:/Shared drives/Database/Webs/WB0125_SL286_zero_level_testTR'),\n",
       " 'WB0147': WindowsPath('G:/Shared drives/Database/Webs/WB0147_unused'),\n",
       " 'WB0167': WindowsPath('G:/Shared drives/Database/Webs/WB0167_CAMX_Cam-7_uncompressed'),\n",
       " 'WB0105': WindowsPath('G:/Shared drives/Database/Webs/WB0105_LiFun_symmetric_coating_trial'),\n",
       " 'WB0109': WindowsPath('G:/Shared drives/Database/Webs/WB0109_LiFun_Preproduction_EvalKit_ReferenceSpherical'),\n",
       " 'WB0108': WindowsPath('G:/Shared drives/Database/Webs/WB0108_LifunPreproduction_180521'),\n",
       " 'WB0157': WindowsPath('G:/Shared drives/Database/Webs/WB0157_Orion_anode'),\n",
       " 'WB0111': WindowsPath('G:/Shared drives/Database/Webs/WB0111_Test8umFoil'),\n",
       " 'WB0110': WindowsPath('G:/Shared drives/Database/Webs/WB0110_VW_Custom_4mAh_cm2'),\n",
       " 'WB0106': WindowsPath('G:/Shared drives/Database/Webs/WB0106_LiFun_Production_EvalKit_ReferenceSpherical'),\n",
       " 'WB0099': WindowsPath('G:/Shared drives/Database/Webs/WB0099_Huawei_custom_made_NE'),\n",
       " 'WB0097': WindowsPath('G:/Shared drives/Database/Webs/WB0097_SL0264_CAMX_sample_DS'),\n",
       " 'WB0098': WindowsPath('G:/Shared drives/Database/Webs/WB0098_highEnergyLoadingTests'),\n",
       " 'WB0102': WindowsPath('G:/Shared drives/Database/Webs/WB0102_Staggered_coatingbar_tests'),\n",
       " 'WB0103': WindowsPath('G:/Shared drives/Database/Webs/WB0103_LiFun_preproduction'),\n",
       " 'WB0104': WindowsPath('G:/Shared drives/Database/Webs/WB0104_LiFun_preproduction2'),\n",
       " 'WB0112': WindowsPath('G:/Shared drives/Database/Webs/WB0112_VW_Custom_BalancedWithWB0054_aligned'),\n",
       " 'WB0107': WindowsPath('G:/Shared drives/Database/Webs/WB0107_VW_Custom_2mAh_cm2'),\n",
       " 'WB0088': WindowsPath('G:/Shared drives/Database/Webs/WB0088_Magnet_test(removing_magnet_pattern_trial)'),\n",
       " 'WB0094': WindowsPath('G:/Shared drives/Database/Webs/WB0094_CAMX_cal_heat_gun_study'),\n",
       " 'WB0091': WindowsPath('G:/Shared drives/Database/Webs/WB0091_15deg_everywhere_CAMX_sample'),\n",
       " 'WB0093': WindowsPath('G:/Shared drives/Database/Webs/WB0093_CAMX_CalSample_Trial2_(80deg_flat_foil)'),\n",
       " 'WB0090': WindowsPath('G:/Shared drives/Database/Webs/WB0090_CAMX_2ndCalenderSample_Magnet-tilt'),\n",
       " 'WB0096': WindowsPath('G:/Shared drives/Database/Webs/WB0096_CAMX_pre_trials_heatgun_study_Mesh'),\n",
       " 'WB0089': WindowsPath('G:/Shared drives/Database/Webs/WB0089_Magnet-tilt_Test'),\n",
       " 'WB0101': WindowsPath('G:/Shared drives/Database/Webs/WB0101_LiFun_Production_EvalKit_AlignedSLP30'),\n",
       " 'WB0117': WindowsPath('G:/Shared drives/Database/Webs/WB0117_VW_Custom_BalancedToWB110_unaligned'),\n",
       " 'WB0118': WindowsPath('G:/Shared drives/Database/Webs/WB0118_VW_Custom_BalancedToWB107_aligned_take2'),\n",
       " 'WB0095': WindowsPath('G:/Shared drives/Database/Webs/WB0095_CAMX_uniformity_coating_direction'),\n",
       " 'WB0100': WindowsPath('G:/Shared drives/Database/Webs/WB0100_Custom_Renault'),\n",
       " 'WB0170': WindowsPath('G:/Shared drives/Database/Webs/WB0170_LiFun_LCO_Pos_CL0051_52'),\n",
       " 'WB0083': WindowsPath('G:/Shared drives/Database/Webs/WB0083_CAMX_calender_sample'),\n",
       " 'WB0086': WindowsPath('G:/Shared drives/Database/Webs/WB0086_CAMX_DS25m_Production_run'),\n",
       " 'WB0082': WindowsPath('G:/Shared drives/Database/Webs/WB0082_CAMX_calender_sample_test'),\n",
       " 'WB0081': WindowsPath('G:/Shared drives/Database/Webs/WB0081_Uniformity_speed_tests'),\n",
       " 'WB0077': WindowsPath('G:/Shared drives/Database/Webs/WB0077_Coating_uniformityTest'),\n",
       " 'WB0080': WindowsPath('G:/Shared drives/Database/Webs/WB0080_Uniformity_tests'),\n",
       " 'WB0092': WindowsPath('G:/Shared drives/Database/Webs/WB0092_CAMX_CalSample_Trial2'),\n",
       " 'WB0079': WindowsPath('G:/Shared drives/Database/Webs/WB0079_CAMX_doublesided_for_caladeringTest2'),\n",
       " 'WB0084': WindowsPath('G:/Shared drives/Database/Webs/WB0084_CAMX_DS_25mProduction_run1'),\n",
       " 'WB0087': WindowsPath('G:/Shared drives/Database/Webs/WB0087_MagnetPattern_test(foil_touching_magnet)'),\n",
       " 'WB0085': WindowsPath('G:/Shared drives/Database/Webs/WB0085_CAMX_DS_25mProduction_run1'),\n",
       " 'WB0121': WindowsPath('G:/Shared drives/Database/Webs/WB0121_2ndBatch_VW_4mAh_Unaligned'),\n",
       " 'WB0116': WindowsPath('G:/Shared drives/Database/Webs/WB0116_VW_Custom_BalancedToWB110_aligned'),\n",
       " 'WB0115': WindowsPath('G:/Shared drives/Database/Webs/WB0115_VW_Custom_BalancedToWB107_unaligned'),\n",
       " 'WB0114': WindowsPath('G:/Shared drives/Database/Webs/WB0114_VW_Custom_BalancedToWB107_aligned_NOTSHIPPED'),\n",
       " 'WB0113': WindowsPath('G:/Shared drives/Database/Webs/WB0113_VW_Custom_BalancedWithWB0054_not_aligned'),\n",
       " 'WB3005': WindowsPath('G:/Shared drives/Database/Webs/WB3005_SL_LGRef_5.5'),\n",
       " 'WB3004': WindowsPath('G:/Shared drives/Database/Webs/WB3004_SL_LGN2'),\n",
       " 'WB3003': WindowsPath('G:/Shared drives/Database/Webs/WB3003_SL_LGN1'),\n",
       " 'WB3002': WindowsPath('G:/Shared drives/Database/Webs/WB3002_SL_LGA2'),\n",
       " 'WB3001': WindowsPath('G:/Shared drives/Database/Webs/WB3001_SL_LGA1'),\n",
       " 'WB0070': WindowsPath('G:/Shared drives/Database/Webs/WB0070_LG-A_Aligned_3.6mAhcm2'),\n",
       " 'WB0071': WindowsPath('G:/Shared drives/Database/Webs/WB0071_LG-A_Aligned_5.5mAhcm2'),\n",
       " 'WB0076': WindowsPath('G:/Shared drives/Database/Webs/WB0076_180322_2ndDUBCoatingTest'),\n",
       " 'WB0073': WindowsPath('G:/Shared drives/Database/Webs/WB0073_180322_DUB_CoatingTests'),\n",
       " 'WB0078': WindowsPath('G:/Shared drives/Database/Webs/WB0078_CAMX_doublesided_for_calanderingTest'),\n",
       " 'WB0075': WindowsPath('G:/Shared drives/Database/Webs/WB0075_Ref_test'),\n",
       " 'WB0069': WindowsPath('G:/Shared drives/Database/Webs/WB0069_180321_DUBcoatingforCAMX1'),\n",
       " 'WB0074': WindowsPath('G:/Shared drives/Database/Webs/WB0074_MB1000_test'),\n",
       " 'WB0072': WindowsPath('G:/Shared drives/Database/Webs/WB0072_CamX_CAM-7_Cathodes'),\n",
       " 'WB0067': WindowsPath('G:/Shared drives/Database/Webs/WB0067_DUB_SLP30_CoatingTests'),\n",
       " 'WB0064': WindowsPath('G:/Shared drives/Database/Webs/WB0064_CamX_918_Spherical_not_aligned_SingleSide'),\n",
       " 'WB0061': WindowsPath('G:/Shared drives/Database/Webs/WB0061_Hilti_SLP30_Aligned'),\n",
       " 'WB0063': WindowsPath('G:/Shared drives/Database/Webs/WB0063_CamX_SLP30_Aligned_SingleSide'),\n",
       " 'WB0062': WindowsPath('G:/Shared drives/Database/Webs/WB0062_Hilti_918_Spherical'),\n",
       " 'WB3011': WindowsPath('G:/Shared drives/Database/Webs/WB3011_SL0384_35mTest'),\n",
       " 'WB0065': WindowsPath('G:/Shared drives/Database/Webs/WB0065_first_inhouse_coating_notaligned'),\n",
       " 'WB0068': WindowsPath('G:/Shared drives/Database/Webs/WB0068_180314_DUBcoatingTests'),\n",
       " 'WB0066': WindowsPath('G:/Shared drives/Database/Webs/WB0066_first_inhouse_coating_aligned'),\n",
       " 'WB0060': WindowsPath('G:/Shared drives/Database/Webs/WB0060_Litarion_EC-155-01'),\n",
       " 'WB0052': WindowsPath('G:/Shared drives/Database/Webs/WB0052_SL231_0.1%DC71'),\n",
       " 'WB0051': WindowsPath('G:/Shared drives/Database/Webs/WB0051_SL230_no_defoamer'),\n",
       " 'WB0053': WindowsPath('G:/Shared drives/Database/Webs/WB0053_SL231_1%DC71'),\n",
       " 'WB0056': WindowsPath('G:/Shared drives/Database/Webs/WB0056_Litarion_Anode_Preproduction'),\n",
       " 'WB0054': WindowsPath('G:/Shared drives/Database/Webs/WB0054_Lifun_NMC532'),\n",
       " 'WB0059': WindowsPath('G:/Shared drives/Database/Webs/WB0059_Litarion_EA-167_Anode'),\n",
       " 'WB0058': WindowsPath('G:/Shared drives/Database/Webs/WB0058_Litarion_K94-06_Cathode_thin'),\n",
       " 'WB0057': WindowsPath('G:/Shared drives/Database/Webs/WB0057_Litarion_Cathode_Preproduction'),\n",
       " 'WB0055': WindowsPath('G:/Shared drives/Database/Webs/WB0055_Litarion_productionOneSided'),\n",
       " 'WB0050': WindowsPath('G:/Shared drives/Database/Webs/WB0050_SLP30_NotAligned_Balanced-for_WB0028'),\n",
       " 'WB0044': WindowsPath('G:/Shared drives/Database/Webs/WB0044_90deg_Refcoating'),\n",
       " 'WB0048': WindowsPath('G:/Shared drives/Database/Webs/WB0048_SK-Innovation_electrode_not_aligned_samples'),\n",
       " 'WB0047': WindowsPath('G:/Shared drives/Database/Webs/WB0047_SK-Innovation_electrode_aligned_samples'),\n",
       " 'WB0045': WindowsPath('G:/Shared drives/Database/Webs/WB0045_80deg_coating'),\n",
       " 'WB0042': WindowsPath('G:/Shared drives/Database/Webs/WB0042_unused'),\n",
       " 'WB0049': WindowsPath('G:/Shared drives/Database/Webs/WB0049_SLP30_Aligned_Balanced-for_WB0028'),\n",
       " 'WB0043': WindowsPath('G:/Shared drives/Database/Webs/WB0043_unused'),\n",
       " 'WB0040': WindowsPath('G:/Shared drives/Database/Webs/WB0040_Lishen_XXX_aligned'),\n",
       " 'WB0041': WindowsPath('G:/Shared drives/Database/Webs/WB0041_Lishen_XXX_not-aligned'),\n",
       " 'WB0046': WindowsPath('G:/Shared drives/Database/Webs/WB0046_NCA_Rochester_Power'),\n",
       " 'WB0038': WindowsPath('G:/Shared drives/Database/Webs/WB0038_Hilti_SLP30_Aligned'),\n",
       " 'WB0123': WindowsPath('G:/Shared drives/Database/Webs/WB0123_SL0272_CRT2000PA7coating'),\n",
       " 'WB0034': WindowsPath('G:/Shared drives/Database/Webs/WB0034_LG-N_Aligned_5.5cm2_171011_run5'),\n",
       " 'WB0039': WindowsPath('G:/Shared drives/Database/Webs/WB0039_NCA_Rochester_Energy'),\n",
       " 'WB0037': WindowsPath('G:/Shared drives/Database/Webs/WB0037_Lishen_918_not-aligned'),\n",
       " 'WB0035': WindowsPath('G:/Shared drives/Database/Webs/WB0035_LG-N_Aligned_5.5cm2_171011_run6'),\n",
       " 'WB0033': WindowsPath('G:/Shared drives/Database/Webs/WB0033_LG-N_Aligned_5.5cm2_171011_run4'),\n",
       " 'WB0032': WindowsPath('G:/Shared drives/Database/Webs/WB0032_LG-N_Aligned_5.5cm2_171011_run3'),\n",
       " 'WB0013': WindowsPath('G:/Shared drives/Database/Webs/WB0013_Lishen_170609_ElectrodeSamples'),\n",
       " 'WB0029': WindowsPath('G:/Shared drives/Database/Webs/WB0029_LiFun-NMC532_pos (DUPLICATE OF WB054)'),\n",
       " 'WB0012': WindowsPath('G:/Shared drives/Database/Webs/WB0012_Preenact_neg'),\n",
       " 'WB0020': WindowsPath('G:/Shared drives/Database/Webs/WB0020_LG-A_Aligned_3.6cm2'),\n",
       " 'WB0021': WindowsPath('G:/Shared drives/Database/Webs/WB0021_LG-A_Aligned_5.5cm2'),\n",
       " 'WB0022': WindowsPath('G:/Shared drives/Database/Webs/WB0022_Hilti_SLP30_aligned'),\n",
       " 'WB0023': WindowsPath('G:/Shared drives/Database/Webs/WB0023_Hilti_Spherical'),\n",
       " 'WB0024': WindowsPath('G:/Shared drives/Database/Webs/WB0024_Hilti_NCA'),\n",
       " 'WB0011': WindowsPath('G:/Shared drives/Database/Webs/WB0011_Preenact_pos'),\n",
       " 'WB0010': WindowsPath('G:/Shared drives/Database/Webs/WB0010_LIS360-A1'),\n",
       " 'WB0027': WindowsPath('G:/Shared drives/Database/Webs/WB0027_LG-NMC622-thin_pos'),\n",
       " 'WB0031': WindowsPath('G:/Shared drives/Database/Webs/WB0031_LG-N_Aligned_5.5cm2_171011_run2'),\n",
       " 'WB0036': WindowsPath('G:/Shared drives/Database/Webs/WB0036_LG-N_Aligned_5.5cm2_SentToLG'),\n",
       " 'WB0028': WindowsPath('G:/Shared drives/Database/Webs/WB0028_LG-NMC622-thick_pos'),\n",
       " 'WB0025': WindowsPath('G:/Shared drives/Database/Webs/WB0025_Litarion-Production_pos'),\n",
       " 'WB0030': WindowsPath('G:/Shared drives/Database/Webs/WB0030_LG-N_Aligned_5.5cm2_171011_run1'),\n",
       " 'WB0026': WindowsPath('G:/Shared drives/Database/Webs/WB0026_Litarion-Production_neg'),\n",
       " 'WB0264': WindowsPath('G:/Shared drives/Database/Webs/WB0264_DryMixingTest'),\n",
       " 'WB9002': WindowsPath('G:/Shared drives/Database/Webs/WB9002_CodingTest_MOs'),\n",
       " 'SL0394': WindowsPath('G:/Shared drives/Database/Slurries/SL0394_drymixingCMC_Graphite_slurry_Reproducibility'),\n",
       " 'SL0390': WindowsPath('G:/Shared drives/Database/Slurries/SL0390_CMC_solution_dry_powder'),\n",
       " 'SL0393': WindowsPath('G:/Shared drives/Database/Slurries/SL0393_drymixingCMC_Graphite_slurry'),\n",
       " 'SL0388': WindowsPath('G:/Shared drives/Database/Slurries/SL0388_CMC_time_experiment'),\n",
       " 'SL0384': WindowsPath('G:/Shared drives/Database/Slurries/SL0384_LGA1_Qualifier'),\n",
       " 'SL0386': WindowsPath('G:/Shared drives/Database/Slurries/SL0386_EvalCells_ProcessDevelopment'),\n",
       " 'SL0392': WindowsPath('G:/Shared drives/Database/Slurries/SL0392_CMC_solution_dry_CMC_Vac_dry_RT'),\n",
       " 'SL0389': WindowsPath('G:/Shared drives/Database/Slurries/SL0389_CMC_temp_experiment'),\n",
       " 'SL0382': WindowsPath('G:/Shared drives/Database/Slurries/SL0382_LGA1_withoutCB'),\n",
       " 'SL0381': WindowsPath('G:/Shared drives/Database/Slurries/SL0381_LGA1_ProcessDevelopment'),\n",
       " 'SL0383': WindowsPath('G:/Shared drives/Database/Slurries/SL0383_LGA1_baseline_LGBinder'),\n",
       " 'SL0385': WindowsPath('G:/Shared drives/Database/Slurries/SL0385_LGA1_Production'),\n",
       " 'SL0366': WindowsPath('G:/Shared drives/Database/Slurries/SL0366_additionalSlurryBMW'),\n",
       " 'SL0369': WindowsPath('G:/Shared drives/Database/Slurries/SL0369_LGN_Test'),\n",
       " 'SL0367': WindowsPath('G:/Shared drives/Database/Slurries/SL0367_BMW_productionSlurry_2_SL0362+SL0364+SL0366_combined'),\n",
       " 'SL0364': WindowsPath('G:/Shared drives/Database/Slurries/SL0364_BMW_small_batch_for_production2'),\n",
       " 'SL0368': WindowsPath('G:/Shared drives/Database/Slurries/SL0368_BMW_production_slurry'),\n",
       " 'SL0363': WindowsPath('G:/Shared drives/Database/Slurries/SL0363_largeBatchCMC2wt%_CRT2000PA7'),\n",
       " 'SL0376': WindowsPath('G:/Shared drives/Database/Slurries/SL0376_LGA1-qualifier'),\n",
       " 'SL0371': WindowsPath('G:/Shared drives/Database/Slurries/SL0371_PerfectedSodiumAlginate_RM0349_1wt%'),\n",
       " 'SL0377': WindowsPath('G:/Shared drives/Database/Slurries/SL0377_JSR_TRD102A_Ref_visc'),\n",
       " 'SL0374': WindowsPath('G:/Shared drives/Database/Slurries/SL0374_LGN_LGA_0.5_0.5_blend'),\n",
       " 'SL0373': WindowsPath('G:/Shared drives/Database/Slurries/SL0373_LGN_0.5_A4Cadded_DC74'),\n",
       " 'SL0375': WindowsPath('G:/Shared drives/Database/Slurries/SL0375_Large_CMC_Batch_2wt%'),\n",
       " 'SL0365': WindowsPath('G:/Shared drives/Database/Slurries/SL0365_BMW_productionSlurry_2_SL0362+SL0364_combined'),\n",
       " 'SL0358': WindowsPath('G:/Shared drives/Database/Slurries/SL0358_EXP0081_CMC_1wt%_1wt%_CB_M4'),\n",
       " 'SL0357': WindowsPath('G:/Shared drives/Database/Slurries/SL0357_EXP0081_CMC_1.5wt%_M3'),\n",
       " 'SL0360': WindowsPath('G:/Shared drives/Database/Slurries/SL0360_Orion_TestProductionSlurry'),\n",
       " 'SL0361': WindowsPath('G:/Shared drives/Database/Slurries/SL0361_ProductionSlurryOrion'),\n",
       " 'SL0354': WindowsPath('G:/Shared drives/Database/Slurries/SL0354_EXP0081_CMC_2wt%_SBR_2wt%_M5_notmade'),\n",
       " 'SL0356': WindowsPath('G:/Shared drives/Database/Slurries/SL0356_EXP0081_CMC_0.5wt%_M2'),\n",
       " 'SL0359': WindowsPath('G:/Shared drives/Database/Slurries/SL0359_Orion_TestProductionSlurry'),\n",
       " 'SL0362': WindowsPath('G:/Shared drives/Database/Slurries/SL0362_BMW_productionSlurry'),\n",
       " 'SL0355': WindowsPath('G:/Shared drives/Database/Slurries/SL0355_Adhesion_reprod_new102A_newBatch'),\n",
       " 'SL0370': WindowsPath('G:/Shared drives/Database/Slurries/SL0370_SodiumAlginate_RM0348_1wt%'),\n",
       " 'SL0350': WindowsPath('G:/Shared drives/Database/Slurries/SL0350_EXP0081_CMC_1.5wt%_M5D1'),\n",
       " 'SL0349': WindowsPath('G:/Shared drives/Database/Slurries/SL0349_EXP0081_M1'),\n",
       " 'SL0352': WindowsPath('G:/Shared drives/Database/Slurries/SL0352_EXP0081_CMC_0.5wt%_SBR_2wt%_M5D3'),\n",
       " 'SL0345': WindowsPath('G:/Shared drives/Database/Slurries/SL0345_EXP0081_M0'),\n",
       " 'SL0353': WindowsPath('G:/Shared drives/Database/Slurries/SL0353_EXP0081_CMC_1wt%_SBR_2wt%_1wt%CB_M6'),\n",
       " 'SL0347': WindowsPath('G:/Shared drives/Database/Slurries/SL0347_EXP0081_M1D1'),\n",
       " 'SL0346': WindowsPath('G:/Shared drives/Database/Slurries/SL0346_EXP0081_CMC_2wt%_M5_CRT2000PA7'),\n",
       " 'SL0348': WindowsPath('G:/Shared drives/Database/Slurries/SL0348_EXP0081_M1D2'),\n",
       " 'SL0351': WindowsPath('G:/Shared drives/Database/Slurries/SL0351_EXP0081_CMC_1wt%_M5D2'),\n",
       " 'SL0335': WindowsPath('G:/Shared drives/Database/Slurries/SL0335_918_for_CAMX_spherical'),\n",
       " 'SL0341': WindowsPath('G:/Shared drives/Database/Slurries/SL0341_CRT2000PA7_2wt%'),\n",
       " 'SL0340': WindowsPath('G:/Shared drives/Database/Slurries/SL0340_102A_made_fromSL0338_no_binder_adhesion_Test'),\n",
       " 'SL0339': WindowsPath('G:/Shared drives/Database/Slurries/SL0339_CRT2000PA7_2wt%_defects_Moisture'),\n",
       " 'SL0342': WindowsPath('G:/Shared drives/Database/Slurries/SL0342_Adhesion_reprod_old102A'),\n",
       " 'SL0337': WindowsPath('G:/Shared drives/Database/Slurries/SL0337_CRT2000PA7_2wt%'),\n",
       " 'SL0336': WindowsPath('G:/Shared drives/Database/Slurries/SL0336_Orion_production_slurry'),\n",
       " 'SL0343': WindowsPath('G:/Shared drives/Database/Slurries/SL0343_Adhesion_reprod_new102A'),\n",
       " 'SL0344': WindowsPath('G:/Shared drives/Database/Slurries/SL0344_Adhesion_reprod_new102A_lower-visc'),\n",
       " 'SL0338': WindowsPath('G:/Shared drives/Database/Slurries/SL0338_OrionRun1-T2'),\n",
       " 'SL0387': WindowsPath('G:/Shared drives/Database/Slurries/SL0387_LGA2_ProcessDevelopment'),\n",
       " 'SL0391': WindowsPath('G:/Shared drives/Database/Slurries/SL0391_RollPress_Test'),\n",
       " 'SL0380': WindowsPath('G:/Shared drives/Database/Slurries/SL0380_LGN1_production (WB3003)'),\n",
       " 'SL0379': WindowsPath('G:/Shared drives/Database/Slurries/SL0379_LGA2_production (WB3002)'),\n",
       " 'SL0378': WindowsPath('G:/Shared drives/Database/Slurries/SL0378_LGA1-production (WB3001)'),\n",
       " 'SL0395': WindowsPath('G:/Shared drives/Database/Slurries/SL0395_drymixingCMC_procdev'),\n",
       " 'SL0329': WindowsPath('G:/Shared drives/Database/Slurries/SL0329_LiFun_CL0056_CL0057'),\n",
       " 'SL0331': WindowsPath('G:/Shared drives/Database/Slurries/SL0331_Lifun_motherslurry'),\n",
       " 'SL0330': WindowsPath('G:/Shared drives/Database/Slurries/SL0330_diluted_SL0326'),\n",
       " 'SL0327': WindowsPath('G:/Shared drives/Database/Slurries/SL0327_CAMX_YF3-GT1_Production_Slurry_diluted'),\n",
       " 'SL0328': WindowsPath('G:/Shared drives/Database/Slurries/SL0328_Nm_918'),\n",
       " 'SL0326': WindowsPath('G:/Shared drives/Database/Slurries/SL0326_CAMX_YF3-GT1_Production_Slurry'),\n",
       " 'SL0332': WindowsPath('G:/Shared drives/Database/Slurries/SL0332_CRT2000PA7_2wt%'),\n",
       " 'SL0325': WindowsPath('G:/Shared drives/Database/Slurries/SL0325_CAMX_YF3-GT1_Production_Slurry (small+Large Batch)'),\n",
       " 'SL0333': WindowsPath('G:/Shared drives/Database/Slurries/SL0333_Orion_largeBatch'),\n",
       " 'SL0334': WindowsPath('G:/Shared drives/Database/Slurries/SL0334_Orion_test_slurry_for_production'),\n",
       " 'SL0187': WindowsPath('G:/Shared drives/Database/Slurries/SL0187_SLP30MC_M0262'),\n",
       " 'SL0189': WindowsPath('G:/Shared drives/Database/Slurries/SL0189_dilutedSL187'),\n",
       " 'SL0185': WindowsPath('G:/Shared drives/Database/Slurries/SL0185_SLP30_MC'),\n",
       " 'SL0188': WindowsPath('G:/Shared drives/Database/Slurries/SL0188_SLP30MC_M0512'),\n",
       " 'SL0192': WindowsPath('G:/Shared drives/Database/Slurries/SL0192_RefSlurry_for_80deg'),\n",
       " 'SL0186': WindowsPath('G:/Shared drives/Database/Slurries/SL0186_SLP30_Ref'),\n",
       " 'SL0191': WindowsPath('G:/Shared drives/Database/Slurries/SL0191_SL186+M0262'),\n",
       " 'SL0200': WindowsPath('G:/Shared drives/Database/Slurries/SL0200_Rochester_Energy NCA _coating'),\n",
       " 'SL0190': WindowsPath('G:/Shared drives/Database/Slurries/SL0190_SL186+DN400H'),\n",
       " 'SL0193': WindowsPath('G:/Shared drives/Database/Slurries/SL0193_MC_'),\n",
       " 'SL0196': WindowsPath('G:/Shared drives/Database/Slurries/SL0196-Daicel_127T-2wt%'),\n",
       " 'SL0194': WindowsPath('G:/Shared drives/Database/Slurries/SL0194_171221_HPMC_H7509'),\n",
       " 'SL0199': WindowsPath('G:/Shared drives/Database/Slurries/SL0199-BVH8-B-2wt%'),\n",
       " 'SL0202': WindowsPath('G:/Shared drives/Database/Slurries/SL0202-WalocelCRT30PA-2wt%'),\n",
       " 'SL0195': WindowsPath('G:/Shared drives/Database/Slurries/SL0195_171221'),\n",
       " 'SL0198': WindowsPath('G:/Shared drives/Database/Slurries/SL0198-CMCLi-VH9-2wt%'),\n",
       " 'SL0197': WindowsPath('G:/Shared drives/Database/Slurries/SL0197-Daicel_1160-2wt%'),\n",
       " 'SL0203': WindowsPath('G:/Shared drives/Database/Slurries/SL0203-WalocelCRT2000PA07-2wt%'),\n",
       " 'SL0209': WindowsPath('G:/Shared drives/Database/Slurries/SL0209_2200_1wt%Calib'),\n",
       " 'SL0206': WindowsPath('G:/Shared drives/Database/Slurries/SL0206_2200_2wt%'),\n",
       " 'SL0207': WindowsPath('G:/Shared drives/Database/Slurries/SL0207_127T_1wt%Calib'),\n",
       " 'SL0208': WindowsPath('G:/Shared drives/Database/Slurries/SL0208_DN400H_1wt%Calib'),\n",
       " 'SL0214': WindowsPath('G:/Shared drives/Database/Slurries/SL0214_BVH8_slurryCMCscreen'),\n",
       " 'SL0212': WindowsPath('G:/Shared drives/Database/Slurries/SL0212_1160_slurryCMCscreen'),\n",
       " 'SL0205': WindowsPath('G:/Shared drives/Database/Slurries/SL0205_DN400H_2wt%'),\n",
       " 'SL0211': WindowsPath('G:/Shared drives/Database/Slurries/SL0211_127T_slurryCMCscreen'),\n",
       " 'SL0213': WindowsPath('G:/Shared drives/Database/Slurries/SL0213_CMCLi_VH9_slurryCMCscreen'),\n",
       " 'SL0210': WindowsPath('G:/Shared drives/Database/Slurries/SL0210_DN400HLargeBatchSK_2wt%'),\n",
       " 'SL0171': WindowsPath('G:/Shared drives/Database/Slurries/SL0171_Preenact_SLP30'),\n",
       " 'SL0182': WindowsPath('G:/Shared drives/Database/Slurries/SL0182_Hilti_Spherical'),\n",
       " 'SL0180': WindowsPath('G:/Shared drives/Database/Slurries/SL0180-CMC1'),\n",
       " 'SL0170': WindowsPath('G:/Shared drives/Database/Slurries/SL0170_Preenact_NCA'),\n",
       " 'SL0181': WindowsPath('G:/Shared drives/Database/Slurries/SL0181_Hilti_SLP30'),\n",
       " 'SL0179': WindowsPath('G:/Shared drives/Database/Slurries/SL0179_Hilti_NCA'),\n",
       " 'SL0184': WindowsPath('G:/Shared drives/Database/Slurries/SL0184_SLP30_Hilti2'),\n",
       " 'SL0175': WindowsPath('G:/Shared drives/Database/Slurries/SL0175_LGN_MC'),\n",
       " 'SL0176': WindowsPath('G:/Shared drives/Database/Slurries/SL0176_LGN-MC'),\n",
       " 'SL0177': WindowsPath('G:/Shared drives/Database/Slurries/SL0177_LG-N_MC_0.8_0.5'),\n",
       " 'SL0174': WindowsPath('G:/Shared drives/Database/Slurries/SL174_SLP30_MC'),\n",
       " 'SL0183': WindowsPath('G:/Shared drives/Database/Slurries/SL0183_LG-N'),\n",
       " 'SL0218': WindowsPath('G:/Shared drives/Database/Slurries/SL0218_SK-Sample_production'),\n",
       " 'SL0217': WindowsPath('G:/Shared drives/Database/Slurries/SL0217_Daicel2200-slurryCMCscreen'),\n",
       " 'SL0223': WindowsPath('G:/Shared drives/Database/Slurries/SL0223_A4M_2wt'),\n",
       " 'SL0221': WindowsPath('G:/Shared drives/Database/Slurries/SL0221_CRT30PA_slurryCMCscreen'),\n",
       " 'SL0216': WindowsPath('G:/Shared drives/Database/Slurries/SL0216_DN400H-slurryCMCscreen'),\n",
       " 'SL0215': WindowsPath('G:/Shared drives/Database/Slurries/SL0215_Walocel_CRT2000PA7-slurryCMCscreen'),\n",
       " 'SL0227': WindowsPath('G:/Shared drives/Database/Slurries/SL0227_SGA7C_2wt'),\n",
       " 'SL0220': WindowsPath('G:/Shared drives/Database/Slurries/SL0220_CRT30PA-max_TSC-(not made)'),\n",
       " 'SL0222': WindowsPath('G:/Shared drives/Database/Slurries/SL0222_CRT2000PA_maxTSC'),\n",
       " 'SL0231': WindowsPath('G:/Shared drives/Database/Slurries/SL0231_A4C_DC71_low__CRT2000'),\n",
       " 'SL0224': WindowsPath('G:/Shared drives/Database/Slurries/SL0224_A15C_2wt'),\n",
       " 'SL0229': WindowsPath('G:/Shared drives/Database/Slurries/SL0229_WalocelCRT2000PA07-2wt%'),\n",
       " 'SL0230': WindowsPath('G:/Shared drives/Database/Slurries/SL0230_A4C_CRT2000'),\n",
       " 'SL0226': WindowsPath('G:/Shared drives/Database/Slurries/SL0226_A15LV_2wt'),\n",
       " 'SL0232': WindowsPath('G:/Shared drives/Database/Slurries/SL0232_A4C_DC71_high__CRT2000'),\n",
       " 'SL0237': WindowsPath('G:/Shared drives/Database/Slurries/SL0237_CRT2000PA7_largeBatch'),\n",
       " 'SL0228': WindowsPath('G:/Shared drives/Database/Slurries/SL0228-WalocelCRT2000PA07-2wt%'),\n",
       " 'SL0225': WindowsPath('G:/Shared drives/Database/Slurries/SL0225_A4C_2wt'),\n",
       " 'SL0236': WindowsPath('G:/Shared drives/Database/Slurries/SL0236_CRT2000PA7+8590_order_test'),\n",
       " 'SL0240': WindowsPath('G:/Shared drives/Database/Slurries/SL0240_Addition_BM400B_DC74_A4C'),\n",
       " 'SL0233': WindowsPath('G:/Shared drives/Database/Slurries/SL0233_A4C_DC71_0.1%'),\n",
       " 'SL0238': WindowsPath('G:/Shared drives/Database/Slurries/SL0238_dilSL237_DC74_1'),\n",
       " 'SL0234': WindowsPath('G:/Shared drives/Database/Slurries/SL0234_A4C_DC71_1%'),\n",
       " 'SL0279': WindowsPath('G:/Shared drives/Database/Slurries/SL0279_CMCsievingTest_DN400H'),\n",
       " 'SL0235': WindowsPath('G:/Shared drives/Database/Slurries/SL0235_CRT2000PA7_2wt%'),\n",
       " 'SL0239': WindowsPath('G:/Shared drives/Database/Slurries/SL0239_Addition_DC74_A4C_BM400B'),\n",
       " 'SL0204': WindowsPath('G:/Shared drives/Database/Slurries/SL0204_VGCF_Tests'),\n",
       " 'SL0201': WindowsPath('G:/Shared drives/Database/Slurries/SL0201_Rochester_Power_NCA _coating'),\n",
       " 'SL0219': WindowsPath('G:/Shared drives/Database/Slurries/SL0219_CathodeStudySlurries'),\n",
       " 'SL0248': WindowsPath('G:/Shared drives/Database/Slurries/SL0248_LGN-TSC'),\n",
       " 'SL0241': WindowsPath('G:/Shared drives/Database/Slurries/SL0241_Hilti_SLP30_Aligned'),\n",
       " 'SL0242': WindowsPath('G:/Shared drives/Database/Slurries/SL0242_Hilti_BTR918_Spherical'),\n",
       " 'SL0244': WindowsPath('G:/Shared drives/Database/Slurries/SL0244_Testbenchslurry'),\n",
       " 'SL0246': WindowsPath('G:/Shared drives/Database/Slurries/SL0246_CAMX-SLP30_single_side'),\n",
       " 'SL0243': WindowsPath('G:/Shared drives/Database/Slurries/SL0243_LGN_BM400B_A4C+DC71_not made'),\n",
       " 'SL0249': WindowsPath('G:/Shared drives/Database/Slurries/SL0249_large2wtCMCbatch_CAMX'),\n",
       " 'SL0247': WindowsPath('G:/Shared drives/Database/Slurries/SL0247_CAMX-918_single_side'),\n",
       " 'SL0245': WindowsPath('G:/Shared drives/Database/Slurries/SL0245_largeA4Cbatch'),\n",
       " 'SL0266': WindowsPath('G:/Shared drives/Database/Slurries/SL0266_LiFun_small'),\n",
       " 'SL0267': WindowsPath('G:/Shared drives/Database/Slurries/SL0267_LiFun_large'),\n",
       " 'SL0265': WindowsPath('G:/Shared drives/Database/Slurries/SL0265_CMC_for_SL268'),\n",
       " 'SL0268': WindowsPath('G:/Shared drives/Database/Slurries/SL0268_LiFun_combined'),\n",
       " 'SL0255': WindowsPath('G:/Shared drives/Database/Slurries/SL0255_CAMX-batch1'),\n",
       " 'SL0251': WindowsPath('G:/Shared drives/Database/Slurries/SL0251_largeBatchCAMX(SL250diluted)'),\n",
       " 'SL0252': WindowsPath('G:/Shared drives/Database/Slurries/SL0252_large_batch_forSL254'),\n",
       " 'SL0254': WindowsPath('G:/Shared drives/Database/Slurries/SL0254_CAMX_large_Batch25m_SL252+SL253'),\n",
       " 'SL0250': WindowsPath('G:/Shared drives/Database/Slurries/SL0250_largeBatch_CAMX'),\n",
       " 'SL0258': WindowsPath('G:/Shared drives/Database/Slurries/SL0258_largeCMCBatchfor SL257'),\n",
       " 'SL0257': WindowsPath('G:/Shared drives/Database/Slurries/SL0257_CAMX-batch1+batch2'),\n",
       " 'SL0259': WindowsPath('G:/Shared drives/Database/Slurries/SL0259_CAMX_large_batch_for_25m_production'),\n",
       " 'SL0256': WindowsPath('G:/Shared drives/Database/Slurries/SL0256_CAMX-batch2'),\n",
       " 'SL0253': WindowsPath('G:/Shared drives/Database/Slurries/SL0253_small_batch_forSL254'),\n",
       " 'SL0262': WindowsPath('G:/Shared drives/Database/Slurries/SL0262_CAMX_large_batch_for_25m_production'),\n",
       " 'SL0269': WindowsPath('G:/Shared drives/Database/Slurries/SL0269_LiFun_spherical_small'),\n",
       " 'SL0261': WindowsPath('G:/Shared drives/Database/Slurries/SL0261_CAMX_combined_batch_for_25m_production'),\n",
       " 'SL0263': WindowsPath('G:/Shared drives/Database/Slurries/SL0263_CAMX_small_batch_for_25m_production'),\n",
       " 'SL0260': WindowsPath('G:/Shared drives/Database/Slurries/SL0260_CAMX_small_batch_for_25m_production'),\n",
       " 'SL0264': WindowsPath('G:/Shared drives/Database/Slurries/SL0264_CAMX_combined_batch_for_25m_production'),\n",
       " 'SL0276': WindowsPath('G:/Shared drives/Database/Slurries/SL0276_VW_combined'),\n",
       " ...}"
      ]
     },
     "execution_count": 62,
     "metadata": {},
     "output_type": "execute_result"
    }
   ],
   "source": [
    "bdb.entity_paths"
   ]
  },
  {
   "cell_type": "code",
   "execution_count": null,
   "metadata": {},
   "outputs": [],
   "source": []
  },
  {
   "cell_type": "code",
   "execution_count": 49,
   "metadata": {},
   "outputs": [
    {
     "name": "stderr",
     "output_type": "stream",
     "text": [
      "INFO:barely_db:Entities found: 0\n"
     ]
    }
   ],
   "source": [
    "bdb = BarelyDB(Path('../..'), path_depth=1)\n",
    "bdb.load_entities()"
   ]
  },
  {
   "cell_type": "code",
   "execution_count": 8,
   "metadata": {},
   "outputs": [],
   "source": [
    "bdb.entities;"
   ]
  },
  {
   "cell_type": "code",
   "execution_count": 445,
   "metadata": {},
   "outputs": [
    {
     "data": {
      "text/plain": [
       "WindowsPath('G:/My Drive/Battrion_AG/DATABASE/Slurries/SL0201_Rochester_Power_NCA _coating')"
      ]
     },
     "execution_count": 445,
     "metadata": {},
     "output_type": "execute_result"
    }
   ],
   "source": [
    "bdb.get_entity_path('SL00201')"
   ]
  },
  {
   "cell_type": "code",
   "execution_count": 446,
   "metadata": {},
   "outputs": [
    {
     "data": {
      "text/plain": [
       "['G:\\\\My Drive\\\\Battrion_AG\\\\DATABASE\\\\Slurries\\\\SL0201_Rochester_Power_NCA _coating\\\\RunSheet_Slurry_SL0200_CHA_rev001.xlsx',\n",
       " 'G:\\\\My Drive\\\\Battrion_AG\\\\DATABASE\\\\Slurries\\\\SL0201_Rochester_Power_NCA _coating\\\\~$RunSheet_Slurry_SL0179_CHA_rev003.xlsx']"
      ]
     },
     "execution_count": 446,
     "metadata": {},
     "output_type": "execute_result"
    }
   ],
   "source": [
    "bdb.get_entity_files('SL00201', '*')"
   ]
  },
  {
   "cell_type": "code",
   "execution_count": 447,
   "metadata": {},
   "outputs": [
    {
     "name": "stderr",
     "output_type": "stream",
     "text": [
      "WARNING:barely_db:No valid buid found in SL00201\n"
     ]
    },
    {
     "data": {
      "text/plain": [
       "['G:\\\\My Drive\\\\Battrion_AG\\\\DATABASE\\\\Slurries\\\\SL0201_Rochester_Power_NCA _coating\\\\RunSheet_Slurry_SL0200_CHA_rev001.xlsx',\n",
       " 'G:\\\\My Drive\\\\Battrion_AG\\\\DATABASE\\\\Slurries\\\\SL0201_Rochester_Power_NCA _coating\\\\~$RunSheet_Slurry_SL0179_CHA_rev003.xlsx']"
      ]
     },
     "execution_count": 447,
     "metadata": {},
     "output_type": "execute_result"
    }
   ],
   "source": [
    "ent = BarelyDBEntity('SL00201', bdb)\n",
    "ent.get_entity_files('*')"
   ]
  },
  {
   "cell_type": "code",
   "execution_count": 47,
   "metadata": {},
   "outputs": [],
   "source": [
    "buid_p = BUIDParser(ignore_unknown=False, mode = 'first', warn_empty = False)"
   ]
  },
  {
   "cell_type": "code",
   "execution_count": 48,
   "metadata": {},
   "outputs": [
    {
     "data": {
      "text/plain": [
       "'WB2039'"
      ]
     },
     "execution_count": 48,
     "metadata": {},
     "output_type": "execute_result"
    }
   ],
   "source": [
    "buid_p.parse('WB2039')"
   ]
  },
  {
   "cell_type": "code",
   "execution_count": null,
   "metadata": {},
   "outputs": [],
   "source": []
  },
  {
   "cell_type": "markdown",
   "metadata": {
    "heading_collapsed": true
   },
   "source": [
    "## Components"
   ]
  },
  {
   "cell_type": "code",
   "execution_count": 368,
   "metadata": {
    "hidden": true
   },
   "outputs": [
    {
     "name": "stdout",
     "output_type": "stream",
     "text": [
      "WB0215\n",
      "Q21\n"
     ]
    },
    {
     "data": {
      "text/plain": [
       "['G:\\\\My Drive\\\\Battrion_AG\\\\DATABASE\\\\Webs\\\\WB0215_BMW_Anode_AGT\\\\SnR_Elec_revT006_WB0215_rev009.docx']"
      ]
     },
     "execution_count": 368,
     "metadata": {},
     "output_type": "execute_result"
    }
   ],
   "source": [
    "# Components are not entities\n",
    "ent = BarelyDBEntity('WB0215-Q21', bdb)\n",
    "print(ent.buid)\n",
    "print(ent.component)\n",
    "ent.get_entity_files('*SnR*')"
   ]
  },
  {
   "cell_type": "code",
   "execution_count": 369,
   "metadata": {
    "hidden": true
   },
   "outputs": [
    {
     "data": {
      "text/plain": [
       "\"BarelyDBEntity('WB0215-Q21')\""
      ]
     },
     "execution_count": 369,
     "metadata": {},
     "output_type": "execute_result"
    }
   ],
   "source": [
    "repr(ent)"
   ]
  },
  {
   "cell_type": "code",
   "execution_count": 370,
   "metadata": {
    "hidden": true
   },
   "outputs": [
    {
     "name": "stderr",
     "output_type": "stream",
     "text": [
      "INFO:barely_db:Components for WB0215 found: 4\n"
     ]
    },
    {
     "data": {
      "text/plain": [
       "['entity_path',\n",
       " 'component_paths',\n",
       " 'components',\n",
       " 'WB0215_Loading_CW_T14.property.json',\n",
       " 'WB0215_Loading_T14_5gap.property.json',\n",
       " 'WB0215_Loading_CW_T99-after-cleaning.property.json',\n",
       " 'WB0215_Loading_5gap_T99.property.json']"
      ]
     },
     "execution_count": 370,
     "metadata": {},
     "output_type": "execute_result"
    }
   ],
   "source": [
    "props = ent.get_entity_properties()\n",
    "list(props.keys())"
   ]
  },
  {
   "cell_type": "code",
   "execution_count": 371,
   "metadata": {
    "hidden": true
   },
   "outputs": [
    {
     "data": {
      "text/plain": [
       "{'Q21': WindowsPath('G:/My Drive/Battrion_AG/DATABASE/Webs/WB0215_BMW_Anode_AGT/-Q21'),\n",
       " 'Q22': WindowsPath('G:/My Drive/Battrion_AG/DATABASE/Webs/WB0215_BMW_Anode_AGT/-Q22'),\n",
       " 'T99': WindowsPath('G:/My Drive/Battrion_AG/DATABASE/Webs/WB0215_BMW_Anode_AGT/-T99_not_existent'),\n",
       " 'T98': WindowsPath('G:/My Drive/Battrion_AG/DATABASE/Webs/WB0215_BMW_Anode_AGT/-T98')}"
      ]
     },
     "execution_count": 371,
     "metadata": {},
     "output_type": "execute_result"
    }
   ],
   "source": [
    "aa = props['component_paths']\n",
    "aa"
   ]
  },
  {
   "cell_type": "code",
   "execution_count": 372,
   "metadata": {
    "hidden": true
   },
   "outputs": [
    {
     "data": {
      "text/plain": [
       "{'Q21': WindowsPath('G:/My Drive/Battrion_AG/DATABASE/Webs/WB0215_BMW_Anode_AGT/-Q21'),\n",
       " 'Q22': WindowsPath('G:/My Drive/Battrion_AG/DATABASE/Webs/WB0215_BMW_Anode_AGT/-Q22'),\n",
       " 'T99': WindowsPath('G:/My Drive/Battrion_AG/DATABASE/Webs/WB0215_BMW_Anode_AGT/-T99_not_existent'),\n",
       " 'T98': WindowsPath('G:/My Drive/Battrion_AG/DATABASE/Webs/WB0215_BMW_Anode_AGT/-T98')}"
      ]
     },
     "execution_count": 372,
     "metadata": {},
     "output_type": "execute_result"
    }
   ],
   "source": [
    "ent.get_component_paths()"
   ]
  },
  {
   "cell_type": "code",
   "execution_count": 373,
   "metadata": {
    "hidden": true
   },
   "outputs": [
    {
     "name": "stderr",
     "output_type": "stream",
     "text": [
      "WARNING:barely_db:Component path already exists! G:\\My Drive\\Battrion_AG\\DATABASE\\Webs\\WB0215_BMW_Anode_AGT\\-T99_not_existent\n"
     ]
    }
   ],
   "source": [
    "ent.create_component_path('T99', 'not_existent')"
   ]
  },
  {
   "cell_type": "code",
   "execution_count": 374,
   "metadata": {
    "hidden": true
   },
   "outputs": [
    {
     "name": "stderr",
     "output_type": "stream",
     "text": [
      "WARNING:barely_db:Component path already exists! G:\\My Drive\\Battrion_AG\\DATABASE\\Webs\\WB0215_BMW_Anode_AGT\\-T98\n"
     ]
    }
   ],
   "source": [
    "ent.create_component_path('T98')"
   ]
  },
  {
   "cell_type": "code",
   "execution_count": 375,
   "metadata": {
    "hidden": true
   },
   "outputs": [
    {
     "data": {
      "text/plain": [
       "{'Q21': WindowsPath('G:/My Drive/Battrion_AG/DATABASE/Webs/WB0215_BMW_Anode_AGT/-Q21'),\n",
       " 'Q22': WindowsPath('G:/My Drive/Battrion_AG/DATABASE/Webs/WB0215_BMW_Anode_AGT/-Q22'),\n",
       " 'T99': WindowsPath('G:/My Drive/Battrion_AG/DATABASE/Webs/WB0215_BMW_Anode_AGT/-T99_not_existent'),\n",
       " 'T98': WindowsPath('G:/My Drive/Battrion_AG/DATABASE/Webs/WB0215_BMW_Anode_AGT/-T98')}"
      ]
     },
     "execution_count": 375,
     "metadata": {},
     "output_type": "execute_result"
    }
   ],
   "source": [
    "ent.get_component_paths()"
   ]
  },
  {
   "cell_type": "code",
   "execution_count": 376,
   "metadata": {
    "hidden": true
   },
   "outputs": [
    {
     "data": {
      "text/plain": [
       "WindowsPath('G:/My Drive/Battrion_AG/DATABASE/Webs/WB0215_BMW_Anode_AGT/-T99_not_existent')"
      ]
     },
     "execution_count": 376,
     "metadata": {},
     "output_type": "execute_result"
    }
   ],
   "source": [
    "ent.get_component_path('T99')"
   ]
  },
  {
   "cell_type": "code",
   "execution_count": 377,
   "metadata": {
    "hidden": true
   },
   "outputs": [
    {
     "data": {
      "text/plain": [
       "WindowsPath('G:/My Drive/Battrion_AG/DATABASE/Webs/WB0215_BMW_Anode_AGT')"
      ]
     },
     "execution_count": 377,
     "metadata": {},
     "output_type": "execute_result"
    }
   ],
   "source": [
    "pp = ent.get_entity_path()\n",
    "pp"
   ]
  },
  {
   "cell_type": "code",
   "execution_count": 378,
   "metadata": {
    "hidden": true
   },
   "outputs": [],
   "source": [
    "component_path = pp.joinpath('-Q22')\n",
    "component_path.mkdir(parents=False, exist_ok=True)"
   ]
  },
  {
   "cell_type": "markdown",
   "metadata": {},
   "source": [
    "## FileManager"
   ]
  },
  {
   "cell_type": "code",
   "execution_count": 448,
   "metadata": {},
   "outputs": [
    {
     "name": "stdout",
     "output_type": "stream",
     "text": [
      "WB0215\n",
      "Q21\n"
     ]
    }
   ],
   "source": [
    "# Components are not entities\n",
    "ent = BarelyDBEntity('WB0215-Q21', bdb)\n",
    "print(ent.buid)\n",
    "print(ent.component)"
   ]
  },
  {
   "cell_type": "code",
   "execution_count": 449,
   "metadata": {},
   "outputs": [
    {
     "data": {
      "text/plain": [
       "'Q21'"
      ]
     },
     "execution_count": 449,
     "metadata": {},
     "output_type": "execute_result"
    }
   ],
   "source": [
    "ent.component"
   ]
  },
  {
   "cell_type": "code",
   "execution_count": 450,
   "metadata": {},
   "outputs": [
    {
     "name": "stderr",
     "output_type": "stream",
     "text": [
      "INFO:barely_db:Components for WB0215 found: 4\n"
     ]
    },
    {
     "data": {
      "text/plain": [
       "[WindowsPath('G:/My Drive/Battrion_AG/DATABASE/Webs/WB0215_BMW_Anode_AGT/-Q21')]"
      ]
     },
     "execution_count": 450,
     "metadata": {},
     "output_type": "execute_result"
    }
   ],
   "source": [
    "fm = ent.make_file_manager('Q21')\n",
    "fm.raw_path"
   ]
  },
  {
   "cell_type": "code",
   "execution_count": 451,
   "metadata": {},
   "outputs": [
    {
     "name": "stderr",
     "output_type": "stream",
     "text": [
      "WARNING:barely_db:No valid buid found in WB0215\n"
     ]
    },
    {
     "data": {
      "text/plain": [
       "[WindowsPath('G:/My Drive/Battrion_AG/DATABASE/Webs/WB0215_BMW_Anode_AGT')]"
      ]
     },
     "execution_count": 451,
     "metadata": {},
     "output_type": "execute_result"
    }
   ],
   "source": [
    "fm = BarelyDBEntity('WB0215', bdb).make_file_manager()\n",
    "fm.raw_path"
   ]
  },
  {
   "cell_type": "code",
   "execution_count": 456,
   "metadata": {},
   "outputs": [
    {
     "data": {
      "text/plain": [
       "[WindowsPath('G:/My Drive/Battrion_AG/DATABASE/Webs/WB0215_BMW_Anode_AGT/-Q21')]"
      ]
     },
     "execution_count": 456,
     "metadata": {},
     "output_type": "execute_result"
    }
   ],
   "source": [
    "fm = BarelyDBEntity('WB0215-Q21', bdb).make_file_manager()\n",
    "fm.raw_path"
   ]
  },
  {
   "cell_type": "code",
   "execution_count": 457,
   "metadata": {},
   "outputs": [
    {
     "data": {
      "text/plain": [
       "WindowsPath('G:/My Drive/Battrion_AG/DATABASE/Webs/WB0215_BMW_Anode_AGT/-Q21/export')"
      ]
     },
     "execution_count": 457,
     "metadata": {},
     "output_type": "execute_result"
    }
   ],
   "source": [
    "fm = BarelyDBEntity('WB0215-Q21', bdb).make_file_manager(export_path='./export')\n",
    "fm.export_path"
   ]
  },
  {
   "cell_type": "markdown",
   "metadata": {},
   "source": [
    "## DO NOT USE - Properties"
   ]
  },
  {
   "cell_type": "code",
   "execution_count": 54,
   "metadata": {},
   "outputs": [
    {
     "name": "stderr",
     "output_type": "stream",
     "text": [
      "WARNING:barely_db:Property file has no buid specification SL338_recipe_INVALID.property.json!\n",
      "WARNING:barely_db:Property file has no source specification SL338_recipe_INVALID.property.json!\n",
      "WARNING:barely_db:Multiple sources for w_cb in entity SL0338, even after filtering with preferred_property_files! Please, remove entries from preferred_property_files to lift this ambiguity! Found sources follow below:\n",
      "WARNING:barely_db:{\n",
      "    \"w_cb\": 0.0,\n",
      "    \"property_file\": \"SL338_recipe.property.json\",\n",
      "    \"source\": \"manual from 181009_SL0338_Batches_combined_dilution.xlsx\"\n",
      "}\n",
      "WARNING:barely_db:{\n",
      "    \"w_cb\": 0.0,\n",
      "    \"property_file\": \"SL338_recipe_INVALID.property.json\",\n",
      "    \"source\": \"Unknown source!\"\n",
      "}\n"
     ]
    }
   ],
   "source": [
    "# ambiguity can occur!\n",
    "bdb.clear_preferred_files()\n",
    "bdb.query_property('SL338', 'w_cb')"
   ]
  },
  {
   "cell_type": "code",
   "execution_count": 142,
   "metadata": {},
   "outputs": [
    {
     "data": {
      "text/plain": [
       "SourcedItem(name='w_cb', value=0.0, property_file='SL338_recipe.property.json', source='manual from 181009_SL0338_Batches_combined_dilution.xlsx')"
      ]
     },
     "execution_count": 142,
     "metadata": {},
     "output_type": "execute_result"
    }
   ],
   "source": [
    "# ambiguity can be relieved by specifying preferred files!\n",
    "bdb.add_preferred_file(\"SL338_recipe.property.json\")\n",
    "bdb.query_property('SL338', 'w_cb')"
   ]
  },
  {
   "cell_type": "code",
   "execution_count": 143,
   "metadata": {},
   "outputs": [],
   "source": [
    "props = bdb.get_entity_properties('SL338')"
   ]
  },
  {
   "cell_type": "code",
   "execution_count": 144,
   "metadata": {},
   "outputs": [
    {
     "name": "stderr",
     "output_type": "stream",
     "text": [
      "WARNING:barely_db:Property file has no buid specification SL338_recipe_INVALID.property.json!\n",
      "WARNING:barely_db:Property file has no source specification SL338_recipe_INVALID.property.json!\n"
     ]
    }
   ],
   "source": [
    "props = bdb.get_entity_properties('SL338', reload=True)"
   ]
  },
  {
   "cell_type": "code",
   "execution_count": 145,
   "metadata": {},
   "outputs": [],
   "source": [
    "import objectpath # http://objectpath.org/reference.html"
   ]
  },
  {
   "cell_type": "code",
   "execution_count": 146,
   "metadata": {},
   "outputs": [
    {
     "name": "stderr",
     "output_type": "stream",
     "text": [
      "WARNING:barely_db:Property file has no buid specification SL338_recipe_INVALID.property.json!\n",
      "WARNING:barely_db:Property file has no source specification SL338_recipe_INVALID.property.json!\n"
     ]
    },
    {
     "data": {
      "text/plain": [
       "['SL338_Viscosity.txt.property.json',\n",
       " 'SL338_recipe.property.json',\n",
       " 'SL338_recipe_INVALID.property.json']"
      ]
     },
     "execution_count": 146,
     "metadata": {},
     "output_type": "execute_result"
    }
   ],
   "source": [
    "bdb.reload_entity_properties()\n",
    "tree = bdb.get_entity_tree('SL338')\n",
    "list(tree.execute(\"$..*.property_file\"))"
   ]
  },
  {
   "cell_type": "code",
   "execution_count": 147,
   "metadata": {},
   "outputs": [
    {
     "name": "stderr",
     "output_type": "stream",
     "text": [
      "WARNING:barely_db:No value for lala in entity SL0338!\n"
     ]
    }
   ],
   "source": [
    "bdb.query_property('SL338', 'lala')"
   ]
  },
  {
   "cell_type": "code",
   "execution_count": 148,
   "metadata": {},
   "outputs": [
    {
     "data": {
      "text/plain": [
       "SourcedItem(name='w_g', value=93.0, property_file='SL338_recipe.property.json', source='manual from 181009_SL0338_Batches_combined_dilution.xlsx')"
      ]
     },
     "execution_count": 148,
     "metadata": {},
     "output_type": "execute_result"
    }
   ],
   "source": [
    "bdb.query_property('SL338', 'w_g')"
   ]
  },
  {
   "cell_type": "code",
   "execution_count": 149,
   "metadata": {},
   "outputs": [
    {
     "name": "stderr",
     "output_type": "stream",
     "text": [
      "WARNING:barely_db:Multiple sources for w_cb in entity SL0338, even after filtering with preferred_property_files! Please, remove entries from preferred_property_files to lift this ambiguity! Found sources follow below:\n",
      "WARNING:barely_db:{\n",
      "    \"w_cb\": 0.0,\n",
      "    \"property_file\": \"SL338_recipe.property.json\",\n",
      "    \"source\": \"manual from 181009_SL0338_Batches_combined_dilution.xlsx\"\n",
      "}\n",
      "WARNING:barely_db:{\n",
      "    \"w_cb\": 0.0,\n",
      "    \"property_file\": \"SL338_recipe_INVALID.property.json\",\n",
      "    \"source\": \"Unknown source!\"\n",
      "}\n"
     ]
    }
   ],
   "source": [
    "# ambiguity can occur!\n",
    "bdb.clear_preferred_files()\n",
    "bdb.query_property('SL338', 'w_cb')"
   ]
  },
  {
   "cell_type": "code",
   "execution_count": 150,
   "metadata": {},
   "outputs": [
    {
     "data": {
      "text/plain": [
       "SourcedItem(name='w_cb', value=0.0, property_file='SL338_recipe.property.json', source='manual from 181009_SL0338_Batches_combined_dilution.xlsx')"
      ]
     },
     "execution_count": 150,
     "metadata": {},
     "output_type": "execute_result"
    }
   ],
   "source": [
    "# ambiguity can be relieved by specifying preferred files!\n",
    "bdb.add_preferred_file(\"SL338_recipe.property.json\")\n",
    "bdb.query_property('SL338', 'w_cb')"
   ]
  },
  {
   "cell_type": "code",
   "execution_count": 151,
   "metadata": {},
   "outputs": [
    {
     "name": "stderr",
     "output_type": "stream",
     "text": [
      "WARNING:barely_db:No value for tsc in entity SL0338!\n"
     ]
    }
   ],
   "source": [
    "# ambiguity can be relieved by specifying source information!\n",
    "bdb.query_property('SL338', 'tsc', source='dilution')"
   ]
  },
  {
   "cell_type": "code",
   "execution_count": 152,
   "metadata": {},
   "outputs": [
    {
     "name": "stderr",
     "output_type": "stream",
     "text": [
      "WARNING:barely_db:No value for tsc in entity SL0338!\n"
     ]
    },
    {
     "data": {
      "text/plain": [
       "[None,\n",
       " SourcedItem(name='w_g', value=93.0, property_file='SL338_recipe.property.json', source='manual from 181009_SL0338_Batches_combined_dilution.xlsx'),\n",
       " SourcedItem(name='w_cb', value=0.0, property_file='SL338_recipe.property.json', source='manual from 181009_SL0338_Batches_combined_dilution.xlsx')]"
      ]
     },
     "execution_count": 152,
     "metadata": {},
     "output_type": "execute_result"
    }
   ],
   "source": [
    "props = [\\\n",
    "         dict(prop='tsc', source='dilution'),\n",
    "         'w_g', \n",
    "         dict(prop='w_cb', source='manual'),\n",
    "        ]\n",
    "\n",
    "bdb.query_properties('SL338', props)"
   ]
  },
  {
   "cell_type": "code",
   "execution_count": 153,
   "metadata": {},
   "outputs": [
    {
     "data": {
      "text/plain": [
       "[SourcedItem(name='tsc', value=49.27, property_file='SL338_Viscosity.txt.property.json', source='G:\\\\My Drive\\\\Battrion_AG\\\\DATABASE\\\\Slurries\\\\SL0338_OrionRun1-T2\\\\SL338_Viscosity.txt'),\n",
       " SourcedItem(name='w_g', value=93.0, property_file='SL338_recipe.property.json', source='manual from 181009_SL0338_Batches_combined_dilution.xlsx'),\n",
       " SourcedItem(name='w_cb', value=0.0, property_file='SL338_recipe.property.json', source='manual from 181009_SL0338_Batches_combined_dilution.xlsx')]"
      ]
     },
     "execution_count": 153,
     "metadata": {},
     "output_type": "execute_result"
    }
   ],
   "source": [
    "props = ['tsc', 'w_g', 'w_cb']\n",
    "\n",
    "bdb.query_properties('SL338', props)"
   ]
  },
  {
   "cell_type": "markdown",
   "metadata": {},
   "source": [
    "# BUID parsing"
   ]
  },
  {
   "cell_type": "code",
   "execution_count": null,
   "metadata": {},
   "outputs": [],
   "source": []
  },
  {
   "cell_type": "markdown",
   "metadata": {
    "collapsed": true
   },
   "source": [
    "# Testing"
   ]
  },
  {
   "cell_type": "code",
   "execution_count": 154,
   "metadata": {},
   "outputs": [
    {
     "data": {
      "text/plain": [
       "{'entity_path': WindowsPath('G:/My Drive/Battrion_AG/DATABASE/Slurries/SL0361_ProductionSlurryOrion'),\n",
       " 'SL361_recipe.property.json': {'buid': 'SL361',\n",
       "  'source': 'manual from 181120_SL0361_Batches_combined_dilution.xlsx',\n",
       "  'manufacturing_date': '181120',\n",
       "  'w_g': 0.96,\n",
       "  'type_g': 'GT1',\n",
       "  'w_cb': 0.01,\n",
       "  'type_cb': 'Super C65',\n",
       "  'w_cmc': 0.01,\n",
       "  'type_cmc': 'CRT2000PA7',\n",
       "  'w_sbr': 0.02,\n",
       "  'type_sbr': 'BM-400B',\n",
       "  'tsc': 49.48,\n",
       "  'property_file': 'SL361_recipe.property.json'},\n",
       " 'SL361_Viscosity.txt.property.json': {'buid': 'SL361',\n",
       "  'create_time': 1542821655.98015,\n",
       "  'source': 'G:\\\\My Drive\\\\Battrion_AG\\\\DATABASE\\\\Slurries\\\\SL0361_ProductionSlurryOrion\\\\SL361_Viscosity.txt',\n",
       "  'tsc': 49.48,\n",
       "  'temperatur_average': 24.7125,\n",
       "  'temperatur_delta': 0.10000000000000142,\n",
       "  'viscosity_data': {'rpm': [0.1,\n",
       "    0.25,\n",
       "    0.5,\n",
       "    0.75,\n",
       "    1.0,\n",
       "    2.0,\n",
       "    4.0,\n",
       "    6.0,\n",
       "    8.0,\n",
       "    10.0,\n",
       "    15.0,\n",
       "    20.0,\n",
       "    40.0,\n",
       "    60.0,\n",
       "    80.0,\n",
       "    100.0],\n",
       "   'viscosity': [8000.0,\n",
       "    5600.0,\n",
       "    4400.0,\n",
       "    4267.0,\n",
       "    3800.0,\n",
       "    3300.0,\n",
       "    2850.0,\n",
       "    2650.0,\n",
       "    2537.0,\n",
       "    2450.0,\n",
       "    2313.0,\n",
       "    2230.0,\n",
       "    2082.0,\n",
       "    nan,\n",
       "    nan,\n",
       "    nan],\n",
       "   'temperature': [24.7,\n",
       "    24.7,\n",
       "    24.7,\n",
       "    24.7,\n",
       "    24.7,\n",
       "    24.7,\n",
       "    24.8,\n",
       "    24.7,\n",
       "    24.7,\n",
       "    24.7,\n",
       "    24.7,\n",
       "    24.8,\n",
       "    24.7,\n",
       "    24.7,\n",
       "    24.7,\n",
       "    24.7]},\n",
       "  'property_file': 'SL361_Viscosity.txt.property.json'}}"
      ]
     },
     "execution_count": 154,
     "metadata": {},
     "output_type": "execute_result"
    }
   ],
   "source": [
    "bdb.get_entity_properties('SL361')"
   ]
  },
  {
   "cell_type": "code",
   "execution_count": 115,
   "metadata": {},
   "outputs": [
    {
     "data": {
      "text/plain": [
       "{'entity_path': WindowsPath('G:/My Drive/Battrion_AG/DATABASE/Webs/WB0198_SL336_Grepow_Anode_Improved_AGT')}"
      ]
     },
     "execution_count": 115,
     "metadata": {},
     "output_type": "execute_result"
    }
   ],
   "source": [
    "bdb.get_entity_properties('WB198')"
   ]
  },
  {
   "cell_type": "code",
   "execution_count": 116,
   "metadata": {},
   "outputs": [
    {
     "data": {
      "text/plain": [
       "{'entity_path': WindowsPath('G:/My Drive/Battrion_AG/DATABASE/Webs/WB0253_OrionProductionRun')}"
      ]
     },
     "execution_count": 116,
     "metadata": {},
     "output_type": "execute_result"
    }
   ],
   "source": [
    "bdb.get_entity_properties('WB253')"
   ]
  },
  {
   "cell_type": "code",
   "execution_count": 117,
   "metadata": {},
   "outputs": [
    {
     "data": {
      "text/plain": [
       "['G:\\\\My Drive\\\\Battrion_AG\\\\DATABASE\\\\Webs\\\\WB0253_OrionProductionRun\\\\SnR_Elec_revT006_WB0253_rev002.docx',\n",
       " 'G:\\\\My Drive\\\\Battrion_AG\\\\DATABASE\\\\Webs\\\\WB0253_OrionProductionRun\\\\old',\n",
       " 'G:\\\\My Drive\\\\Battrion_AG\\\\DATABASE\\\\Webs\\\\WB0253_OrionProductionRun\\\\desktop.ini']"
      ]
     },
     "execution_count": 117,
     "metadata": {},
     "output_type": "execute_result"
    }
   ],
   "source": [
    "fns = bdb.entity_files('WB253','*')\n",
    "fns"
   ]
  },
  {
   "cell_type": "code",
   "execution_count": 118,
   "metadata": {},
   "outputs": [
    {
     "data": {
      "text/plain": [
       "'G:/My Drive/Battrion_AG/DATABASE/Webs/WB0253_OrionProductionRun/SnR_Elec_revT006_WB0253_rev002.docx'"
      ]
     },
     "execution_count": 118,
     "metadata": {},
     "output_type": "execute_result"
    }
   ],
   "source": [
    "fns[0].replace('\\\\','/')"
   ]
  },
  {
   "cell_type": "code",
   "execution_count": 119,
   "metadata": {},
   "outputs": [
    {
     "data": {
      "text/plain": [
       "['G:\\\\My Drive\\\\Battrion_AG\\\\DATABASE\\\\Cells\\\\CL2050_OrionGrepow_Run1_WB0198_Impedance\\\\SnR_Draft_CL2050.txt',\n",
       " 'G:\\\\My Drive\\\\Battrion_AG\\\\DATABASE\\\\Cells\\\\CL2050_OrionGrepow_Run1_WB0198_Impedance\\\\desktop.ini']"
      ]
     },
     "execution_count": 119,
     "metadata": {},
     "output_type": "execute_result"
    }
   ],
   "source": [
    "fns = bdb.entity_files('CL2050','*')\n",
    "fns"
   ]
  },
  {
   "cell_type": "code",
   "execution_count": 120,
   "metadata": {},
   "outputs": [
    {
     "data": {
      "text/plain": [
       "{'entity_path': WindowsPath('G:/My Drive/Battrion_AG/DATABASE/RawMaterials/RM0288_JiangxiZichenTechnology_YF3-GT-1_(LG-A)')}"
      ]
     },
     "execution_count": 120,
     "metadata": {},
     "output_type": "execute_result"
    }
   ],
   "source": [
    "bdb.get_entity_properties('RM288')"
   ]
  },
  {
   "cell_type": "code",
   "execution_count": null,
   "metadata": {},
   "outputs": [],
   "source": []
  }
 ],
 "metadata": {
  "kernelspec": {
   "display_name": "Python 3",
   "language": "python",
   "name": "python3"
  },
  "language_info": {
   "codemirror_mode": {
    "name": "ipython",
    "version": 3
   },
   "file_extension": ".py",
   "mimetype": "text/x-python",
   "name": "python",
   "nbconvert_exporter": "python",
   "pygments_lexer": "ipython3",
   "version": "3.6.2"
  },
  "toc": {
   "colors": {
    "hover_highlight": "#DAA520",
    "navigate_num": "#000000",
    "navigate_text": "#333333",
    "running_highlight": "#FF0000",
    "selected_highlight": "#FFD700",
    "sidebar_border": "#EEEEEE",
    "wrapper_background": "#FFFFFF"
   },
   "moveMenuLeft": true,
   "nav_menu": {
    "height": "102px",
    "width": "252px"
   },
   "navigate_menu": true,
   "number_sections": true,
   "sideBar": true,
   "threshold": 4,
   "toc_cell": false,
   "toc_section_display": "block",
   "toc_window_display": false,
   "widenNotebook": false
  }
 },
 "nbformat": 4,
 "nbformat_minor": 2
}
