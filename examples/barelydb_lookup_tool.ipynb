{
 "cells": [
  {
   "cell_type": "markdown",
   "metadata": {},
   "source": [
    "# Import modules"
   ]
  },
  {
   "cell_type": "code",
   "execution_count": 1,
   "metadata": {},
   "outputs": [],
   "source": [
    "# Import extensions\n",
    "import sys \n",
    "import numpy as np\n",
    "import matplotlib.pyplot as plt\n",
    "%matplotlib inline\n",
    "from pathlib import Path\n",
    "from IPython.display import FileLink, FileLinks\n",
    "# FileLinks('.') #lists all downloadable files on server"
   ]
  },
  {
   "cell_type": "code",
   "execution_count": 2,
   "metadata": {},
   "outputs": [],
   "source": [
    "# sys.path.append('.')\n",
    "import barely_db\n",
    "barely_db._reload_module()\n",
    "from barely_db import *\n",
    "# test_BUID()"
   ]
  },
  {
   "cell_type": "code",
   "execution_count": 3,
   "metadata": {},
   "outputs": [],
   "source": [
    "import logging\n",
    "logging.basicConfig(level=logging.DEBUG)"
   ]
  },
  {
   "cell_type": "markdown",
   "metadata": {},
   "source": [
    "## BarelyDB Basic lookup"
   ]
  },
  {
   "cell_type": "code",
   "execution_count": 4,
   "metadata": {},
   "outputs": [],
   "source": [
    "# bdb = BarelyDB(Path('../..'))\n",
    "# bdb.load_entities()"
   ]
  },
  {
   "cell_type": "code",
   "execution_count": 5,
   "metadata": {},
   "outputs": [
    {
     "name": "stderr",
     "output_type": "stream",
     "text": [
      "INFO:barely_db:Entities found: 1091\n"
     ]
    }
   ],
   "source": [
    "bdb = BarelyDB(Path('../..'), path_depth=1)\n",
    "bdb.load_entities()"
   ]
  },
  {
   "cell_type": "code",
   "execution_count": 6,
   "metadata": {},
   "outputs": [],
   "source": [
    "bdb.entities;"
   ]
  },
  {
   "cell_type": "code",
   "execution_count": 7,
   "metadata": {},
   "outputs": [
    {
     "name": "stderr",
     "output_type": "stream",
     "text": [
      "INFO:barely_db:Components for RM0237 found: 0\n"
     ]
    },
    {
     "name": "stdout",
     "output_type": "stream",
     "text": [
      "{'entity_path': WindowsPath('G:/My Drive/Battrion_AG/DATABASE/RawMaterials/RM0237_CRT2000PA7_20kg'), 'component_paths': {}, 'components': [], 'buid': 'RM0237'}\n"
     ]
    }
   ],
   "source": [
    "entities = ['RM0237']\n",
    "\n",
    "for e in entities:\n",
    "    prop = bdb.get_entity_properties(e)\n",
    "    prop['buid'] = e\n",
    "    print(prop)"
   ]
  },
  {
   "cell_type": "code",
   "execution_count": 10,
   "metadata": {
    "scrolled": true
   },
   "outputs": [
    {
     "name": "stderr",
     "output_type": "stream",
     "text": [
      "INFO:barely_db:Components for WB3001 found: 0\n",
      "INFO:barely_db:Components for WB3007 found: 2\n"
     ]
    },
    {
     "name": "stdout",
     "output_type": "stream",
     "text": [
      "{'entity_path': WindowsPath('G:/My Drive/Battrion_AG/DATABASE/Webs/WB3001_SL'), 'component_paths': {}, 'components': [], 'buid': 'WB3001'}\n",
      "{'entity_path': WindowsPath('G:/My Drive/Battrion_AG/DATABASE/Webs/WB3007_LG-A1_process_dev'), 'component_paths': {'T1': WindowsPath('G:/My Drive/Battrion_AG/DATABASE/Webs/WB3007_LG-A1_process_dev/-T1_first_test'), 'T4': WindowsPath('G:/My Drive/Battrion_AG/DATABASE/Webs/WB3007_LG-A1_process_dev/-T4_prequal_2sided')}, 'components': ['T1', 'T4'], 'buid': 'WB3007'}\n"
     ]
    }
   ],
   "source": [
    "entities = ['WB3001', 'WB3007']\n",
    "\n",
    "for e in entities:\n",
    "    prop = bdb.get_entity_properties(e)\n",
    "    prop['buid'] = e\n",
    "    print(prop)"
   ]
  },
  {
   "cell_type": "code",
   "execution_count": null,
   "metadata": {},
   "outputs": [],
   "source": [
    "entities = ['RM0237', 'RM0204', 'RM0116', 'RM0285', 'RM0188', 'RM0255']"
   ]
  },
  {
   "cell_type": "markdown",
   "metadata": {
    "heading_collapsed": true
   },
   "source": [
    "## Properties"
   ]
  },
  {
   "cell_type": "code",
   "execution_count": 14,
   "metadata": {
    "hidden": true
   },
   "outputs": [
    {
     "name": "stderr",
     "output_type": "stream",
     "text": [
      "INFO:barely_db:Components for SL0338 found: 0\n",
      "WARNING:barely_db:Property file has no buid specification SL338_recipe_INVALID.property.json!\n"
     ]
    },
    {
     "ename": "RuntimeError",
     "evalue": "Error in property file G:\\My Drive\\Battrion_AG\\DATABASE\\Slurries\\SL0338_OrionRun1-T2\\SL338_recipe_INVALID.property.json",
     "output_type": "error",
     "traceback": [
      "\u001b[1;31m---------------------------------------------------------------------------\u001b[0m",
      "\u001b[1;31mNameError\u001b[0m                                 Traceback (most recent call last)",
      "\u001b[1;32mG:\\My Drive\\Battrion_AG\\DATABASE\\__code\\barely-db\\barely_db\\__init__.py\u001b[0m in \u001b[0;36mload_entity_properties\u001b[1;34m(self, buid)\u001b[0m\n\u001b[0;32m    503\u001b[0m                         \u001b[0mself\u001b[0m\u001b[1;33m.\u001b[0m\u001b[0mlogger\u001b[0m\u001b[1;33m.\u001b[0m\u001b[0mwarn\u001b[0m\u001b[1;33m(\u001b[0m\u001b[1;34mf'Property file has no buid specification {fn.name}!'\u001b[0m\u001b[1;33m)\u001b[0m\u001b[1;33m\u001b[0m\u001b[0m\n\u001b[1;32m--> 504\u001b[1;33m                         \u001b[0mnew_property_data\u001b[0m\u001b[1;33m[\u001b[0m\u001b[1;34m'buid'\u001b[0m\u001b[1;33m]\u001b[0m \u001b[1;33m=\u001b[0m \u001b[0mBUID\u001b[0m\u001b[1;33m.\u001b[0m\u001b[0mINVALID\u001b[0m\u001b[1;33m\u001b[0m\u001b[0m\n\u001b[0m\u001b[0;32m    505\u001b[0m \u001b[1;33m\u001b[0m\u001b[0m\n",
      "\u001b[1;31mNameError\u001b[0m: name 'BUID' is not defined",
      "\nDuring handling of the above exception, another exception occurred:\n",
      "\u001b[1;31mRuntimeError\u001b[0m                              Traceback (most recent call last)",
      "\u001b[1;32m<ipython-input-14-546900c83248>\u001b[0m in \u001b[0;36m<module>\u001b[1;34m()\u001b[0m\n\u001b[0;32m      1\u001b[0m \u001b[1;31m# ambiguity can occur!\u001b[0m\u001b[1;33m\u001b[0m\u001b[1;33m\u001b[0m\u001b[0m\n\u001b[0;32m      2\u001b[0m \u001b[0mbdb\u001b[0m\u001b[1;33m.\u001b[0m\u001b[0mclear_preferred_files\u001b[0m\u001b[1;33m(\u001b[0m\u001b[1;33m)\u001b[0m\u001b[1;33m\u001b[0m\u001b[0m\n\u001b[1;32m----> 3\u001b[1;33m \u001b[0mbdb\u001b[0m\u001b[1;33m.\u001b[0m\u001b[0mquery_property\u001b[0m\u001b[1;33m(\u001b[0m\u001b[1;34m'SL338'\u001b[0m\u001b[1;33m,\u001b[0m \u001b[1;34m'w_cb'\u001b[0m\u001b[1;33m)\u001b[0m\u001b[1;33m\u001b[0m\u001b[0m\n\u001b[0m",
      "\u001b[1;32mG:\\My Drive\\Battrion_AG\\DATABASE\\__code\\barely-db\\barely_db\\__init__.py\u001b[0m in \u001b[0;36mquery_property\u001b[1;34m(self, buid, prop, property_file, source, warn_empty)\u001b[0m\n\u001b[0;32m    547\u001b[0m         \u001b[0msource\u001b[0m \u001b[1;33m=\u001b[0m \u001b[0mstr\u001b[0m\u001b[1;33m(\u001b[0m\u001b[0msource\u001b[0m\u001b[1;33m)\u001b[0m\u001b[1;33m\u001b[0m\u001b[0m\n\u001b[0;32m    548\u001b[0m \u001b[1;33m\u001b[0m\u001b[0m\n\u001b[1;32m--> 549\u001b[1;33m         \u001b[0mtree\u001b[0m \u001b[1;33m=\u001b[0m \u001b[0mself\u001b[0m\u001b[1;33m.\u001b[0m\u001b[0mget_entity_tree\u001b[0m\u001b[1;33m(\u001b[0m\u001b[0mbuid\u001b[0m\u001b[1;33m)\u001b[0m\u001b[1;33m\u001b[0m\u001b[0m\n\u001b[0m\u001b[0;32m    550\u001b[0m \u001b[1;33m\u001b[0m\u001b[0m\n\u001b[0;32m    551\u001b[0m         \u001b[1;31m# query =  f'$..*[(\"{property_file}\" in @.property_file)]'\u001b[0m\u001b[1;33m\u001b[0m\u001b[1;33m\u001b[0m\u001b[0m\n",
      "\u001b[1;32mG:\\My Drive\\Battrion_AG\\DATABASE\\__code\\barely-db\\barely_db\\__init__.py\u001b[0m in \u001b[0;36mget_entity_tree\u001b[1;34m(self, buid)\u001b[0m\n\u001b[0;32m    531\u001b[0m     \u001b[1;32mdef\u001b[0m \u001b[0mget_entity_tree\u001b[0m\u001b[1;33m(\u001b[0m\u001b[0mself\u001b[0m\u001b[1;33m,\u001b[0m \u001b[0mbuid\u001b[0m\u001b[1;33m)\u001b[0m\u001b[1;33m:\u001b[0m\u001b[1;33m\u001b[0m\u001b[0m\n\u001b[0;32m    532\u001b[0m         \u001b[0mbuid\u001b[0m \u001b[1;33m=\u001b[0m \u001b[0mself\u001b[0m\u001b[1;33m.\u001b[0m\u001b[0mbuid_normalizer\u001b[0m\u001b[1;33m(\u001b[0m\u001b[0mbuid\u001b[0m\u001b[1;33m)\u001b[0m\u001b[1;33m\u001b[0m\u001b[0m\n\u001b[1;32m--> 533\u001b[1;33m         \u001b[0mtree\u001b[0m \u001b[1;33m=\u001b[0m \u001b[0mobjectpath\u001b[0m\u001b[1;33m.\u001b[0m\u001b[0mTree\u001b[0m\u001b[1;33m(\u001b[0m\u001b[0mself\u001b[0m\u001b[1;33m.\u001b[0m\u001b[0mget_entity_properties\u001b[0m\u001b[1;33m(\u001b[0m\u001b[0mbuid\u001b[0m\u001b[1;33m)\u001b[0m\u001b[1;33m)\u001b[0m\u001b[1;33m\u001b[0m\u001b[0m\n\u001b[0m\u001b[0;32m    534\u001b[0m         \u001b[1;32mreturn\u001b[0m \u001b[0mtree\u001b[0m\u001b[1;33m\u001b[0m\u001b[0m\n\u001b[0;32m    535\u001b[0m \u001b[1;33m\u001b[0m\u001b[0m\n",
      "\u001b[1;32mG:\\My Drive\\Battrion_AG\\DATABASE\\__code\\barely-db\\barely_db\\__init__.py\u001b[0m in \u001b[0;36mget_entity_properties\u001b[1;34m(self, buid, reload)\u001b[0m\n\u001b[0;32m    525\u001b[0m \u001b[1;33m\u001b[0m\u001b[0m\n\u001b[0;32m    526\u001b[0m         \u001b[1;32mif\u001b[0m \u001b[1;33m(\u001b[0m\u001b[0mbuid\u001b[0m \u001b[1;32mnot\u001b[0m \u001b[1;32min\u001b[0m \u001b[0mself\u001b[0m\u001b[1;33m.\u001b[0m\u001b[0mentity_properties\u001b[0m\u001b[1;33m)\u001b[0m \u001b[1;32mor\u001b[0m \u001b[0mreload\u001b[0m\u001b[1;33m:\u001b[0m\u001b[1;33m\u001b[0m\u001b[0m\n\u001b[1;32m--> 527\u001b[1;33m             \u001b[0mself\u001b[0m\u001b[1;33m.\u001b[0m\u001b[0mload_entity_properties\u001b[0m\u001b[1;33m(\u001b[0m\u001b[0mbuid\u001b[0m\u001b[1;33m)\u001b[0m\u001b[1;33m\u001b[0m\u001b[0m\n\u001b[0m\u001b[0;32m    528\u001b[0m \u001b[1;33m\u001b[0m\u001b[0m\n\u001b[0;32m    529\u001b[0m         \u001b[1;32mreturn\u001b[0m \u001b[0mself\u001b[0m\u001b[1;33m.\u001b[0m\u001b[0mentity_properties\u001b[0m\u001b[1;33m[\u001b[0m\u001b[0mbuid\u001b[0m\u001b[1;33m]\u001b[0m\u001b[1;33m\u001b[0m\u001b[0m\n",
      "\u001b[1;32mG:\\My Drive\\Battrion_AG\\DATABASE\\__code\\barely-db\\barely_db\\__init__.py\u001b[0m in \u001b[0;36mload_entity_properties\u001b[1;34m(self, buid)\u001b[0m\n\u001b[0;32m    511\u001b[0m \u001b[1;33m\u001b[0m\u001b[0m\n\u001b[0;32m    512\u001b[0m             \u001b[1;32mexcept\u001b[0m\u001b[1;33m:\u001b[0m\u001b[1;33m\u001b[0m\u001b[0m\n\u001b[1;32m--> 513\u001b[1;33m                 \u001b[1;32mraise\u001b[0m \u001b[0mRuntimeError\u001b[0m\u001b[1;33m(\u001b[0m\u001b[1;34mf'Error in property file {str(fn)}'\u001b[0m\u001b[1;33m)\u001b[0m\u001b[1;33m\u001b[0m\u001b[0m\n\u001b[0m\u001b[0;32m    514\u001b[0m \u001b[1;33m\u001b[0m\u001b[0m\n\u001b[0;32m    515\u001b[0m         \u001b[0mself\u001b[0m\u001b[1;33m.\u001b[0m\u001b[0mentity_properties\u001b[0m\u001b[1;33m[\u001b[0m\u001b[0mbuid\u001b[0m\u001b[1;33m]\u001b[0m \u001b[1;33m=\u001b[0m \u001b[0mproperties\u001b[0m\u001b[1;33m\u001b[0m\u001b[0m\n",
      "\u001b[1;31mRuntimeError\u001b[0m: Error in property file G:\\My Drive\\Battrion_AG\\DATABASE\\Slurries\\SL0338_OrionRun1-T2\\SL338_recipe_INVALID.property.json"
     ]
    }
   ],
   "source": [
    "# ambiguity can occur!\n",
    "bdb.clear_preferred_files()\n",
    "bdb.query_property('SL338', 'w_cb')"
   ]
  },
  {
   "cell_type": "code",
   "execution_count": 15,
   "metadata": {
    "hidden": true
   },
   "outputs": [
    {
     "name": "stderr",
     "output_type": "stream",
     "text": [
      "INFO:barely_db:Components for SL0338 found: 0\n",
      "WARNING:barely_db:Property file has no buid specification SL338_recipe_INVALID.property.json!\n"
     ]
    },
    {
     "ename": "RuntimeError",
     "evalue": "Error in property file G:\\My Drive\\Battrion_AG\\DATABASE\\Slurries\\SL0338_OrionRun1-T2\\SL338_recipe_INVALID.property.json",
     "output_type": "error",
     "traceback": [
      "\u001b[1;31m---------------------------------------------------------------------------\u001b[0m",
      "\u001b[1;31mNameError\u001b[0m                                 Traceback (most recent call last)",
      "\u001b[1;32mG:\\My Drive\\Battrion_AG\\DATABASE\\__code\\barely-db\\barely_db\\__init__.py\u001b[0m in \u001b[0;36mload_entity_properties\u001b[1;34m(self, buid)\u001b[0m\n\u001b[0;32m    503\u001b[0m                         \u001b[0mself\u001b[0m\u001b[1;33m.\u001b[0m\u001b[0mlogger\u001b[0m\u001b[1;33m.\u001b[0m\u001b[0mwarn\u001b[0m\u001b[1;33m(\u001b[0m\u001b[1;34mf'Property file has no buid specification {fn.name}!'\u001b[0m\u001b[1;33m)\u001b[0m\u001b[1;33m\u001b[0m\u001b[0m\n\u001b[1;32m--> 504\u001b[1;33m                         \u001b[0mnew_property_data\u001b[0m\u001b[1;33m[\u001b[0m\u001b[1;34m'buid'\u001b[0m\u001b[1;33m]\u001b[0m \u001b[1;33m=\u001b[0m \u001b[0mBUID\u001b[0m\u001b[1;33m.\u001b[0m\u001b[0mINVALID\u001b[0m\u001b[1;33m\u001b[0m\u001b[0m\n\u001b[0m\u001b[0;32m    505\u001b[0m \u001b[1;33m\u001b[0m\u001b[0m\n",
      "\u001b[1;31mNameError\u001b[0m: name 'BUID' is not defined",
      "\nDuring handling of the above exception, another exception occurred:\n",
      "\u001b[1;31mRuntimeError\u001b[0m                              Traceback (most recent call last)",
      "\u001b[1;32m<ipython-input-15-a7330dc05bf1>\u001b[0m in \u001b[0;36m<module>\u001b[1;34m()\u001b[0m\n\u001b[0;32m      1\u001b[0m \u001b[1;31m# ambiguity can be relieved by specifying preferred files!\u001b[0m\u001b[1;33m\u001b[0m\u001b[1;33m\u001b[0m\u001b[0m\n\u001b[0;32m      2\u001b[0m \u001b[0mbdb\u001b[0m\u001b[1;33m.\u001b[0m\u001b[0madd_preferred_file\u001b[0m\u001b[1;33m(\u001b[0m\u001b[1;34m\"SL338_recipe.property.json\"\u001b[0m\u001b[1;33m)\u001b[0m\u001b[1;33m\u001b[0m\u001b[0m\n\u001b[1;32m----> 3\u001b[1;33m \u001b[0mbdb\u001b[0m\u001b[1;33m.\u001b[0m\u001b[0mquery_property\u001b[0m\u001b[1;33m(\u001b[0m\u001b[1;34m'SL338'\u001b[0m\u001b[1;33m,\u001b[0m \u001b[1;34m'w_cb'\u001b[0m\u001b[1;33m)\u001b[0m\u001b[1;33m\u001b[0m\u001b[0m\n\u001b[0m",
      "\u001b[1;32mG:\\My Drive\\Battrion_AG\\DATABASE\\__code\\barely-db\\barely_db\\__init__.py\u001b[0m in \u001b[0;36mquery_property\u001b[1;34m(self, buid, prop, property_file, source, warn_empty)\u001b[0m\n\u001b[0;32m    547\u001b[0m         \u001b[0msource\u001b[0m \u001b[1;33m=\u001b[0m \u001b[0mstr\u001b[0m\u001b[1;33m(\u001b[0m\u001b[0msource\u001b[0m\u001b[1;33m)\u001b[0m\u001b[1;33m\u001b[0m\u001b[0m\n\u001b[0;32m    548\u001b[0m \u001b[1;33m\u001b[0m\u001b[0m\n\u001b[1;32m--> 549\u001b[1;33m         \u001b[0mtree\u001b[0m \u001b[1;33m=\u001b[0m \u001b[0mself\u001b[0m\u001b[1;33m.\u001b[0m\u001b[0mget_entity_tree\u001b[0m\u001b[1;33m(\u001b[0m\u001b[0mbuid\u001b[0m\u001b[1;33m)\u001b[0m\u001b[1;33m\u001b[0m\u001b[0m\n\u001b[0m\u001b[0;32m    550\u001b[0m \u001b[1;33m\u001b[0m\u001b[0m\n\u001b[0;32m    551\u001b[0m         \u001b[1;31m# query =  f'$..*[(\"{property_file}\" in @.property_file)]'\u001b[0m\u001b[1;33m\u001b[0m\u001b[1;33m\u001b[0m\u001b[0m\n",
      "\u001b[1;32mG:\\My Drive\\Battrion_AG\\DATABASE\\__code\\barely-db\\barely_db\\__init__.py\u001b[0m in \u001b[0;36mget_entity_tree\u001b[1;34m(self, buid)\u001b[0m\n\u001b[0;32m    531\u001b[0m     \u001b[1;32mdef\u001b[0m \u001b[0mget_entity_tree\u001b[0m\u001b[1;33m(\u001b[0m\u001b[0mself\u001b[0m\u001b[1;33m,\u001b[0m \u001b[0mbuid\u001b[0m\u001b[1;33m)\u001b[0m\u001b[1;33m:\u001b[0m\u001b[1;33m\u001b[0m\u001b[0m\n\u001b[0;32m    532\u001b[0m         \u001b[0mbuid\u001b[0m \u001b[1;33m=\u001b[0m \u001b[0mself\u001b[0m\u001b[1;33m.\u001b[0m\u001b[0mbuid_normalizer\u001b[0m\u001b[1;33m(\u001b[0m\u001b[0mbuid\u001b[0m\u001b[1;33m)\u001b[0m\u001b[1;33m\u001b[0m\u001b[0m\n\u001b[1;32m--> 533\u001b[1;33m         \u001b[0mtree\u001b[0m \u001b[1;33m=\u001b[0m \u001b[0mobjectpath\u001b[0m\u001b[1;33m.\u001b[0m\u001b[0mTree\u001b[0m\u001b[1;33m(\u001b[0m\u001b[0mself\u001b[0m\u001b[1;33m.\u001b[0m\u001b[0mget_entity_properties\u001b[0m\u001b[1;33m(\u001b[0m\u001b[0mbuid\u001b[0m\u001b[1;33m)\u001b[0m\u001b[1;33m)\u001b[0m\u001b[1;33m\u001b[0m\u001b[0m\n\u001b[0m\u001b[0;32m    534\u001b[0m         \u001b[1;32mreturn\u001b[0m \u001b[0mtree\u001b[0m\u001b[1;33m\u001b[0m\u001b[0m\n\u001b[0;32m    535\u001b[0m \u001b[1;33m\u001b[0m\u001b[0m\n",
      "\u001b[1;32mG:\\My Drive\\Battrion_AG\\DATABASE\\__code\\barely-db\\barely_db\\__init__.py\u001b[0m in \u001b[0;36mget_entity_properties\u001b[1;34m(self, buid, reload)\u001b[0m\n\u001b[0;32m    525\u001b[0m \u001b[1;33m\u001b[0m\u001b[0m\n\u001b[0;32m    526\u001b[0m         \u001b[1;32mif\u001b[0m \u001b[1;33m(\u001b[0m\u001b[0mbuid\u001b[0m \u001b[1;32mnot\u001b[0m \u001b[1;32min\u001b[0m \u001b[0mself\u001b[0m\u001b[1;33m.\u001b[0m\u001b[0mentity_properties\u001b[0m\u001b[1;33m)\u001b[0m \u001b[1;32mor\u001b[0m \u001b[0mreload\u001b[0m\u001b[1;33m:\u001b[0m\u001b[1;33m\u001b[0m\u001b[0m\n\u001b[1;32m--> 527\u001b[1;33m             \u001b[0mself\u001b[0m\u001b[1;33m.\u001b[0m\u001b[0mload_entity_properties\u001b[0m\u001b[1;33m(\u001b[0m\u001b[0mbuid\u001b[0m\u001b[1;33m)\u001b[0m\u001b[1;33m\u001b[0m\u001b[0m\n\u001b[0m\u001b[0;32m    528\u001b[0m \u001b[1;33m\u001b[0m\u001b[0m\n\u001b[0;32m    529\u001b[0m         \u001b[1;32mreturn\u001b[0m \u001b[0mself\u001b[0m\u001b[1;33m.\u001b[0m\u001b[0mentity_properties\u001b[0m\u001b[1;33m[\u001b[0m\u001b[0mbuid\u001b[0m\u001b[1;33m]\u001b[0m\u001b[1;33m\u001b[0m\u001b[0m\n",
      "\u001b[1;32mG:\\My Drive\\Battrion_AG\\DATABASE\\__code\\barely-db\\barely_db\\__init__.py\u001b[0m in \u001b[0;36mload_entity_properties\u001b[1;34m(self, buid)\u001b[0m\n\u001b[0;32m    511\u001b[0m \u001b[1;33m\u001b[0m\u001b[0m\n\u001b[0;32m    512\u001b[0m             \u001b[1;32mexcept\u001b[0m\u001b[1;33m:\u001b[0m\u001b[1;33m\u001b[0m\u001b[0m\n\u001b[1;32m--> 513\u001b[1;33m                 \u001b[1;32mraise\u001b[0m \u001b[0mRuntimeError\u001b[0m\u001b[1;33m(\u001b[0m\u001b[1;34mf'Error in property file {str(fn)}'\u001b[0m\u001b[1;33m)\u001b[0m\u001b[1;33m\u001b[0m\u001b[0m\n\u001b[0m\u001b[0;32m    514\u001b[0m \u001b[1;33m\u001b[0m\u001b[0m\n\u001b[0;32m    515\u001b[0m         \u001b[0mself\u001b[0m\u001b[1;33m.\u001b[0m\u001b[0mentity_properties\u001b[0m\u001b[1;33m[\u001b[0m\u001b[0mbuid\u001b[0m\u001b[1;33m]\u001b[0m \u001b[1;33m=\u001b[0m \u001b[0mproperties\u001b[0m\u001b[1;33m\u001b[0m\u001b[0m\n",
      "\u001b[1;31mRuntimeError\u001b[0m: Error in property file G:\\My Drive\\Battrion_AG\\DATABASE\\Slurries\\SL0338_OrionRun1-T2\\SL338_recipe_INVALID.property.json"
     ]
    }
   ],
   "source": [
    "# ambiguity can be relieved by specifying preferred files!\n",
    "bdb.add_preferred_file(\"SL338_recipe.property.json\")\n",
    "bdb.query_property('SL338', 'w_cb')"
   ]
  },
  {
   "cell_type": "code",
   "execution_count": 16,
   "metadata": {
    "hidden": true
   },
   "outputs": [
    {
     "name": "stderr",
     "output_type": "stream",
     "text": [
      "INFO:barely_db:Components for SL0338 found: 0\n",
      "WARNING:barely_db:Property file has no buid specification SL338_recipe_INVALID.property.json!\n"
     ]
    },
    {
     "ename": "RuntimeError",
     "evalue": "Error in property file G:\\My Drive\\Battrion_AG\\DATABASE\\Slurries\\SL0338_OrionRun1-T2\\SL338_recipe_INVALID.property.json",
     "output_type": "error",
     "traceback": [
      "\u001b[1;31m---------------------------------------------------------------------------\u001b[0m",
      "\u001b[1;31mNameError\u001b[0m                                 Traceback (most recent call last)",
      "\u001b[1;32mG:\\My Drive\\Battrion_AG\\DATABASE\\__code\\barely-db\\barely_db\\__init__.py\u001b[0m in \u001b[0;36mload_entity_properties\u001b[1;34m(self, buid)\u001b[0m\n\u001b[0;32m    503\u001b[0m                         \u001b[0mself\u001b[0m\u001b[1;33m.\u001b[0m\u001b[0mlogger\u001b[0m\u001b[1;33m.\u001b[0m\u001b[0mwarn\u001b[0m\u001b[1;33m(\u001b[0m\u001b[1;34mf'Property file has no buid specification {fn.name}!'\u001b[0m\u001b[1;33m)\u001b[0m\u001b[1;33m\u001b[0m\u001b[0m\n\u001b[1;32m--> 504\u001b[1;33m                         \u001b[0mnew_property_data\u001b[0m\u001b[1;33m[\u001b[0m\u001b[1;34m'buid'\u001b[0m\u001b[1;33m]\u001b[0m \u001b[1;33m=\u001b[0m \u001b[0mBUID\u001b[0m\u001b[1;33m.\u001b[0m\u001b[0mINVALID\u001b[0m\u001b[1;33m\u001b[0m\u001b[0m\n\u001b[0m\u001b[0;32m    505\u001b[0m \u001b[1;33m\u001b[0m\u001b[0m\n",
      "\u001b[1;31mNameError\u001b[0m: name 'BUID' is not defined",
      "\nDuring handling of the above exception, another exception occurred:\n",
      "\u001b[1;31mRuntimeError\u001b[0m                              Traceback (most recent call last)",
      "\u001b[1;32m<ipython-input-16-362546e95ffb>\u001b[0m in \u001b[0;36m<module>\u001b[1;34m()\u001b[0m\n\u001b[1;32m----> 1\u001b[1;33m \u001b[0mprops\u001b[0m \u001b[1;33m=\u001b[0m \u001b[0mbdb\u001b[0m\u001b[1;33m.\u001b[0m\u001b[0mget_entity_properties\u001b[0m\u001b[1;33m(\u001b[0m\u001b[1;34m'SL338'\u001b[0m\u001b[1;33m)\u001b[0m\u001b[1;33m\u001b[0m\u001b[0m\n\u001b[0m",
      "\u001b[1;32mG:\\My Drive\\Battrion_AG\\DATABASE\\__code\\barely-db\\barely_db\\__init__.py\u001b[0m in \u001b[0;36mget_entity_properties\u001b[1;34m(self, buid, reload)\u001b[0m\n\u001b[0;32m    525\u001b[0m \u001b[1;33m\u001b[0m\u001b[0m\n\u001b[0;32m    526\u001b[0m         \u001b[1;32mif\u001b[0m \u001b[1;33m(\u001b[0m\u001b[0mbuid\u001b[0m \u001b[1;32mnot\u001b[0m \u001b[1;32min\u001b[0m \u001b[0mself\u001b[0m\u001b[1;33m.\u001b[0m\u001b[0mentity_properties\u001b[0m\u001b[1;33m)\u001b[0m \u001b[1;32mor\u001b[0m \u001b[0mreload\u001b[0m\u001b[1;33m:\u001b[0m\u001b[1;33m\u001b[0m\u001b[0m\n\u001b[1;32m--> 527\u001b[1;33m             \u001b[0mself\u001b[0m\u001b[1;33m.\u001b[0m\u001b[0mload_entity_properties\u001b[0m\u001b[1;33m(\u001b[0m\u001b[0mbuid\u001b[0m\u001b[1;33m)\u001b[0m\u001b[1;33m\u001b[0m\u001b[0m\n\u001b[0m\u001b[0;32m    528\u001b[0m \u001b[1;33m\u001b[0m\u001b[0m\n\u001b[0;32m    529\u001b[0m         \u001b[1;32mreturn\u001b[0m \u001b[0mself\u001b[0m\u001b[1;33m.\u001b[0m\u001b[0mentity_properties\u001b[0m\u001b[1;33m[\u001b[0m\u001b[0mbuid\u001b[0m\u001b[1;33m]\u001b[0m\u001b[1;33m\u001b[0m\u001b[0m\n",
      "\u001b[1;32mG:\\My Drive\\Battrion_AG\\DATABASE\\__code\\barely-db\\barely_db\\__init__.py\u001b[0m in \u001b[0;36mload_entity_properties\u001b[1;34m(self, buid)\u001b[0m\n\u001b[0;32m    511\u001b[0m \u001b[1;33m\u001b[0m\u001b[0m\n\u001b[0;32m    512\u001b[0m             \u001b[1;32mexcept\u001b[0m\u001b[1;33m:\u001b[0m\u001b[1;33m\u001b[0m\u001b[0m\n\u001b[1;32m--> 513\u001b[1;33m                 \u001b[1;32mraise\u001b[0m \u001b[0mRuntimeError\u001b[0m\u001b[1;33m(\u001b[0m\u001b[1;34mf'Error in property file {str(fn)}'\u001b[0m\u001b[1;33m)\u001b[0m\u001b[1;33m\u001b[0m\u001b[0m\n\u001b[0m\u001b[0;32m    514\u001b[0m \u001b[1;33m\u001b[0m\u001b[0m\n\u001b[0;32m    515\u001b[0m         \u001b[0mself\u001b[0m\u001b[1;33m.\u001b[0m\u001b[0mentity_properties\u001b[0m\u001b[1;33m[\u001b[0m\u001b[0mbuid\u001b[0m\u001b[1;33m]\u001b[0m \u001b[1;33m=\u001b[0m \u001b[0mproperties\u001b[0m\u001b[1;33m\u001b[0m\u001b[0m\n",
      "\u001b[1;31mRuntimeError\u001b[0m: Error in property file G:\\My Drive\\Battrion_AG\\DATABASE\\Slurries\\SL0338_OrionRun1-T2\\SL338_recipe_INVALID.property.json"
     ]
    }
   ],
   "source": [
    "props = bdb.get_entity_properties('SL338')"
   ]
  },
  {
   "cell_type": "code",
   "execution_count": 24,
   "metadata": {
    "hidden": true
   },
   "outputs": [
    {
     "name": "stderr",
     "output_type": "stream",
     "text": [
      "WARNING:barely_db:Property file has no buid specification SL338_recipe_INVALID.property.json!\n",
      "WARNING:barely_db:Property file has no source specification SL338_recipe_INVALID.property.json!\n"
     ]
    }
   ],
   "source": [
    "props = bdb.get_entity_properties('SL338', reload=True)"
   ]
  },
  {
   "cell_type": "code",
   "execution_count": 25,
   "metadata": {
    "hidden": true
   },
   "outputs": [],
   "source": [
    "import objectpath # http://objectpath.org/reference.html"
   ]
  },
  {
   "cell_type": "code",
   "execution_count": 146,
   "metadata": {
    "hidden": true
   },
   "outputs": [
    {
     "name": "stderr",
     "output_type": "stream",
     "text": [
      "WARNING:barely_db:Property file has no buid specification SL338_recipe_INVALID.property.json!\n",
      "WARNING:barely_db:Property file has no source specification SL338_recipe_INVALID.property.json!\n"
     ]
    },
    {
     "data": {
      "text/plain": [
       "['SL338_Viscosity.txt.property.json',\n",
       " 'SL338_recipe.property.json',\n",
       " 'SL338_recipe_INVALID.property.json']"
      ]
     },
     "execution_count": 146,
     "metadata": {},
     "output_type": "execute_result"
    }
   ],
   "source": [
    "bdb.reload_entity_properties()\n",
    "tree = bdb.get_entity_tree('SL338')\n",
    "list(tree.execute(\"$..*.property_file\"))"
   ]
  },
  {
   "cell_type": "code",
   "execution_count": 147,
   "metadata": {
    "hidden": true
   },
   "outputs": [
    {
     "name": "stderr",
     "output_type": "stream",
     "text": [
      "WARNING:barely_db:No value for lala in entity SL0338!\n"
     ]
    }
   ],
   "source": [
    "bdb.query_property('SL338', 'lala')"
   ]
  },
  {
   "cell_type": "code",
   "execution_count": 148,
   "metadata": {
    "hidden": true
   },
   "outputs": [
    {
     "data": {
      "text/plain": [
       "SourcedItem(name='w_g', value=93.0, property_file='SL338_recipe.property.json', source='manual from 181009_SL0338_Batches_combined_dilution.xlsx')"
      ]
     },
     "execution_count": 148,
     "metadata": {},
     "output_type": "execute_result"
    }
   ],
   "source": [
    "bdb.query_property('SL338', 'w_g')"
   ]
  },
  {
   "cell_type": "code",
   "execution_count": 149,
   "metadata": {
    "hidden": true
   },
   "outputs": [
    {
     "name": "stderr",
     "output_type": "stream",
     "text": [
      "WARNING:barely_db:Multiple sources for w_cb in entity SL0338, even after filtering with preferred_property_files! Please, remove entries from preferred_property_files to lift this ambiguity! Found sources follow below:\n",
      "WARNING:barely_db:{\n",
      "    \"w_cb\": 0.0,\n",
      "    \"property_file\": \"SL338_recipe.property.json\",\n",
      "    \"source\": \"manual from 181009_SL0338_Batches_combined_dilution.xlsx\"\n",
      "}\n",
      "WARNING:barely_db:{\n",
      "    \"w_cb\": 0.0,\n",
      "    \"property_file\": \"SL338_recipe_INVALID.property.json\",\n",
      "    \"source\": \"Unknown source!\"\n",
      "}\n"
     ]
    }
   ],
   "source": [
    "# ambiguity can occur!\n",
    "bdb.clear_preferred_files()\n",
    "bdb.query_property('SL338', 'w_cb')"
   ]
  },
  {
   "cell_type": "code",
   "execution_count": 150,
   "metadata": {
    "hidden": true
   },
   "outputs": [
    {
     "data": {
      "text/plain": [
       "SourcedItem(name='w_cb', value=0.0, property_file='SL338_recipe.property.json', source='manual from 181009_SL0338_Batches_combined_dilution.xlsx')"
      ]
     },
     "execution_count": 150,
     "metadata": {},
     "output_type": "execute_result"
    }
   ],
   "source": [
    "# ambiguity can be relieved by specifying preferred files!\n",
    "bdb.add_preferred_file(\"SL338_recipe.property.json\")\n",
    "bdb.query_property('SL338', 'w_cb')"
   ]
  },
  {
   "cell_type": "code",
   "execution_count": 151,
   "metadata": {
    "hidden": true
   },
   "outputs": [
    {
     "name": "stderr",
     "output_type": "stream",
     "text": [
      "WARNING:barely_db:No value for tsc in entity SL0338!\n"
     ]
    }
   ],
   "source": [
    "# ambiguity can be relieved by specifying source information!\n",
    "bdb.query_property('SL338', 'tsc', source='dilution')"
   ]
  },
  {
   "cell_type": "code",
   "execution_count": 152,
   "metadata": {
    "hidden": true
   },
   "outputs": [
    {
     "name": "stderr",
     "output_type": "stream",
     "text": [
      "WARNING:barely_db:No value for tsc in entity SL0338!\n"
     ]
    },
    {
     "data": {
      "text/plain": [
       "[None,\n",
       " SourcedItem(name='w_g', value=93.0, property_file='SL338_recipe.property.json', source='manual from 181009_SL0338_Batches_combined_dilution.xlsx'),\n",
       " SourcedItem(name='w_cb', value=0.0, property_file='SL338_recipe.property.json', source='manual from 181009_SL0338_Batches_combined_dilution.xlsx')]"
      ]
     },
     "execution_count": 152,
     "metadata": {},
     "output_type": "execute_result"
    }
   ],
   "source": [
    "props = [\\\n",
    "         dict(prop='tsc', source='dilution'),\n",
    "         'w_g', \n",
    "         dict(prop='w_cb', source='manual'),\n",
    "        ]\n",
    "\n",
    "bdb.query_properties('SL338', props)"
   ]
  },
  {
   "cell_type": "code",
   "execution_count": 153,
   "metadata": {
    "hidden": true
   },
   "outputs": [
    {
     "data": {
      "text/plain": [
       "[SourcedItem(name='tsc', value=49.27, property_file='SL338_Viscosity.txt.property.json', source='G:\\\\My Drive\\\\Battrion_AG\\\\DATABASE\\\\Slurries\\\\SL0338_OrionRun1-T2\\\\SL338_Viscosity.txt'),\n",
       " SourcedItem(name='w_g', value=93.0, property_file='SL338_recipe.property.json', source='manual from 181009_SL0338_Batches_combined_dilution.xlsx'),\n",
       " SourcedItem(name='w_cb', value=0.0, property_file='SL338_recipe.property.json', source='manual from 181009_SL0338_Batches_combined_dilution.xlsx')]"
      ]
     },
     "execution_count": 153,
     "metadata": {},
     "output_type": "execute_result"
    }
   ],
   "source": [
    "props = ['tsc', 'w_g', 'w_cb']\n",
    "\n",
    "bdb.query_properties('SL338', props)"
   ]
  },
  {
   "cell_type": "code",
   "execution_count": null,
   "metadata": {
    "hidden": true
   },
   "outputs": [],
   "source": []
  }
 ],
 "metadata": {
  "kernelspec": {
   "display_name": "Python 3",
   "language": "python",
   "name": "python3"
  },
  "language_info": {
   "codemirror_mode": {
    "name": "ipython",
    "version": 3
   },
   "file_extension": ".py",
   "mimetype": "text/x-python",
   "name": "python",
   "nbconvert_exporter": "python",
   "pygments_lexer": "ipython3",
   "version": "3.6.2"
  },
  "toc": {
   "colors": {
    "hover_highlight": "#DAA520",
    "navigate_num": "#000000",
    "navigate_text": "#333333",
    "running_highlight": "#FF0000",
    "selected_highlight": "#FFD700",
    "sidebar_border": "#EEEEEE",
    "wrapper_background": "#FFFFFF"
   },
   "moveMenuLeft": true,
   "nav_menu": {
    "height": "102px",
    "width": "252px"
   },
   "navigate_menu": true,
   "number_sections": true,
   "sideBar": true,
   "threshold": 4,
   "toc_cell": false,
   "toc_section_display": "block",
   "toc_window_display": false,
   "widenNotebook": false
  }
 },
 "nbformat": 4,
 "nbformat_minor": 2
}
