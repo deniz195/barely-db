{
 "cells": [
  {
   "cell_type": "markdown",
   "metadata": {},
   "source": [
    "# Import modules"
   ]
  },
  {
   "cell_type": "code",
   "execution_count": 1,
   "metadata": {},
   "outputs": [],
   "source": [
    "# Import extensions\n",
    "import sys \n",
    "import numpy as np\n",
    "import matplotlib.pyplot as plt\n",
    "%matplotlib inline\n",
    "from pathlib import Path\n",
    "from IPython.display import FileLink, FileLinks\n",
    "# FileLinks('.') #lists all downloadable files on server"
   ]
  },
  {
   "cell_type": "code",
   "execution_count": 2,
   "metadata": {},
   "outputs": [],
   "source": [
    "# sys.path.append('.')\n",
    "import barely_db\n",
    "barely_db._reload_module()\n",
    "from barely_db import *\n",
    "# test_BUID()"
   ]
  },
  {
   "cell_type": "code",
   "execution_count": 3,
   "metadata": {},
   "outputs": [],
   "source": [
    "import logging\n",
    "logging.basicConfig(level=logging.DEBUG)"
   ]
  },
  {
   "cell_type": "markdown",
   "metadata": {},
   "source": [
    "## BarelyDB Basic lookup"
   ]
  },
  {
   "cell_type": "code",
   "execution_count": 5,
   "metadata": {},
   "outputs": [],
   "source": [
    "# bdb = BarelyDB(Path('../..'))\n",
    "# bdb.load_entities()"
   ]
  },
  {
   "cell_type": "code",
   "execution_count": 6,
   "metadata": {},
   "outputs": [
    {
     "name": "stderr",
     "output_type": "stream",
     "text": [
      "INFO:barely_db:Entities found: 1063\n"
     ]
    }
   ],
   "source": [
    "bdb = BarelyDB(Path('../../..'), path_depth=1)\n",
    "bdb.load_entities()"
   ]
  },
  {
   "cell_type": "code",
   "execution_count": 7,
   "metadata": {},
   "outputs": [],
   "source": [
    "bdb.entities;"
   ]
  },
  {
   "cell_type": "code",
   "execution_count": 17,
   "metadata": {},
   "outputs": [
    {
     "name": "stdout",
     "output_type": "stream",
     "text": [
      "{'entity_path': WindowsPath('G:/My Drive/Battrion_AG/DATABASE/Cells/CL1040_BMW_AGT'), 'buid': 'CL1040'}\n",
      "{'entity_path': WindowsPath('G:/My Drive/Battrion_AG/DATABASE/Cells/CL1041_BMW_Standard'), 'buid': 'CL1041'}\n",
      "{'entity_path': WindowsPath('G:/My Drive/Battrion_AG/DATABASE/Cells/CL2052_BMW_WB0215_Impedance'), 'buid': 'CL2052'}\n",
      "{'entity_path': WindowsPath('G:/My Drive/Battrion_AG/DATABASE/Cells/CL2053_BMW_WB0216_Impedance'), 'buid': 'CL2053'}\n",
      "{'entity_path': WindowsPath('G:/My Drive/Battrion_AG/DATABASE/Slurries/SL0363_largeBatchCMC2wt%_CRT2000PA7'), 'buid': 'SL363'}\n",
      "{'entity_path': WindowsPath('G:/My Drive/Battrion_AG/DATABASE/Slurries/SL0362_BMW_productionSlurry'), 'buid': 'SL362'}\n",
      "{'entity_path': WindowsPath('G:/My Drive/Battrion_AG/DATABASE/RawMaterials/RM0344_JSR_102A'), 'buid': 'RM0344'}\n"
     ]
    }
   ],
   "source": [
    "entities = ['CL1040', 'CL1041', 'CL2052','CL2053', 'SL363', 'SL362', 'RM0344']\n",
    "\n",
    "for e in entities:\n",
    "    prop = bdb.get_entity_properties(e)\n",
    "    prop['buid'] = e\n",
    "    print(prop)"
   ]
  },
  {
   "cell_type": "code",
   "execution_count": 21,
   "metadata": {},
   "outputs": [
    {
     "name": "stdout",
     "output_type": "stream",
     "text": [
      "{'entity_path': WindowsPath('G:/My Drive/Battrion_AG/DATABASE/RawMaterials/RM0288_JiangxiZichenTechnology_YF3-GT-1_(LG-A)'), 'buid': 'RM0288'}\n",
      "{'entity_path': WindowsPath('G:/My Drive/Battrion_AG/DATABASE/RawMaterials/RM0237_CRT2000PA7_20kg'), 'buid': 'RM0237'}\n",
      "{'entity_path': WindowsPath('G:/My Drive/Battrion_AG/DATABASE/RawMaterials/RM0344_JSR_102A'), 'buid': 'RM0344'}\n",
      "{'entity_path': WindowsPath('G:/My Drive/Battrion_AG/DATABASE/RawMaterials/RM0255_1804xx_CuFoil_CCP_15um_DUB'), 'buid': 'RM0255'}\n"
     ]
    }
   ],
   "source": [
    "entities = ['RM0288', 'RM0237', 'RM0344', 'RM0255']\n",
    "\n",
    "for e in entities:\n",
    "    prop = bdb.get_entity_properties(e)\n",
    "    prop['buid'] = e\n",
    "    print(prop)"
   ]
  },
  {
   "cell_type": "markdown",
   "metadata": {},
   "source": [
    "## Properties"
   ]
  },
  {
   "cell_type": "code",
   "execution_count": 141,
   "metadata": {},
   "outputs": [
    {
     "name": "stderr",
     "output_type": "stream",
     "text": [
      "WARNING:barely_db:Property file has no buid specification SL338_recipe_INVALID.property.json!\n",
      "WARNING:barely_db:Property file has no source specification SL338_recipe_INVALID.property.json!\n",
      "WARNING:barely_db:Multiple sources for w_cb in entity SL0338, even after filtering with preferred_property_files! Please, remove entries from preferred_property_files to lift this ambiguity! Found sources follow below:\n",
      "WARNING:barely_db:{\n",
      "    \"w_cb\": 0.0,\n",
      "    \"property_file\": \"SL338_recipe.property.json\",\n",
      "    \"source\": \"manual from 181009_SL0338_Batches_combined_dilution.xlsx\"\n",
      "}\n",
      "WARNING:barely_db:{\n",
      "    \"w_cb\": 0.0,\n",
      "    \"property_file\": \"SL338_recipe_INVALID.property.json\",\n",
      "    \"source\": \"Unknown source!\"\n",
      "}\n"
     ]
    }
   ],
   "source": [
    "# ambiguity can occur!\n",
    "bdb.clear_preferred_files()\n",
    "bdb.query_property('SL338', 'w_cb')"
   ]
  },
  {
   "cell_type": "code",
   "execution_count": 142,
   "metadata": {},
   "outputs": [
    {
     "data": {
      "text/plain": [
       "SourcedItem(name='w_cb', value=0.0, property_file='SL338_recipe.property.json', source='manual from 181009_SL0338_Batches_combined_dilution.xlsx')"
      ]
     },
     "execution_count": 142,
     "metadata": {},
     "output_type": "execute_result"
    }
   ],
   "source": [
    "# ambiguity can be relieved by specifying preferred files!\n",
    "bdb.add_preferred_file(\"SL338_recipe.property.json\")\n",
    "bdb.query_property('SL338', 'w_cb')"
   ]
  },
  {
   "cell_type": "code",
   "execution_count": 143,
   "metadata": {},
   "outputs": [],
   "source": [
    "props = bdb.get_entity_properties('SL338')"
   ]
  },
  {
   "cell_type": "code",
   "execution_count": 144,
   "metadata": {},
   "outputs": [
    {
     "name": "stderr",
     "output_type": "stream",
     "text": [
      "WARNING:barely_db:Property file has no buid specification SL338_recipe_INVALID.property.json!\n",
      "WARNING:barely_db:Property file has no source specification SL338_recipe_INVALID.property.json!\n"
     ]
    }
   ],
   "source": [
    "props = bdb.get_entity_properties('SL338', reload=True)"
   ]
  },
  {
   "cell_type": "code",
   "execution_count": 145,
   "metadata": {},
   "outputs": [],
   "source": [
    "import objectpath # http://objectpath.org/reference.html"
   ]
  },
  {
   "cell_type": "code",
   "execution_count": 146,
   "metadata": {},
   "outputs": [
    {
     "name": "stderr",
     "output_type": "stream",
     "text": [
      "WARNING:barely_db:Property file has no buid specification SL338_recipe_INVALID.property.json!\n",
      "WARNING:barely_db:Property file has no source specification SL338_recipe_INVALID.property.json!\n"
     ]
    },
    {
     "data": {
      "text/plain": [
       "['SL338_Viscosity.txt.property.json',\n",
       " 'SL338_recipe.property.json',\n",
       " 'SL338_recipe_INVALID.property.json']"
      ]
     },
     "execution_count": 146,
     "metadata": {},
     "output_type": "execute_result"
    }
   ],
   "source": [
    "bdb.reload_entity_properties()\n",
    "tree = bdb.get_entity_tree('SL338')\n",
    "list(tree.execute(\"$..*.property_file\"))"
   ]
  },
  {
   "cell_type": "code",
   "execution_count": 147,
   "metadata": {},
   "outputs": [
    {
     "name": "stderr",
     "output_type": "stream",
     "text": [
      "WARNING:barely_db:No value for lala in entity SL0338!\n"
     ]
    }
   ],
   "source": [
    "bdb.query_property('SL338', 'lala')"
   ]
  },
  {
   "cell_type": "code",
   "execution_count": 148,
   "metadata": {},
   "outputs": [
    {
     "data": {
      "text/plain": [
       "SourcedItem(name='w_g', value=93.0, property_file='SL338_recipe.property.json', source='manual from 181009_SL0338_Batches_combined_dilution.xlsx')"
      ]
     },
     "execution_count": 148,
     "metadata": {},
     "output_type": "execute_result"
    }
   ],
   "source": [
    "bdb.query_property('SL338', 'w_g')"
   ]
  },
  {
   "cell_type": "code",
   "execution_count": 149,
   "metadata": {},
   "outputs": [
    {
     "name": "stderr",
     "output_type": "stream",
     "text": [
      "WARNING:barely_db:Multiple sources for w_cb in entity SL0338, even after filtering with preferred_property_files! Please, remove entries from preferred_property_files to lift this ambiguity! Found sources follow below:\n",
      "WARNING:barely_db:{\n",
      "    \"w_cb\": 0.0,\n",
      "    \"property_file\": \"SL338_recipe.property.json\",\n",
      "    \"source\": \"manual from 181009_SL0338_Batches_combined_dilution.xlsx\"\n",
      "}\n",
      "WARNING:barely_db:{\n",
      "    \"w_cb\": 0.0,\n",
      "    \"property_file\": \"SL338_recipe_INVALID.property.json\",\n",
      "    \"source\": \"Unknown source!\"\n",
      "}\n"
     ]
    }
   ],
   "source": [
    "# ambiguity can occur!\n",
    "bdb.clear_preferred_files()\n",
    "bdb.query_property('SL338', 'w_cb')"
   ]
  },
  {
   "cell_type": "code",
   "execution_count": 150,
   "metadata": {},
   "outputs": [
    {
     "data": {
      "text/plain": [
       "SourcedItem(name='w_cb', value=0.0, property_file='SL338_recipe.property.json', source='manual from 181009_SL0338_Batches_combined_dilution.xlsx')"
      ]
     },
     "execution_count": 150,
     "metadata": {},
     "output_type": "execute_result"
    }
   ],
   "source": [
    "# ambiguity can be relieved by specifying preferred files!\n",
    "bdb.add_preferred_file(\"SL338_recipe.property.json\")\n",
    "bdb.query_property('SL338', 'w_cb')"
   ]
  },
  {
   "cell_type": "code",
   "execution_count": 151,
   "metadata": {},
   "outputs": [
    {
     "name": "stderr",
     "output_type": "stream",
     "text": [
      "WARNING:barely_db:No value for tsc in entity SL0338!\n"
     ]
    }
   ],
   "source": [
    "# ambiguity can be relieved by specifying source information!\n",
    "bdb.query_property('SL338', 'tsc', source='dilution')"
   ]
  },
  {
   "cell_type": "code",
   "execution_count": 152,
   "metadata": {},
   "outputs": [
    {
     "name": "stderr",
     "output_type": "stream",
     "text": [
      "WARNING:barely_db:No value for tsc in entity SL0338!\n"
     ]
    },
    {
     "data": {
      "text/plain": [
       "[None,\n",
       " SourcedItem(name='w_g', value=93.0, property_file='SL338_recipe.property.json', source='manual from 181009_SL0338_Batches_combined_dilution.xlsx'),\n",
       " SourcedItem(name='w_cb', value=0.0, property_file='SL338_recipe.property.json', source='manual from 181009_SL0338_Batches_combined_dilution.xlsx')]"
      ]
     },
     "execution_count": 152,
     "metadata": {},
     "output_type": "execute_result"
    }
   ],
   "source": [
    "props = [\\\n",
    "         dict(prop='tsc', source='dilution'),\n",
    "         'w_g', \n",
    "         dict(prop='w_cb', source='manual'),\n",
    "        ]\n",
    "\n",
    "bdb.query_properties('SL338', props)"
   ]
  },
  {
   "cell_type": "code",
   "execution_count": 153,
   "metadata": {},
   "outputs": [
    {
     "data": {
      "text/plain": [
       "[SourcedItem(name='tsc', value=49.27, property_file='SL338_Viscosity.txt.property.json', source='G:\\\\My Drive\\\\Battrion_AG\\\\DATABASE\\\\Slurries\\\\SL0338_OrionRun1-T2\\\\SL338_Viscosity.txt'),\n",
       " SourcedItem(name='w_g', value=93.0, property_file='SL338_recipe.property.json', source='manual from 181009_SL0338_Batches_combined_dilution.xlsx'),\n",
       " SourcedItem(name='w_cb', value=0.0, property_file='SL338_recipe.property.json', source='manual from 181009_SL0338_Batches_combined_dilution.xlsx')]"
      ]
     },
     "execution_count": 153,
     "metadata": {},
     "output_type": "execute_result"
    }
   ],
   "source": [
    "props = ['tsc', 'w_g', 'w_cb']\n",
    "\n",
    "bdb.query_properties('SL338', props)"
   ]
  },
  {
   "cell_type": "markdown",
   "metadata": {},
   "source": [
    "# BUID parsing"
   ]
  },
  {
   "cell_type": "code",
   "execution_count": null,
   "metadata": {},
   "outputs": [],
   "source": []
  },
  {
   "cell_type": "markdown",
   "metadata": {
    "collapsed": true
   },
   "source": [
    "# Testing"
   ]
  },
  {
   "cell_type": "code",
   "execution_count": 154,
   "metadata": {},
   "outputs": [
    {
     "data": {
      "text/plain": [
       "{'entity_path': WindowsPath('G:/My Drive/Battrion_AG/DATABASE/Slurries/SL0361_ProductionSlurryOrion'),\n",
       " 'SL361_recipe.property.json': {'buid': 'SL361',\n",
       "  'source': 'manual from 181120_SL0361_Batches_combined_dilution.xlsx',\n",
       "  'manufacturing_date': '181120',\n",
       "  'w_g': 0.96,\n",
       "  'type_g': 'GT1',\n",
       "  'w_cb': 0.01,\n",
       "  'type_cb': 'Super C65',\n",
       "  'w_cmc': 0.01,\n",
       "  'type_cmc': 'CRT2000PA7',\n",
       "  'w_sbr': 0.02,\n",
       "  'type_sbr': 'BM-400B',\n",
       "  'tsc': 49.48,\n",
       "  'property_file': 'SL361_recipe.property.json'},\n",
       " 'SL361_Viscosity.txt.property.json': {'buid': 'SL361',\n",
       "  'create_time': 1542821655.98015,\n",
       "  'source': 'G:\\\\My Drive\\\\Battrion_AG\\\\DATABASE\\\\Slurries\\\\SL0361_ProductionSlurryOrion\\\\SL361_Viscosity.txt',\n",
       "  'tsc': 49.48,\n",
       "  'temperatur_average': 24.7125,\n",
       "  'temperatur_delta': 0.10000000000000142,\n",
       "  'viscosity_data': {'rpm': [0.1,\n",
       "    0.25,\n",
       "    0.5,\n",
       "    0.75,\n",
       "    1.0,\n",
       "    2.0,\n",
       "    4.0,\n",
       "    6.0,\n",
       "    8.0,\n",
       "    10.0,\n",
       "    15.0,\n",
       "    20.0,\n",
       "    40.0,\n",
       "    60.0,\n",
       "    80.0,\n",
       "    100.0],\n",
       "   'viscosity': [8000.0,\n",
       "    5600.0,\n",
       "    4400.0,\n",
       "    4267.0,\n",
       "    3800.0,\n",
       "    3300.0,\n",
       "    2850.0,\n",
       "    2650.0,\n",
       "    2537.0,\n",
       "    2450.0,\n",
       "    2313.0,\n",
       "    2230.0,\n",
       "    2082.0,\n",
       "    nan,\n",
       "    nan,\n",
       "    nan],\n",
       "   'temperature': [24.7,\n",
       "    24.7,\n",
       "    24.7,\n",
       "    24.7,\n",
       "    24.7,\n",
       "    24.7,\n",
       "    24.8,\n",
       "    24.7,\n",
       "    24.7,\n",
       "    24.7,\n",
       "    24.7,\n",
       "    24.8,\n",
       "    24.7,\n",
       "    24.7,\n",
       "    24.7,\n",
       "    24.7]},\n",
       "  'property_file': 'SL361_Viscosity.txt.property.json'}}"
      ]
     },
     "execution_count": 154,
     "metadata": {},
     "output_type": "execute_result"
    }
   ],
   "source": [
    "bdb.get_entity_properties('SL361')"
   ]
  },
  {
   "cell_type": "code",
   "execution_count": 115,
   "metadata": {},
   "outputs": [
    {
     "data": {
      "text/plain": [
       "{'entity_path': WindowsPath('G:/My Drive/Battrion_AG/DATABASE/Webs/WB0198_SL336_Grepow_Anode_Improved_AGT')}"
      ]
     },
     "execution_count": 115,
     "metadata": {},
     "output_type": "execute_result"
    }
   ],
   "source": [
    "bdb.get_entity_properties('WB198')"
   ]
  },
  {
   "cell_type": "code",
   "execution_count": 116,
   "metadata": {},
   "outputs": [
    {
     "data": {
      "text/plain": [
       "{'entity_path': WindowsPath('G:/My Drive/Battrion_AG/DATABASE/Webs/WB0253_OrionProductionRun')}"
      ]
     },
     "execution_count": 116,
     "metadata": {},
     "output_type": "execute_result"
    }
   ],
   "source": [
    "bdb.get_entity_properties('WB253')"
   ]
  },
  {
   "cell_type": "code",
   "execution_count": 117,
   "metadata": {},
   "outputs": [
    {
     "data": {
      "text/plain": [
       "['G:\\\\My Drive\\\\Battrion_AG\\\\DATABASE\\\\Webs\\\\WB0253_OrionProductionRun\\\\SnR_Elec_revT006_WB0253_rev002.docx',\n",
       " 'G:\\\\My Drive\\\\Battrion_AG\\\\DATABASE\\\\Webs\\\\WB0253_OrionProductionRun\\\\old',\n",
       " 'G:\\\\My Drive\\\\Battrion_AG\\\\DATABASE\\\\Webs\\\\WB0253_OrionProductionRun\\\\desktop.ini']"
      ]
     },
     "execution_count": 117,
     "metadata": {},
     "output_type": "execute_result"
    }
   ],
   "source": [
    "fns = bdb.entity_files('WB253','*')\n",
    "fns"
   ]
  },
  {
   "cell_type": "code",
   "execution_count": 118,
   "metadata": {},
   "outputs": [
    {
     "data": {
      "text/plain": [
       "'G:/My Drive/Battrion_AG/DATABASE/Webs/WB0253_OrionProductionRun/SnR_Elec_revT006_WB0253_rev002.docx'"
      ]
     },
     "execution_count": 118,
     "metadata": {},
     "output_type": "execute_result"
    }
   ],
   "source": [
    "fns[0].replace('\\\\','/')"
   ]
  },
  {
   "cell_type": "code",
   "execution_count": 119,
   "metadata": {},
   "outputs": [
    {
     "data": {
      "text/plain": [
       "['G:\\\\My Drive\\\\Battrion_AG\\\\DATABASE\\\\Cells\\\\CL2050_OrionGrepow_Run1_WB0198_Impedance\\\\SnR_Draft_CL2050.txt',\n",
       " 'G:\\\\My Drive\\\\Battrion_AG\\\\DATABASE\\\\Cells\\\\CL2050_OrionGrepow_Run1_WB0198_Impedance\\\\desktop.ini']"
      ]
     },
     "execution_count": 119,
     "metadata": {},
     "output_type": "execute_result"
    }
   ],
   "source": [
    "fns = bdb.entity_files('CL2050','*')\n",
    "fns"
   ]
  },
  {
   "cell_type": "code",
   "execution_count": 120,
   "metadata": {},
   "outputs": [
    {
     "data": {
      "text/plain": [
       "{'entity_path': WindowsPath('G:/My Drive/Battrion_AG/DATABASE/RawMaterials/RM0288_JiangxiZichenTechnology_YF3-GT-1_(LG-A)')}"
      ]
     },
     "execution_count": 120,
     "metadata": {},
     "output_type": "execute_result"
    }
   ],
   "source": [
    "bdb.get_entity_properties('RM288')"
   ]
  },
  {
   "cell_type": "code",
   "execution_count": null,
   "metadata": {},
   "outputs": [],
   "source": []
  }
 ],
 "metadata": {
  "kernelspec": {
   "display_name": "Python 3",
   "language": "python",
   "name": "python3"
  },
  "language_info": {
   "codemirror_mode": {
    "name": "ipython",
    "version": 3
   },
   "file_extension": ".py",
   "mimetype": "text/x-python",
   "name": "python",
   "nbconvert_exporter": "python",
   "pygments_lexer": "ipython3",
   "version": "3.6.6"
  },
  "toc": {
   "colors": {
    "hover_highlight": "#DAA520",
    "navigate_num": "#000000",
    "navigate_text": "#333333",
    "running_highlight": "#FF0000",
    "selected_highlight": "#FFD700",
    "sidebar_border": "#EEEEEE",
    "wrapper_background": "#FFFFFF"
   },
   "moveMenuLeft": true,
   "nav_menu": {
    "height": "102px",
    "width": "252px"
   },
   "navigate_menu": true,
   "number_sections": true,
   "sideBar": true,
   "threshold": 4,
   "toc_cell": false,
   "toc_section_display": "block",
   "toc_window_display": false,
   "widenNotebook": false
  }
 },
 "nbformat": 4,
 "nbformat_minor": 2
}
